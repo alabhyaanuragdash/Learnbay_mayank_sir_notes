{
 "cells": [
  {
   "cell_type": "markdown",
   "id": "05b31093",
   "metadata": {},
   "source": [
    "\n",
    "# DICTIONARY"
   ]
  },
  {
   "cell_type": "code",
   "execution_count": 1,
   "id": "639f9498",
   "metadata": {},
   "outputs": [
    {
     "name": "stdout",
     "output_type": "stream",
     "text": [
      "<class 'dict'>\n"
     ]
    }
   ],
   "source": [
    "#duplicates keys not allowed \n",
    "#heterogn objext are allowed for both keys and values #it is not mandatory that all keys are of same type \n",
    "#it is not mandatory that all values are of same type\n",
    "#insertion order is not preserved #mutable\n",
    "#dynamic ==>add, remove\n",
    "#indexing and slicing concept is not there in case of dict\n",
    "#\n",
    "d={}\n",
    "print(type(d))"
   ]
  },
  {
   "cell_type": "code",
   "execution_count": 2,
   "id": "785e3a62",
   "metadata": {},
   "outputs": [
    {
     "name": "stdout",
     "output_type": "stream",
     "text": [
      "{1: 'Amit', 2: 'Sumit', 3: 'Jay'}\n"
     ]
    }
   ],
   "source": [
    "d={1:'Amit',2:'Sumit',3:'Jay'}\n",
    "print(d)"
   ]
  },
  {
   "cell_type": "code",
   "execution_count": 6,
   "id": "c01cb507",
   "metadata": {},
   "outputs": [
    {
     "name": "stdout",
     "output_type": "stream",
     "text": [
      "{1: 'joy', 2: 'Esma', 3: 'ceci'}\n"
     ]
    }
   ],
   "source": [
    "(1,'joy')\n",
    "(2,'Esma')\n",
    "(3,'ceci')\n",
    "l=[(1,'joy'),(2,'Esma'),(3,'ceci')]\n",
    "print(dict(l))"
   ]
  },
  {
   "cell_type": "code",
   "execution_count": 8,
   "id": "dd0d988f",
   "metadata": {},
   "outputs": [
    {
     "data": {
      "text/plain": [
       "{'pankaj': None, 12: None, 13.4: None}"
      ]
     },
     "execution_count": 8,
     "metadata": {},
     "output_type": "execute_result"
    }
   ],
   "source": [
    "#creating a dictionary by providing a list of keys\n",
    "d=dict.fromkeys([\"pankaj\",12,13.4])#fromkeys()==>this key word is used for assign keys and values to a dictionary\n",
    "d#if we only assign keys then by default it return \"None\" as value "
   ]
  },
  {
   "cell_type": "code",
   "execution_count": 11,
   "id": "e50d5487",
   "metadata": {},
   "outputs": [
    {
     "data": {
      "text/plain": [
       "{1: 0, 2: 0, 3: 0, 4: 0}"
      ]
     },
     "execution_count": 11,
     "metadata": {},
     "output_type": "execute_result"
    }
   ],
   "source": [
    "d=dict.fromkeys([1,2,3,4],0)\n",
    "d"
   ]
  },
  {
   "cell_type": "code",
   "execution_count": 12,
   "id": "bd1feedf",
   "metadata": {},
   "outputs": [
    {
     "data": {
      "text/plain": [
       "{1: 23, 2: 71, 'pankaj': [1, 2, 3, 4], 4: 0}"
      ]
     },
     "execution_count": 12,
     "metadata": {},
     "output_type": "execute_result"
    }
   ],
   "source": [
    "d={1: 23, 2: 71, 'pankaj':[1,2,3,4], 4: 0}\n",
    "d"
   ]
  },
  {
   "cell_type": "code",
   "execution_count": 13,
   "id": "167ecd5f",
   "metadata": {},
   "outputs": [
    {
     "data": {
      "text/plain": [
       "23"
      ]
     },
     "execution_count": 13,
     "metadata": {},
     "output_type": "execute_result"
    }
   ],
   "source": [
    "#accecing elements\n",
    "d={1: 23, 2: 71, 'pankaj':[1,2,3,4], 'hari': [23,34,54,56]}\n",
    "d[1]"
   ]
  },
  {
   "cell_type": "code",
   "execution_count": 14,
   "id": "9ac71a82",
   "metadata": {},
   "outputs": [
    {
     "data": {
      "text/plain": [
       "[1, 2, 3, 4]"
      ]
     },
     "execution_count": 14,
     "metadata": {},
     "output_type": "execute_result"
    }
   ],
   "source": [
    "d['pankaj']"
   ]
  },
  {
   "cell_type": "code",
   "execution_count": 15,
   "id": "fa983fd2",
   "metadata": {},
   "outputs": [
    {
     "ename": "KeyError",
     "evalue": "100",
     "output_type": "error",
     "traceback": [
      "\u001b[1;31m---------------------------------------------------------------------------\u001b[0m",
      "\u001b[1;31mKeyError\u001b[0m                                  Traceback (most recent call last)",
      "Cell \u001b[1;32mIn[15], line 1\u001b[0m\n\u001b[1;32m----> 1\u001b[0m d[\u001b[38;5;241m100\u001b[39m]\n",
      "\u001b[1;31mKeyError\u001b[0m: 100"
     ]
    }
   ],
   "source": [
    "d[100]"
   ]
  },
  {
   "cell_type": "code",
   "execution_count": 16,
   "id": "e4d8fe8f",
   "metadata": {},
   "outputs": [
    {
     "data": {
      "text/plain": [
       "{1: 23, 2: 71, 'pankaj': [1, 2, 3, 4], 'hari': [23, 34, 54, 56]}"
      ]
     },
     "execution_count": 16,
     "metadata": {},
     "output_type": "execute_result"
    }
   ],
   "source": [
    "#another way to accese elements\n",
    "d"
   ]
  },
  {
   "cell_type": "code",
   "execution_count": 17,
   "id": "97b7911c",
   "metadata": {},
   "outputs": [
    {
     "data": {
      "text/plain": [
       "23"
      ]
     },
     "execution_count": 17,
     "metadata": {},
     "output_type": "execute_result"
    }
   ],
   "source": [
    "d.get(1)"
   ]
  },
  {
   "cell_type": "code",
   "execution_count": 18,
   "id": "c1eedddf",
   "metadata": {},
   "outputs": [
    {
     "data": {
      "text/plain": [
       "[1, 2, 3, 4]"
      ]
     },
     "execution_count": 18,
     "metadata": {},
     "output_type": "execute_result"
    }
   ],
   "source": [
    "d.get('pankaj')"
   ]
  },
  {
   "cell_type": "code",
   "execution_count": 20,
   "id": "885e0961",
   "metadata": {},
   "outputs": [
    {
     "name": "stdout",
     "output_type": "stream",
     "text": [
      "None\n"
     ]
    }
   ],
   "source": [
    "print(d.get(100))"
   ]
  },
  {
   "cell_type": "code",
   "execution_count": 21,
   "id": "9312e818",
   "metadata": {},
   "outputs": [
    {
     "name": "stdout",
     "output_type": "stream",
     "text": [
      "0\n"
     ]
    }
   ],
   "source": [
    "#it state if \"d\"dictionary contain 100 key then it return it's value otherwise it return 0\n",
    "print(d.get(100,0))"
   ]
  },
  {
   "cell_type": "code",
   "execution_count": 22,
   "id": "e7d79d9f",
   "metadata": {},
   "outputs": [
    {
     "data": {
      "text/plain": [
       "dict_keys"
      ]
     },
     "execution_count": 22,
     "metadata": {},
     "output_type": "execute_result"
    }
   ],
   "source": [
    "type(d.keys())"
   ]
  },
  {
   "cell_type": "code",
   "execution_count": 24,
   "id": "1cd4e5cf",
   "metadata": {},
   "outputs": [
    {
     "data": {
      "text/plain": [
       "dict_keys([1, 2, 'pankaj', 'hari'])"
      ]
     },
     "execution_count": 24,
     "metadata": {},
     "output_type": "execute_result"
    }
   ],
   "source": [
    "#d.keys()==>is used for extract all the keys from a dictionary\n",
    "d.keys()"
   ]
  },
  {
   "cell_type": "code",
   "execution_count": 23,
   "id": "96ab05e5",
   "metadata": {},
   "outputs": [
    {
     "data": {
      "text/plain": [
       "dict_values([23, 71, [1, 2, 3, 4], [23, 34, 54, 56]])"
      ]
     },
     "execution_count": 23,
     "metadata": {},
     "output_type": "execute_result"
    }
   ],
   "source": [
    "#d.values()==>is used for extract all the values from a dictionary\n",
    "d.values()"
   ]
  },
  {
   "cell_type": "code",
   "execution_count": 25,
   "id": "f39bd110",
   "metadata": {},
   "outputs": [
    {
     "data": {
      "text/plain": [
       "dict_values"
      ]
     },
     "execution_count": 25,
     "metadata": {},
     "output_type": "execute_result"
    }
   ],
   "source": [
    "type(d.values())"
   ]
  },
  {
   "cell_type": "code",
   "execution_count": 27,
   "id": "ab60bc7a",
   "metadata": {},
   "outputs": [
    {
     "data": {
      "text/plain": [
       "dict_items([(1, 23), (2, 71), ('pankaj', [1, 2, 3, 4]), ('hari', [23, 34, 54, 56])])"
      ]
     },
     "execution_count": 27,
     "metadata": {},
     "output_type": "execute_result"
    }
   ],
   "source": [
    "#d.items()==>is used for extract all the (key:values)pairs from a dictionary\n",
    "d.items()"
   ]
  },
  {
   "cell_type": "code",
   "execution_count": 28,
   "id": "d42ea56c",
   "metadata": {},
   "outputs": [
    {
     "name": "stdout",
     "output_type": "stream",
     "text": [
      "1\n",
      "2\n",
      "pankaj\n",
      "hari\n"
     ]
    }
   ],
   "source": [
    "#how to iterate on dict\n",
    "for x in d:#here x iterate the key\n",
    "    print(x)"
   ]
  },
  {
   "cell_type": "code",
   "execution_count": 32,
   "id": "45fc69b5",
   "metadata": {},
   "outputs": [
    {
     "name": "stdout",
     "output_type": "stream",
     "text": [
      "23\n",
      "71\n",
      "[1, 2, 3, 4]\n",
      "[23, 34, 54, 56]\n"
     ]
    }
   ],
   "source": [
    "#how to iterate on dict\n",
    "for x in d:#here x iterate the key\n",
    "    print(d[x])#==>iterated keys value"
   ]
  },
  {
   "cell_type": "code",
   "execution_count": 33,
   "id": "26944bf2",
   "metadata": {},
   "outputs": [
    {
     "ename": "KeyError",
     "evalue": "1",
     "output_type": "error",
     "traceback": [
      "\u001b[1;31m---------------------------------------------------------------------------\u001b[0m",
      "\u001b[1;31mKeyError\u001b[0m                                  Traceback (most recent call last)",
      "Cell \u001b[1;32mIn[33], line 2\u001b[0m\n\u001b[0;32m      1\u001b[0m a\u001b[38;5;241m=\u001b[39m{}\n\u001b[1;32m----> 2\u001b[0m \u001b[38;5;28mprint\u001b[39m(a[\u001b[38;5;241m1\u001b[39m])\n",
      "\u001b[1;31mKeyError\u001b[0m: 1"
     ]
    }
   ],
   "source": [
    "a={}\n",
    "print(a[1])"
   ]
  },
  {
   "cell_type": "code",
   "execution_count": 35,
   "id": "e8965d67",
   "metadata": {},
   "outputs": [
    {
     "data": {
      "text/plain": [
       "{1: 'Amit'}"
      ]
     },
     "execution_count": 35,
     "metadata": {},
     "output_type": "execute_result"
    }
   ],
   "source": [
    "a[1]='Amit'\n",
    "a"
   ]
  },
  {
   "cell_type": "code",
   "execution_count": 36,
   "id": "8787f50c",
   "metadata": {},
   "outputs": [
    {
     "data": {
      "text/plain": [
       "{1: 'Amit', 2: 'Pankaj'}"
      ]
     },
     "execution_count": 36,
     "metadata": {},
     "output_type": "execute_result"
    }
   ],
   "source": [
    "a[2]='Pankaj'\n",
    "a"
   ]
  },
  {
   "cell_type": "code",
   "execution_count": 41,
   "id": "e5f6d495",
   "metadata": {},
   "outputs": [],
   "source": [
    "a={1: 23, 2: 71, 'pankaj': 21}\n",
    "b={1: 'Amit', 2: 'joy'}\n",
    "a.update(b)#from common pairs==>pairs b comes to a"
   ]
  },
  {
   "cell_type": "code",
   "execution_count": 42,
   "id": "5f25a956",
   "metadata": {},
   "outputs": [
    {
     "data": {
      "text/plain": [
       "{1: 'Amit', 2: 'joy', 'pankaj': 21}"
      ]
     },
     "execution_count": 42,
     "metadata": {},
     "output_type": "execute_result"
    }
   ],
   "source": [
    "a"
   ]
  },
  {
   "cell_type": "code",
   "execution_count": 51,
   "id": "d23244cf",
   "metadata": {},
   "outputs": [
    {
     "name": "stdout",
     "output_type": "stream",
     "text": [
      "Enter a string :-raju gote maghia au raju tw parama magia\n",
      "{'raju': 2, 'gote': 1, 'maghia': 1, 'au': 1, 'tw': 1, 'parama': 1, 'magia': 1}\n"
     ]
    }
   ],
   "source": [
    "#write a code check word frequency in a dictionary format\n",
    "s=input(\"Enter a string :-\")\n",
    "l=[]\n",
    "d={}\n",
    "l=s.split()\n",
    "for word in l:\n",
    "    if word in d:\n",
    "        d[word]=d[word]+1\n",
    "    else:\n",
    "        d[word]=1\n",
    "print(d)"
   ]
  },
  {
   "cell_type": "code",
   "execution_count": 55,
   "id": "6ba74d5c",
   "metadata": {},
   "outputs": [
    {
     "data": {
      "text/plain": [
       "{2: 71, 'pankaj': 21}"
      ]
     },
     "execution_count": 55,
     "metadata": {},
     "output_type": "execute_result"
    }
   ],
   "source": [
    "a={1: 23, 2: 71, 'pankaj': 21}\n",
    "del a[1]\n",
    "a"
   ]
  },
  {
   "cell_type": "code",
   "execution_count": 56,
   "id": "25e78070",
   "metadata": {},
   "outputs": [
    {
     "data": {
      "text/plain": [
       "{}"
      ]
     },
     "execution_count": 56,
     "metadata": {},
     "output_type": "execute_result"
    }
   ],
   "source": [
    "a.clear()\n",
    "a"
   ]
  },
  {
   "cell_type": "code",
   "execution_count": null,
   "id": "06faa301",
   "metadata": {},
   "outputs": [],
   "source": []
  }
 ],
 "metadata": {
  "kernelspec": {
   "display_name": "Python 3 (ipykernel)",
   "language": "python",
   "name": "python3"
  },
  "language_info": {
   "codemirror_mode": {
    "name": "ipython",
    "version": 3
   },
   "file_extension": ".py",
   "mimetype": "text/x-python",
   "name": "python",
   "nbconvert_exporter": "python",
   "pygments_lexer": "ipython3",
   "version": "3.11.5"
  }
 },
 "nbformat": 4,
 "nbformat_minor": 5
}
