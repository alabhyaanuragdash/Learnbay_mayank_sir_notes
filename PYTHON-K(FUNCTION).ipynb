{
 "cells": [
  {
   "cell_type": "code",
   "execution_count": 6,
   "id": "8413971a",
   "metadata": {},
   "outputs": [],
   "source": [
    "#FUNCTION:-\n",
    "#Function gives us the  feature of reusability of an operation multiple time\n",
    "#Function is 2 types i.e:-   1. inbuild function(print(),sort(),........)  2.user define function\n",
    "def factorial(n):\n",
    "    prod=1\n",
    "    for x in range(1,n+1):\n",
    "        prod=prod*x\n",
    "    return prod"
   ]
  },
  {
   "cell_type": "code",
   "execution_count": 9,
   "id": "645428bc",
   "metadata": {},
   "outputs": [
    {
     "name": "stdout",
     "output_type": "stream",
     "text": [
      "120\n"
     ]
    }
   ],
   "source": [
    "a=factorial(5)\n",
    "print(a)"
   ]
  },
  {
   "cell_type": "code",
   "execution_count": null,
   "id": "fbbac64f",
   "metadata": {},
   "outputs": [],
   "source": []
  },
  {
   "cell_type": "code",
   "execution_count": 10,
   "id": "b4a98f56",
   "metadata": {},
   "outputs": [
    {
     "name": "stdout",
     "output_type": "stream",
     "text": [
      "1\n",
      "2\n",
      "6\n",
      "24\n",
      "120\n",
      "720\n",
      "5040\n",
      "40320\n",
      "362880\n"
     ]
    }
   ],
   "source": [
    "for i in range(1,10):\n",
    "    print(factorial(i))"
   ]
  },
  {
   "cell_type": "code",
   "execution_count": 12,
   "id": "62894b0f",
   "metadata": {},
   "outputs": [],
   "source": [
    "#addition function\n",
    "def add(a,b):\n",
    "    c=a+b\n",
    "    return c"
   ]
  },
  {
   "cell_type": "code",
   "execution_count": 13,
   "id": "64ddfe72",
   "metadata": {},
   "outputs": [
    {
     "data": {
      "text/plain": [
       "8"
      ]
     },
     "execution_count": 13,
     "metadata": {},
     "output_type": "execute_result"
    }
   ],
   "source": [
    "add(2,6)#we have to give sufficient arguement otherwise it gives error"
   ]
  },
  {
   "cell_type": "code",
   "execution_count": 17,
   "id": "3a6b623d",
   "metadata": {},
   "outputs": [],
   "source": [
    "def prime(n):\n",
    "    for x in range(2,n):\n",
    "        if n%x==0:\n",
    "            break\n",
    "        else:\n",
    "            return True\n",
    "    return False"
   ]
  },
  {
   "cell_type": "code",
   "execution_count": 18,
   "id": "28d9d3e6",
   "metadata": {},
   "outputs": [
    {
     "data": {
      "text/plain": [
       "True"
      ]
     },
     "execution_count": 18,
     "metadata": {},
     "output_type": "execute_result"
    }
   ],
   "source": [
    "prime(19)"
   ]
  },
  {
   "cell_type": "code",
   "execution_count": 19,
   "id": "9dfa572e",
   "metadata": {},
   "outputs": [
    {
     "data": {
      "text/plain": [
       "False"
      ]
     },
     "execution_count": 19,
     "metadata": {},
     "output_type": "execute_result"
    }
   ],
   "source": [
    "prime(100)"
   ]
  },
  {
   "cell_type": "code",
   "execution_count": 20,
   "id": "97d7e405",
   "metadata": {},
   "outputs": [
    {
     "name": "stdout",
     "output_type": "stream",
     "text": [
      "11 is prime:- True\n",
      "12 is prime:- False\n",
      "13 is prime:- True\n",
      "14 is prime:- False\n",
      "15 is prime:- True\n",
      "16 is prime:- False\n",
      "17 is prime:- True\n",
      "18 is prime:- False\n",
      "19 is prime:- True\n",
      "20 is prime:- False\n",
      "21 is prime:- True\n",
      "22 is prime:- False\n",
      "23 is prime:- True\n",
      "24 is prime:- False\n"
     ]
    }
   ],
   "source": [
    "for i in range(11,25):\n",
    "    print(i,\"is prime:-\",prime(i))"
   ]
  },
  {
   "cell_type": "code",
   "execution_count": 24,
   "id": "9a97edfa",
   "metadata": {},
   "outputs": [
    {
     "name": "stdout",
     "output_type": "stream",
     "text": [
      "11\n",
      "10\n"
     ]
    }
   ],
   "source": [
    "#global variable\n",
    "#it define before the function creating\n",
    "#it can be access in side the function @outside also\n",
    "a=10\n",
    "def f():\n",
    "    a1=11\n",
    "    print(a1)\n",
    "f()\n",
    "print(a)#global"
   ]
  },
  {
   "cell_type": "code",
   "execution_count": 25,
   "id": "e0d757f7",
   "metadata": {},
   "outputs": [
    {
     "name": "stdout",
     "output_type": "stream",
     "text": [
      "11\n",
      "12\n",
      "13\n"
     ]
    }
   ],
   "source": [
    "x=11\n",
    "def f():\n",
    "    y=12\n",
    "    print(x)\n",
    "    print(y)\n",
    "f()\n",
    "x=13\n",
    "print(x)"
   ]
  },
  {
   "cell_type": "code",
   "execution_count": 26,
   "id": "1e1378cf",
   "metadata": {},
   "outputs": [
    {
     "name": "stdout",
     "output_type": "stream",
     "text": [
      "13\n",
      "13\n",
      "12\n"
     ]
    }
   ],
   "source": [
    "x=11\n",
    "def f():\n",
    "    y=12\n",
    "    print(x)\n",
    "    print(y)\n",
    "x=13\n",
    "print(x)#here x value also have been changed for function\n",
    "f()"
   ]
  },
  {
   "cell_type": "code",
   "execution_count": 29,
   "id": "11f63cbe",
   "metadata": {},
   "outputs": [
    {
     "name": "stdout",
     "output_type": "stream",
     "text": [
      "110\n",
      "110\n",
      "120\n"
     ]
    }
   ],
   "source": [
    "x=110\n",
    "def f():\n",
    "    y=120\n",
    "    print(x)\n",
    "    print(y)\n",
    "\n",
    "print(x)\n",
    "f()"
   ]
  },
  {
   "cell_type": "raw",
   "id": "4414bcc0",
   "metadata": {},
   "source": [
    "ARGUMENT IN FUNCTION"
   ]
  },
  {
   "cell_type": "code",
   "execution_count": 11,
   "id": "198364cb",
   "metadata": {},
   "outputs": [],
   "source": [
    "# In python we have facility to return more than 1 values\n",
    "def f(a,b):# function return addition & substraction\n",
    "    \"\"\"this function return addition & substraction\"\"\"\n",
    "    return a+b,a-b"
   ]
  },
  {
   "cell_type": "code",
   "execution_count": 3,
   "id": "9590cd99",
   "metadata": {},
   "outputs": [
    {
     "name": "stdout",
     "output_type": "stream",
     "text": [
      "(51, 9)\n"
     ]
    }
   ],
   "source": [
    "x=f(30,21)\n",
    "print(x)"
   ]
  },
  {
   "cell_type": "code",
   "execution_count": 4,
   "id": "a6b131e6",
   "metadata": {},
   "outputs": [
    {
     "name": "stdout",
     "output_type": "stream",
     "text": [
      "30\n",
      "-10\n"
     ]
    }
   ],
   "source": [
    "z,y=f(10,20)\n",
    "print(z)\n",
    "print(y)"
   ]
  },
  {
   "cell_type": "code",
   "execution_count": 5,
   "id": "b358a2ef",
   "metadata": {},
   "outputs": [
    {
     "data": {
      "text/plain": [
       "tuple"
      ]
     },
     "execution_count": 5,
     "metadata": {},
     "output_type": "execute_result"
    }
   ],
   "source": [
    "type(f(30,21))"
   ]
  },
  {
   "cell_type": "code",
   "execution_count": 7,
   "id": "81175af7",
   "metadata": {},
   "outputs": [],
   "source": [
    "f.__doc__#object__doc__"
   ]
  },
  {
   "cell_type": "code",
   "execution_count": 12,
   "id": "0748c0b0",
   "metadata": {},
   "outputs": [
    {
     "name": "stdout",
     "output_type": "stream",
     "text": [
      "this function return addition & substraction\n"
     ]
    }
   ],
   "source": [
    "print(f.__doc__)\"\"\"it shows the line in triple quote \"\"\""
   ]
  },
  {
   "cell_type": "code",
   "execution_count": 13,
   "id": "118d4aa6",
   "metadata": {},
   "outputs": [
    {
     "name": "stdout",
     "output_type": "stream",
     "text": [
      "0\n"
     ]
    }
   ],
   "source": [
    "#Position Arguement\n",
    "def g(a,b,c):\n",
    "    return a+b-c\n",
    "x=g(10,20,30)\n",
    "print(x)"
   ]
  },
  {
   "cell_type": "code",
   "execution_count": 14,
   "id": "0ab664fa",
   "metadata": {},
   "outputs": [
    {
     "name": "stdout",
     "output_type": "stream",
     "text": [
      "0\n"
     ]
    }
   ],
   "source": [
    "x=g(20,10,30)\n",
    "print(x)"
   ]
  },
  {
   "cell_type": "code",
   "execution_count": 15,
   "id": "747d07d3",
   "metadata": {},
   "outputs": [
    {
     "name": "stdout",
     "output_type": "stream",
     "text": [
      "20\n"
     ]
    }
   ],
   "source": [
    "x=g(10,30,20)\n",
    "print(x)"
   ]
  },
  {
   "cell_type": "code",
   "execution_count": 16,
   "id": "f6dbaba4",
   "metadata": {},
   "outputs": [
    {
     "ename": "TypeError",
     "evalue": "g() missing 2 required positional arguments: 'b' and 'c'",
     "output_type": "error",
     "traceback": [
      "\u001b[1;31m---------------------------------------------------------------------------\u001b[0m",
      "\u001b[1;31mTypeError\u001b[0m                                 Traceback (most recent call last)",
      "Cell \u001b[1;32mIn[16], line 3\u001b[0m\n\u001b[0;32m      1\u001b[0m \u001b[38;5;66;03m#the no. of argument must be same\u001b[39;00m\n\u001b[0;32m      2\u001b[0m \u001b[38;5;66;03m# if no. of arguement not same=> Error\u001b[39;00m\n\u001b[1;32m----> 3\u001b[0m g(\u001b[38;5;241m21\u001b[39m)\n",
      "\u001b[1;31mTypeError\u001b[0m: g() missing 2 required positional arguments: 'b' and 'c'"
     ]
    }
   ],
   "source": [
    "#the no. of argument must be same\n",
    "# if no. of arguement not same=> Error\n",
    "g(21)"
   ]
  },
  {
   "cell_type": "code",
   "execution_count": 17,
   "id": "d9df20f9",
   "metadata": {},
   "outputs": [],
   "source": [
    "#keyword arguments \n",
    "#f(name, age, dob, marital status, phone_number)\n",
    "\n",
    "#call it===> any order is possible now with keyword as argument name\n",
    "#f(age=34, name=\"pankaj\", phone_number=9627901***, marital_status='single')\n"
   ]
  },
  {
   "cell_type": "code",
   "execution_count": 18,
   "id": "497113d6",
   "metadata": {},
   "outputs": [
    {
     "data": {
      "text/plain": [
       "100"
      ]
     },
     "execution_count": 18,
     "metadata": {},
     "output_type": "execute_result"
    }
   ],
   "source": [
    "def f(a,b,c,d):\n",
    "    return a+b+c+d\n",
    "f(10,20,30,40)"
   ]
  },
  {
   "cell_type": "code",
   "execution_count": 19,
   "id": "8ae19407",
   "metadata": {},
   "outputs": [
    {
     "data": {
      "text/plain": [
       "100"
      ]
     },
     "execution_count": 19,
     "metadata": {},
     "output_type": "execute_result"
    }
   ],
   "source": [
    "f(b=20,d=40,a=10,c=30)"
   ]
  },
  {
   "cell_type": "code",
   "execution_count": 20,
   "id": "6e8772c1",
   "metadata": {},
   "outputs": [
    {
     "ename": "SyntaxError",
     "evalue": "positional argument follows keyword argument (1173309205.py, line 1)",
     "output_type": "error",
     "traceback": [
      "\u001b[1;36m  Cell \u001b[1;32mIn[20], line 1\u001b[1;36m\u001b[0m\n\u001b[1;33m    f(b=20,a=10,30,40)\u001b[0m\n\u001b[1;37m                     ^\u001b[0m\n\u001b[1;31mSyntaxError\u001b[0m\u001b[1;31m:\u001b[0m positional argument follows keyword argument\n"
     ]
    }
   ],
   "source": [
    "f(b=20,a=10,30,40)"
   ]
  },
  {
   "cell_type": "code",
   "execution_count": 21,
   "id": "e75e26ad",
   "metadata": {},
   "outputs": [
    {
     "ename": "TypeError",
     "evalue": "f() got multiple values for argument 'a'",
     "output_type": "error",
     "traceback": [
      "\u001b[1;31m---------------------------------------------------------------------------\u001b[0m",
      "\u001b[1;31mTypeError\u001b[0m                                 Traceback (most recent call last)",
      "Cell \u001b[1;32mIn[21], line 1\u001b[0m\n\u001b[1;32m----> 1\u001b[0m f(\u001b[38;5;241m20\u001b[39m,\u001b[38;5;241m40\u001b[39m,a\u001b[38;5;241m=\u001b[39m\u001b[38;5;241m10\u001b[39m,c\u001b[38;5;241m=\u001b[39m\u001b[38;5;241m30\u001b[39m)\n",
      "\u001b[1;31mTypeError\u001b[0m: f() got multiple values for argument 'a'"
     ]
    }
   ],
   "source": [
    "f(20,40,a=10,c=30)"
   ]
  },
  {
   "cell_type": "code",
   "execution_count": 22,
   "id": "f880d7c2",
   "metadata": {},
   "outputs": [
    {
     "data": {
      "text/plain": [
       "100"
      ]
     },
     "execution_count": 22,
     "metadata": {},
     "output_type": "execute_result"
    }
   ],
   "source": [
    "f(10,20,d=40,c=30)#we can always write positional arguement 1st then keyword arguement"
   ]
  },
  {
   "cell_type": "code",
   "execution_count": 23,
   "id": "f5aa9e2a",
   "metadata": {},
   "outputs": [
    {
     "data": {
      "text/plain": [
       "30"
      ]
     },
     "execution_count": 23,
     "metadata": {},
     "output_type": "execute_result"
    }
   ],
   "source": [
    "#in general we have to give same no. of arguement in input otherwise we get Error\n",
    "#to overcome this thing we have \"default argument\"\n",
    "#in default argument we have to define the default value at the time of function creation\n",
    "def f(a,b,c=0):\n",
    "    return a+b+c\n",
    "f(10,20)#here we don't get Error,we get 30"
   ]
  },
  {
   "cell_type": "code",
   "execution_count": 24,
   "id": "17e5e700",
   "metadata": {},
   "outputs": [
    {
     "data": {
      "text/plain": [
       "60"
      ]
     },
     "execution_count": 24,
     "metadata": {},
     "output_type": "execute_result"
    }
   ],
   "source": [
    "f(10,20,30)#when we assign the value of \"c\" then it take that insted of default value 0 "
   ]
  },
  {
   "cell_type": "code",
   "execution_count": 25,
   "id": "520a07c0",
   "metadata": {},
   "outputs": [],
   "source": [
    "#suppose we have to take 'N' no. of input\n",
    "# in that case we can use *n in function\n",
    "def f(*n):\n",
    "    sum=0\n",
    "    for x in n:\n",
    "        sum=sum+x\n",
    "    return sum"
   ]
  },
  {
   "cell_type": "code",
   "execution_count": 26,
   "id": "c74b939a",
   "metadata": {},
   "outputs": [
    {
     "data": {
      "text/plain": [
       "30"
      ]
     },
     "execution_count": 26,
     "metadata": {},
     "output_type": "execute_result"
    }
   ],
   "source": [
    "f(10,20)"
   ]
  },
  {
   "cell_type": "code",
   "execution_count": 27,
   "id": "ce036fa1",
   "metadata": {},
   "outputs": [
    {
     "data": {
      "text/plain": [
       "330"
      ]
     },
     "execution_count": 27,
     "metadata": {},
     "output_type": "execute_result"
    }
   ],
   "source": [
    "f(10,20,30,40,50,50,60,70)"
   ]
  },
  {
   "cell_type": "code",
   "execution_count": 28,
   "id": "8ca79b27",
   "metadata": {},
   "outputs": [
    {
     "name": "stdout",
     "output_type": "stream",
     "text": [
      "Help on built-in function print in module builtins:\n",
      "\n",
      "print(*args, sep=' ', end='\\n', file=None, flush=False)\n",
      "    Prints the values to a stream, or to sys.stdout by default.\n",
      "    \n",
      "    sep\n",
      "      string inserted between values, default a space.\n",
      "    end\n",
      "      string appended after the last value, default a newline.\n",
      "    file\n",
      "      a file-like object (stream); defaults to the current sys.stdout.\n",
      "    flush\n",
      "      whether to forcibly flush the stream.\n",
      "\n"
     ]
    }
   ],
   "source": [
    "help(print)"
   ]
  },
  {
   "cell_type": "code",
   "execution_count": 29,
   "id": "82f61002",
   "metadata": {},
   "outputs": [],
   "source": [
    "def f(**kwargs):\n",
    "    for k,v in kwargs.items():\n",
    "        print(\"key is\", k, \"value is\",v)\n",
    "        \n",
    "#dict.items() =>>pairs key-value\n",
    "#dict.keys()\n",
    "#dict.values()"
   ]
  },
  {
   "cell_type": "code",
   "execution_count": 35,
   "id": "be9a7b32",
   "metadata": {},
   "outputs": [
    {
     "name": "stdout",
     "output_type": "stream",
     "text": [
      "key is a value is 1\n",
      "key is b value is pankaj\n",
      "key is c value is 12.34\n",
      "key is d value is [1, 2, 3, 4]\n"
     ]
    }
   ],
   "source": [
    "f(a=1, b=\"pankaj\", c=12.34, d=[1,2,3,4])"
   ]
  },
  {
   "cell_type": "code",
   "execution_count": 36,
   "id": "f0ed445b",
   "metadata": {},
   "outputs": [
    {
     "name": "stdout",
     "output_type": "stream",
     "text": [
      "64\n"
     ]
    }
   ],
   "source": [
    "#Anonymous function\n",
    "#lambda==>syntax==>[lambda argument: expression]\n",
    "s=lambda x:x*x*x\n",
    "print(s(4))"
   ]
  },
  {
   "cell_type": "code",
   "execution_count": 37,
   "id": "4104a408",
   "metadata": {},
   "outputs": [
    {
     "name": "stdout",
     "output_type": "stream",
     "text": [
      "600\n"
     ]
    }
   ],
   "source": [
    "s=lambda a,b:a*b\n",
    "print(s(20,30))"
   ]
  },
  {
   "cell_type": "code",
   "execution_count": 38,
   "id": "71858a8b",
   "metadata": {},
   "outputs": [
    {
     "name": "stdout",
     "output_type": "stream",
     "text": [
      "4\n"
     ]
    }
   ],
   "source": [
    "s=lambda a,b:a if a>b else b\n",
    "print(s(3,4))"
   ]
  },
  {
   "cell_type": "code",
   "execution_count": 42,
   "id": "1aa24d22",
   "metadata": {},
   "outputs": [
    {
     "name": "stdout",
     "output_type": "stream",
     "text": [
      "[12, 15]\n"
     ]
    }
   ],
   "source": [
    "#filter\n",
    "def f(x):\n",
    "    if x%3==0:\n",
    "        return True\n",
    "    else:\n",
    "        return False\n",
    "output=list(filter(f,[11,12,13,14,15]))\n",
    "print(output)\n",
    "    "
   ]
  },
  {
   "cell_type": "code",
   "execution_count": 45,
   "id": "05b1e330",
   "metadata": {},
   "outputs": [
    {
     "data": {
      "text/plain": [
       "[12, 15]"
      ]
     },
     "execution_count": 45,
     "metadata": {},
     "output_type": "execute_result"
    }
   ],
   "source": [
    "out=list(filter(lambda x :x%3==0,[11,12,13,14,15]))\n",
    "out"
   ]
  },
  {
   "cell_type": "code",
   "execution_count": 46,
   "id": "f971a30b",
   "metadata": {},
   "outputs": [
    {
     "name": "stdout",
     "output_type": "stream",
     "text": [
      "[1331, 1728, 2197, 2744, 3375]\n"
     ]
    }
   ],
   "source": [
    "#map\n",
    "def f(x):\n",
    "    return x*x*x\n",
    "output=list(map(f,[11,12,13,14,15]))\n",
    "print(output)"
   ]
  },
  {
   "cell_type": "code",
   "execution_count": 47,
   "id": "55bcfcd4",
   "metadata": {},
   "outputs": [
    {
     "data": {
      "text/plain": [
       "[1331, 1728, 2197, 2744, 3375]"
      ]
     },
     "execution_count": 47,
     "metadata": {},
     "output_type": "execute_result"
    }
   ],
   "source": [
    "out=list(map(lambda x :x*x*x,[11,12,13,14,15]))\n",
    "out"
   ]
  },
  {
   "cell_type": "code",
   "execution_count": 48,
   "id": "6fc4276d",
   "metadata": {},
   "outputs": [
    {
     "data": {
      "text/plain": [
       "[7, 9, 11, 13]"
      ]
     },
     "execution_count": 48,
     "metadata": {},
     "output_type": "execute_result"
    }
   ],
   "source": [
    "a=[1,2,3,4,5]\n",
    "b=[6,7,8,9]\n",
    "out=list(map(lambda x,y :x+y,a,b))\n",
    "out"
   ]
  },
  {
   "cell_type": "code",
   "execution_count": 49,
   "id": "bf5707cb",
   "metadata": {},
   "outputs": [],
   "source": [
    "def f(x):\n",
    "    return x*x*x\n",
    "g=f"
   ]
  },
  {
   "cell_type": "code",
   "execution_count": 50,
   "id": "a1eb7a1c",
   "metadata": {},
   "outputs": [
    {
     "data": {
      "text/plain": [
       "8"
      ]
     },
     "execution_count": 50,
     "metadata": {},
     "output_type": "execute_result"
    }
   ],
   "source": [
    "f(2)"
   ]
  },
  {
   "cell_type": "code",
   "execution_count": 51,
   "id": "a17ab80d",
   "metadata": {},
   "outputs": [
    {
     "data": {
      "text/plain": [
       "8"
      ]
     },
     "execution_count": 51,
     "metadata": {},
     "output_type": "execute_result"
    }
   ],
   "source": [
    "g(2)"
   ]
  },
  {
   "cell_type": "code",
   "execution_count": 52,
   "id": "939c2105",
   "metadata": {},
   "outputs": [
    {
     "name": "stdout",
     "output_type": "stream",
     "text": [
      "start1\n",
      "start2\n",
      "Start3\n",
      "End3\n",
      "end2\n",
      "end1\n"
     ]
    }
   ],
   "source": [
    "def f1():\n",
    "    print(\"start1\")\n",
    "    f2()\n",
    "    print(\"end1\")\n",
    "def f2():\n",
    "    print(\"start2\")\n",
    "    f3()\n",
    "    print(\"end2\")\n",
    "def f3():\n",
    "    print(\"Start3\")\n",
    "    print(\"End3\")\n",
    "    \n",
    "f1()"
   ]
  },
  {
   "cell_type": "code",
   "execution_count": 2,
   "id": "6749a55c",
   "metadata": {},
   "outputs": [
    {
     "data": {
      "text/plain": [
       "36"
      ]
     },
     "execution_count": 2,
     "metadata": {},
     "output_type": "execute_result"
    }
   ],
   "source": [
    "def add(a,b=10,c=5):\n",
    "    return a+b+c\n",
    "\n",
    "add(a=21)"
   ]
  },
  {
   "cell_type": "code",
   "execution_count": null,
   "id": "b7bc7b6a",
   "metadata": {},
   "outputs": [],
   "source": []
  }
 ],
 "metadata": {
  "kernelspec": {
   "display_name": "Python 3 (ipykernel)",
   "language": "python",
   "name": "python3"
  },
  "language_info": {
   "codemirror_mode": {
    "name": "ipython",
    "version": 3
   },
   "file_extension": ".py",
   "mimetype": "text/x-python",
   "name": "python",
   "nbconvert_exporter": "python",
   "pygments_lexer": "ipython3",
   "version": "3.11.5"
  }
 },
 "nbformat": 4,
 "nbformat_minor": 5
}
