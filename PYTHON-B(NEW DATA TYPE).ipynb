{
 "cells": [
  {
   "cell_type": "markdown",
   "id": "405250b8",
   "metadata": {},
   "source": [
    "# DATA TYPE(NEW TYPE)"
   ]
  },
  {
   "cell_type": "markdown",
   "id": "794a9759",
   "metadata": {},
   "source": [
    "BASIC DATATYPE and Operations(LIST,TUPLE,SET,DICTIONARY)"
   ]
  },
  {
   "cell_type": "code",
   "execution_count": 2,
   "id": "60a29e4b",
   "metadata": {},
   "outputs": [
    {
     "name": "stdout",
     "output_type": "stream",
     "text": [
      "[1, 12.4, (2+4j), 'banty', True]\n"
     ]
    }
   ],
   "source": [
    "#LIST:-\n",
    "#Group of element\n",
    "#heteroginious data\n",
    "#indexing\n",
    "#duplicate element allow\n",
    "#Syntax:-[ , , ,]\n",
    "l=[1,12.4,2+4j,'banty',True]\n",
    "print(l)"
   ]
  },
  {
   "cell_type": "code",
   "execution_count": 4,
   "id": "666e783d",
   "metadata": {},
   "outputs": [
    {
     "name": "stdout",
     "output_type": "stream",
     "text": [
      "1 1\n",
      "12.4 12.4\n",
      "(2+4j) (2+4j)\n",
      "banty banty\n",
      "True True\n"
     ]
    }
   ],
   "source": [
    "#indexing\n",
    "print(l[0],l[-5])\n",
    "print(l[1],l[-4])\n",
    "print(l[2],l[-3])\n",
    "print(l[3],l[-2])\n",
    "print(l[4],l[-1])"
   ]
  },
  {
   "cell_type": "code",
   "execution_count": 7,
   "id": "156cb5b9",
   "metadata": {},
   "outputs": [
    {
     "data": {
      "text/plain": [
       "[12.4, (2+4j), 'banty', True]"
      ]
     },
     "execution_count": 7,
     "metadata": {},
     "output_type": "execute_result"
    }
   ],
   "source": [
    "#slicing\n",
    "l[1:5]"
   ]
  },
  {
   "cell_type": "code",
   "execution_count": 10,
   "id": "3d0c1c37",
   "metadata": {},
   "outputs": [
    {
     "name": "stdout",
     "output_type": "stream",
     "text": [
      "[1, 12.4, (2+4j), 'banty', True, 35, 35, 3]\n"
     ]
    }
   ],
   "source": [
    "#append()==>used to add an element to a list at the end\n",
    "l.append(3)\n",
    "print(l)"
   ]
  },
  {
   "cell_type": "code",
   "execution_count": 12,
   "id": "c9596d60",
   "metadata": {},
   "outputs": [
    {
     "name": "stdout",
     "output_type": "stream",
     "text": [
      "[1, 12.4, (2+4j), 'banty', True, 3]\n"
     ]
    }
   ],
   "source": [
    "#remove()==> used to remove an element from a list\n",
    "#it only remove the 1st occurance from a list(if there are duplicate element available)\n",
    "l.remove(35)\n",
    "print(l)"
   ]
  },
  {
   "cell_type": "code",
   "execution_count": 13,
   "id": "3664e184",
   "metadata": {},
   "outputs": [
    {
     "name": "stdout",
     "output_type": "stream",
     "text": [
      "<class 'tuple'>\n"
     ]
    }
   ],
   "source": [
    "#TUPLE:-\n",
    "#same as LIST but cant't be changed means no further change\n",
    "#Syntax:-( , , ,)\n",
    "t=(1,12.4,2+4j,'banty',True)\n",
    "print(type(t))"
   ]
  },
  {
   "cell_type": "code",
   "execution_count": 14,
   "id": "28957877",
   "metadata": {},
   "outputs": [
    {
     "ename": "TypeError",
     "evalue": "'tuple' object does not support item assignment",
     "output_type": "error",
     "traceback": [
      "\u001b[1;31m---------------------------------------------------------------------------\u001b[0m",
      "\u001b[1;31mTypeError\u001b[0m                                 Traceback (most recent call last)",
      "Cell \u001b[1;32mIn[14], line 1\u001b[0m\n\u001b[1;32m----> 1\u001b[0m t[\u001b[38;5;241m0\u001b[39m]\u001b[38;5;241m=\u001b[39m\u001b[38;5;241m12\u001b[39m\n",
      "\u001b[1;31mTypeError\u001b[0m: 'tuple' object does not support item assignment"
     ]
    }
   ],
   "source": [
    "t[0]=12 #immutable"
   ]
  },
  {
   "cell_type": "code",
   "execution_count": 1,
   "id": "cc71e1f6",
   "metadata": {},
   "outputs": [
    {
     "data": {
      "text/plain": [
       "range(0, 5)"
      ]
     },
     "execution_count": 1,
     "metadata": {},
     "output_type": "execute_result"
    }
   ],
   "source": [
    "#range()==> it indicates a sequence of number\n",
    "#format1\n",
    "range(5)#it indicates that 0 to 5-1"
   ]
  },
  {
   "cell_type": "code",
   "execution_count": 3,
   "id": "c911e5a6",
   "metadata": {},
   "outputs": [
    {
     "name": "stdout",
     "output_type": "stream",
     "text": [
      "0\n",
      "1\n",
      "2\n",
      "3\n",
      "4\n"
     ]
    }
   ],
   "source": [
    "#format2\n",
    "for element in range(0,5):print(element)#loop"
   ]
  },
  {
   "cell_type": "code",
   "execution_count": 4,
   "id": "8667c9b9",
   "metadata": {},
   "outputs": [
    {
     "name": "stdout",
     "output_type": "stream",
     "text": [
      "5\n",
      "7\n",
      "9\n",
      "11\n",
      "13\n",
      "15\n",
      "17\n",
      "19\n"
     ]
    }
   ],
   "source": [
    "#format3\n",
    "#range(start,end,step)\n",
    "for element in range(5,20,2):print(element)"
   ]
  },
  {
   "cell_type": "code",
   "execution_count": 5,
   "id": "e2cf2c94",
   "metadata": {},
   "outputs": [
    {
     "name": "stdout",
     "output_type": "stream",
     "text": [
      "{1, 2, 3, 'pankaj', 12.5}\n"
     ]
    }
   ],
   "source": [
    "#SET:-\n",
    "#Group of element\n",
    "#heteroginious data\n",
    "#no indexing(order does not matter)\n",
    "#duplicate element not allow\n",
    "#no slicing\n",
    "#mutable\n",
    "#Syntax:-{ , , , }\n",
    "s={1,2,3,12.5,\"pankaj\"}\n",
    "print(s)"
   ]
  },
  {
   "cell_type": "code",
   "execution_count": 6,
   "id": "e7046ba0",
   "metadata": {},
   "outputs": [
    {
     "name": "stdout",
     "output_type": "stream",
     "text": [
      "{'n', 'j', 'k', 'p', 'a'}\n"
     ]
    }
   ],
   "source": [
    "a=set(\"pankaj\")\n",
    "print(a)#not in order"
   ]
  },
  {
   "cell_type": "code",
   "execution_count": 7,
   "id": "709a5aa4",
   "metadata": {},
   "outputs": [
    {
     "name": "stdout",
     "output_type": "stream",
     "text": [
      "{1, 2, 3, 'pankaj', 7, 12.5}\n"
     ]
    }
   ],
   "source": [
    "s.add(7)\n",
    "print(s)"
   ]
  },
  {
   "cell_type": "code",
   "execution_count": 8,
   "id": "26819a7c",
   "metadata": {},
   "outputs": [],
   "source": [
    "s.remove(\"pankaj\")"
   ]
  },
  {
   "cell_type": "code",
   "execution_count": 9,
   "id": "67617c6c",
   "metadata": {},
   "outputs": [
    {
     "name": "stdout",
     "output_type": "stream",
     "text": [
      "{1, 2, 3, 7, 12.5}\n"
     ]
    }
   ],
   "source": [
    "print(s)"
   ]
  },
  {
   "cell_type": "code",
   "execution_count": 10,
   "id": "7645972f",
   "metadata": {},
   "outputs": [],
   "source": [
    "#frozenset()==>same as set but it is immutable\n",
    "#no add\n",
    "#no remove\n",
    "s={1, 2, 3, 7, 12.5}\n",
    "x=frozenset(s)"
   ]
  },
  {
   "cell_type": "code",
   "execution_count": 11,
   "id": "fb18dd27",
   "metadata": {},
   "outputs": [
    {
     "name": "stdout",
     "output_type": "stream",
     "text": [
      "frozenset({1, 2, 3, 7, 12.5})\n"
     ]
    }
   ],
   "source": [
    "type(x)\n",
    "print(x)"
   ]
  },
  {
   "cell_type": "code",
   "execution_count": 12,
   "id": "238be4df",
   "metadata": {},
   "outputs": [
    {
     "ename": "AttributeError",
     "evalue": "'frozenset' object has no attribute 'add'",
     "output_type": "error",
     "traceback": [
      "\u001b[1;31m---------------------------------------------------------------------------\u001b[0m",
      "\u001b[1;31mAttributeError\u001b[0m                            Traceback (most recent call last)",
      "Cell \u001b[1;32mIn[12], line 1\u001b[0m\n\u001b[1;32m----> 1\u001b[0m x\u001b[38;5;241m.\u001b[39madd(\u001b[38;5;241m3\u001b[39m)\n",
      "\u001b[1;31mAttributeError\u001b[0m: 'frozenset' object has no attribute 'add'"
     ]
    }
   ],
   "source": [
    "x.add(3)"
   ]
  },
  {
   "cell_type": "code",
   "execution_count": 15,
   "id": "0a43147b",
   "metadata": {},
   "outputs": [
    {
     "name": "stdout",
     "output_type": "stream",
     "text": [
      "{1: 'amit', 2: 'hritik', 3: 'amit', 4: 'raju'}\n"
     ]
    }
   ],
   "source": [
    "#DICTIONARY:-\n",
    "#Group of element\n",
    "#heteroginious data\n",
    "#indexing\n",
    "#duplicate key not allow,but multiple key may have same value \n",
    "#slicing\n",
    "#mutable\n",
    "#Syntax:-{key1:value1,key2:value2,key3:value3.....}\n",
    "d={1:'amit',2:'hritik',3:'amit',4:'raju'}\n",
    "print(d)"
   ]
  },
  {
   "cell_type": "code",
   "execution_count": 16,
   "id": "eb78615f",
   "metadata": {},
   "outputs": [
    {
     "data": {
      "text/plain": [
       "dict"
      ]
     },
     "execution_count": 16,
     "metadata": {},
     "output_type": "execute_result"
    }
   ],
   "source": [
    "type(d)"
   ]
  },
  {
   "cell_type": "code",
   "execution_count": 17,
   "id": "ba470ae1",
   "metadata": {},
   "outputs": [],
   "source": [
    "d[1]='arun'#changing the value of key 1"
   ]
  },
  {
   "cell_type": "code",
   "execution_count": 18,
   "id": "bf45d4ca",
   "metadata": {},
   "outputs": [
    {
     "name": "stdout",
     "output_type": "stream",
     "text": [
      "{1: 'arun', 2: 'hritik', 3: 'amit', 4: 'raju'}\n"
     ]
    }
   ],
   "source": [
    "print(d)"
   ]
  },
  {
   "cell_type": "code",
   "execution_count": null,
   "id": "75c92305",
   "metadata": {},
   "outputs": [],
   "source": []
  },
  {
   "cell_type": "code",
   "execution_count": null,
   "id": "e95115ab",
   "metadata": {},
   "outputs": [],
   "source": []
  }
 ],
 "metadata": {
  "kernelspec": {
   "display_name": "Python 3 (ipykernel)",
   "language": "python",
   "name": "python3"
  },
  "language_info": {
   "codemirror_mode": {
    "name": "ipython",
    "version": 3
   },
   "file_extension": ".py",
   "mimetype": "text/x-python",
   "name": "python",
   "nbconvert_exporter": "python",
   "pygments_lexer": "ipython3",
   "version": "3.11.5"
  }
 },
 "nbformat": 4,
 "nbformat_minor": 5
}
