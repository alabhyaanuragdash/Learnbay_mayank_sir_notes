{
 "cells": [
  {
   "cell_type": "code",
   "execution_count": 1,
   "id": "607f0595",
   "metadata": {},
   "outputs": [
    {
     "name": "stdout",
     "output_type": "stream",
     "text": [
      "<__main__.node object at 0x000002CC8E100850>\n",
      "<__main__.node object at 0x000002CC8E102DD0>\n",
      "None\n",
      "None\n"
     ]
    }
   ],
   "source": [
    "class node:\n",
    "    def __init__(self,data):\n",
    "        self.data=data\n",
    "        self.next=None\n",
    "a=node(10)\n",
    "b=node(20)\n",
    "print(a)\n",
    "print(b)\n",
    "print(a.next)\n",
    "print(b.next)"
   ]
  },
  {
   "cell_type": "code",
   "execution_count": 5,
   "id": "575ff379",
   "metadata": {},
   "outputs": [
    {
     "ename": "AttributeError",
     "evalue": "'NoneType' object has no attribute 'data'",
     "output_type": "error",
     "traceback": [
      "\u001b[1;31m---------------------------------------------------------------------------\u001b[0m",
      "\u001b[1;31mAttributeError\u001b[0m                            Traceback (most recent call last)",
      "Cell \u001b[1;32mIn[5], line 1\u001b[0m\n\u001b[1;32m----> 1\u001b[0m \u001b[38;5;28mprint\u001b[39m(a\u001b[38;5;241m.\u001b[39mnext\u001b[38;5;241m.\u001b[39mdata)\n",
      "\u001b[1;31mAttributeError\u001b[0m: 'NoneType' object has no attribute 'data'"
     ]
    }
   ],
   "source": [
    "print(a.next.data)\n"
   ]
  },
  {
   "cell_type": "code",
   "execution_count": 4,
   "id": "dbf3171e",
   "metadata": {},
   "outputs": [
    {
     "ename": "AttributeError",
     "evalue": "'NoneType' object has no attribute 'next'",
     "output_type": "error",
     "traceback": [
      "\u001b[1;31m---------------------------------------------------------------------------\u001b[0m",
      "\u001b[1;31mAttributeError\u001b[0m                            Traceback (most recent call last)",
      "Cell \u001b[1;32mIn[4], line 1\u001b[0m\n\u001b[1;32m----> 1\u001b[0m \u001b[38;5;28mprint\u001b[39m(a\u001b[38;5;241m.\u001b[39mnext\u001b[38;5;241m.\u001b[39mnext\u001b[38;5;241m.\u001b[39mdata)\n",
      "\u001b[1;31mAttributeError\u001b[0m: 'NoneType' object has no attribute 'next'"
     ]
    }
   ],
   "source": [
    "print(a.next.next.data)"
   ]
  },
  {
   "cell_type": "code",
   "execution_count": 5,
   "id": "567ba5dd",
   "metadata": {},
   "outputs": [
    {
     "name": "stdout",
     "output_type": "stream",
     "text": [
      "1 2 3 4\n"
     ]
    }
   ],
   "source": [
    "class Node:\n",
    "    def __init__(self,data):\n",
    "        self.data=data\n",
    "        self.next=None\n",
    "l=[int(ele) for ele in input().split()]\n",
    "head=None\n",
    "for i in range(len(l)):\n",
    "    new_Node=Node(l[i])\n",
    "    if head is None:\n",
    "        head=new_Node\n",
    "    else:\n",
    "        curr=head\n",
    "        while curr.next is not None: \n",
    "            curr=curr.next\n",
    "        curr.next=new_Node"
   ]
  },
  {
   "cell_type": "code",
   "execution_count": 2,
   "id": "9af0c79b",
   "metadata": {},
   "outputs": [],
   "source": [
    "class Node:\n",
    "    def __init__(self,data):\n",
    "        self.data=data\n",
    "        self.next=None\n",
    "def takinginput():   #input function\n",
    "    l=[int(ele) for ele in input().split()]\n",
    "    head=None\n",
    "    for i in range(len(l)):\n",
    "        new_Node=Node(l[i])\n",
    "        if head is None:\n",
    "            head=new_Node\n",
    "        else:\n",
    "            curr=head\n",
    "            while curr.next is not None: \n",
    "                curr=curr.next\n",
    "            curr.next=new_Node\n",
    "    return head\n",
    "def display(head):#display function\n",
    "        curr=head\n",
    "        if head is None:\n",
    "            return None\n",
    "        while curr is not None:\n",
    "            print(curr.data,\"--->\",end='')\n",
    "            curr=curr.next\n",
    "        return None"
   ]
  },
  {
   "cell_type": "code",
   "execution_count": 4,
   "id": "5b17f74f",
   "metadata": {},
   "outputs": [
    {
     "name": "stdout",
     "output_type": "stream",
     "text": [
      "1 2 3 4 5\n",
      "1 --->2 --->3 --->4 --->5 --->None\n"
     ]
    }
   ],
   "source": [
    "r=takinginput()\n",
    "print(display(r))\n"
   ]
  },
  {
   "cell_type": "code",
   "execution_count": 13,
   "id": "de082c79",
   "metadata": {},
   "outputs": [],
   "source": []
  },
  {
   "cell_type": "code",
   "execution_count": 15,
   "id": "7c3a515a",
   "metadata": {},
   "outputs": [],
   "source": [
    "class Node:\n",
    "    def __init__(self,data):\n",
    "        self.data=data\n",
    "        self.next=None\n",
    "def takinginput():   #input function\n",
    "    l=[int(ele) for ele in input().split()]\n",
    "    head=None\n",
    "    for i in range(len(l)):\n",
    "        new_Node=Node(l[i])\n",
    "        if head is None:\n",
    "            head=new_Node\n",
    "        else:\n",
    "            curr=head\n",
    "            while curr.next is not None: \n",
    "                curr=curr.next\n",
    "            curr.next=new_Node\n",
    "    return head\n",
    "def search(head,x):\n",
    "    if head==None:\n",
    "        return None\n",
    "    curr=head\n",
    "    while curr.next is not None:\n",
    "        if curr.data==x:\n",
    "            return True\n",
    "    return False\n",
    "    "
   ]
  },
  {
   "cell_type": "code",
   "execution_count": null,
   "id": "dc502ed7",
   "metadata": {},
   "outputs": [],
   "source": [
    "r=takinginput()\n",
    "x=search(r,10)\n",
    "print(x)"
   ]
  },
  {
   "cell_type": "code",
   "execution_count": 13,
   "id": "99a523b2",
   "metadata": {},
   "outputs": [],
   "source": [
    "def end_num(head,x):\n",
    "    if head==None:\n",
    "        return None\n",
    "    curr=head\n",
    "    while curr.next is not None:\n",
    "        curr=curr.next\n",
    "    return curr.data\n",
    "    "
   ]
  },
  {
   "cell_type": "code",
   "execution_count": 11,
   "id": "8380058a",
   "metadata": {},
   "outputs": [
    {
     "name": "stdout",
     "output_type": "stream",
     "text": [
      "6\n"
     ]
    }
   ],
   "source": [
    "data=end_num(r)\n",
    "print(data)"
   ]
  },
  {
   "cell_type": "code",
   "execution_count": 14,
   "id": "aad5401a",
   "metadata": {},
   "outputs": [
    {
     "ename": "TypeError",
     "evalue": "search() missing 1 required positional argument: 'r'",
     "output_type": "error",
     "traceback": [
      "\u001b[1;31m---------------------------------------------------------------------------\u001b[0m",
      "\u001b[1;31mTypeError\u001b[0m                                 Traceback (most recent call last)",
      "Cell \u001b[1;32mIn[14], line 1\u001b[0m\n\u001b[1;32m----> 1\u001b[0m search(r)\n",
      "\u001b[1;31mTypeError\u001b[0m: search() missing 1 required positional argument: 'r'"
     ]
    }
   ],
   "source": [
    "search(r)"
   ]
  },
  {
   "cell_type": "code",
   "execution_count": 5,
   "id": "f72497d9",
   "metadata": {},
   "outputs": [],
   "source": [
    "#adding a node at the starting of link list\n",
    "def add_nodeat_start(head,new):\n",
    "    new_node=Node(x)\n",
    "    new_node.next=head\n",
    "    head=new_node\n",
    "    return head"
   ]
  },
  {
   "cell_type": "code",
   "execution_count": null,
   "id": "4e36e965",
   "metadata": {},
   "outputs": [],
   "source": []
  }
 ],
 "metadata": {
  "kernelspec": {
   "display_name": "Python 3 (ipykernel)",
   "language": "python",
   "name": "python3"
  },
  "language_info": {
   "codemirror_mode": {
    "name": "ipython",
    "version": 3
   },
   "file_extension": ".py",
   "mimetype": "text/x-python",
   "name": "python",
   "nbconvert_exporter": "python",
   "pygments_lexer": "ipython3",
   "version": "3.11.5"
  }
 },
 "nbformat": 4,
 "nbformat_minor": 5
}
