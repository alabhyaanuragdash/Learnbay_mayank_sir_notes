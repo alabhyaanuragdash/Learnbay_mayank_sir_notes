{
 "cells": [
  {
   "cell_type": "code",
   "execution_count": 1,
   "id": "c2db08f1-be07-4495-a183-9afec43cbe80",
   "metadata": {},
   "outputs": [],
   "source": [
    "import numpy as np\n",
    "import pandas as pd"
   ]
  },
  {
   "cell_type": "code",
   "execution_count": 3,
   "id": "0508e8dc-d57a-4e3e-9647-aa04453df629",
   "metadata": {},
   "outputs": [
    {
     "data": {
      "text/html": [
       "<div>\n",
       "<style scoped>\n",
       "    .dataframe tbody tr th:only-of-type {\n",
       "        vertical-align: middle;\n",
       "    }\n",
       "\n",
       "    .dataframe tbody tr th {\n",
       "        vertical-align: top;\n",
       "    }\n",
       "\n",
       "    .dataframe thead th {\n",
       "        text-align: right;\n",
       "    }\n",
       "</style>\n",
       "<table border=\"1\" class=\"dataframe\">\n",
       "  <thead>\n",
       "    <tr style=\"text-align: right;\">\n",
       "      <th></th>\n",
       "      <th>Model</th>\n",
       "      <th>Release date</th>\n",
       "      <th>Max resolution</th>\n",
       "      <th>Low resolution</th>\n",
       "      <th>Effective pixels</th>\n",
       "      <th>Zoom wide (W)</th>\n",
       "      <th>Zoom tele (T)</th>\n",
       "      <th>Normal focus range</th>\n",
       "      <th>Macro focus range</th>\n",
       "      <th>Storage included</th>\n",
       "      <th>Weight (inc. batteries)</th>\n",
       "    </tr>\n",
       "  </thead>\n",
       "  <tbody>\n",
       "    <tr>\n",
       "      <th>0</th>\n",
       "      <td>STRING</td>\n",
       "      <td>DOUBLE</td>\n",
       "      <td>DOUBLE</td>\n",
       "      <td>DOUBLE</td>\n",
       "      <td>DOUBLE</td>\n",
       "      <td>DOUBLE</td>\n",
       "      <td>DOUBLE</td>\n",
       "      <td>DOUBLE</td>\n",
       "      <td>DOUBLE</td>\n",
       "      <td>DOUBLE</td>\n",
       "      <td>DOUBLE</td>\n",
       "    </tr>\n",
       "    <tr>\n",
       "      <th>1</th>\n",
       "      <td>Agfa ePhoto 1280</td>\n",
       "      <td>1997</td>\n",
       "      <td>1024</td>\n",
       "      <td>640</td>\n",
       "      <td>0</td>\n",
       "      <td>38</td>\n",
       "      <td>114</td>\n",
       "      <td>70</td>\n",
       "      <td>40</td>\n",
       "      <td>4</td>\n",
       "      <td>420</td>\n",
       "    </tr>\n",
       "    <tr>\n",
       "      <th>2</th>\n",
       "      <td>Agfa ePhoto 1680</td>\n",
       "      <td>1998</td>\n",
       "      <td>1280</td>\n",
       "      <td>640</td>\n",
       "      <td>1</td>\n",
       "      <td>38</td>\n",
       "      <td>114</td>\n",
       "      <td>50</td>\n",
       "      <td>0</td>\n",
       "      <td>4</td>\n",
       "      <td>420</td>\n",
       "    </tr>\n",
       "    <tr>\n",
       "      <th>3</th>\n",
       "      <td>Agfa ePhoto CL18</td>\n",
       "      <td>2000</td>\n",
       "      <td>640</td>\n",
       "      <td>0</td>\n",
       "      <td>0</td>\n",
       "      <td>45</td>\n",
       "      <td>45</td>\n",
       "      <td>0</td>\n",
       "      <td>0</td>\n",
       "      <td>2</td>\n",
       "      <td>0</td>\n",
       "    </tr>\n",
       "    <tr>\n",
       "      <th>4</th>\n",
       "      <td>Agfa ePhoto CL30</td>\n",
       "      <td>1999</td>\n",
       "      <td>1152</td>\n",
       "      <td>640</td>\n",
       "      <td>0</td>\n",
       "      <td>35</td>\n",
       "      <td>35</td>\n",
       "      <td>0</td>\n",
       "      <td>0</td>\n",
       "      <td>4</td>\n",
       "      <td>0</td>\n",
       "    </tr>\n",
       "    <tr>\n",
       "      <th>...</th>\n",
       "      <td>...</td>\n",
       "      <td>...</td>\n",
       "      <td>...</td>\n",
       "      <td>...</td>\n",
       "      <td>...</td>\n",
       "      <td>...</td>\n",
       "      <td>...</td>\n",
       "      <td>...</td>\n",
       "      <td>...</td>\n",
       "      <td>...</td>\n",
       "      <td>...</td>\n",
       "    </tr>\n",
       "    <tr>\n",
       "      <th>1034</th>\n",
       "      <td>Toshiba PDR-M65</td>\n",
       "      <td>2001</td>\n",
       "      <td>2048</td>\n",
       "      <td>1024</td>\n",
       "      <td>3</td>\n",
       "      <td>38</td>\n",
       "      <td>114</td>\n",
       "      <td>10</td>\n",
       "      <td>10</td>\n",
       "      <td>8</td>\n",
       "      <td>320</td>\n",
       "    </tr>\n",
       "    <tr>\n",
       "      <th>1035</th>\n",
       "      <td>Toshiba PDR-M70</td>\n",
       "      <td>2000</td>\n",
       "      <td>2048</td>\n",
       "      <td>1024</td>\n",
       "      <td>3</td>\n",
       "      <td>35</td>\n",
       "      <td>105</td>\n",
       "      <td>80</td>\n",
       "      <td>9</td>\n",
       "      <td>16</td>\n",
       "      <td>390</td>\n",
       "    </tr>\n",
       "    <tr>\n",
       "      <th>1036</th>\n",
       "      <td>Toshiba PDR-M71</td>\n",
       "      <td>2001</td>\n",
       "      <td>2048</td>\n",
       "      <td>1024</td>\n",
       "      <td>3</td>\n",
       "      <td>35</td>\n",
       "      <td>98</td>\n",
       "      <td>80</td>\n",
       "      <td>10</td>\n",
       "      <td>8</td>\n",
       "      <td>340</td>\n",
       "    </tr>\n",
       "    <tr>\n",
       "      <th>1037</th>\n",
       "      <td>Toshiba PDR-M81</td>\n",
       "      <td>2001</td>\n",
       "      <td>2400</td>\n",
       "      <td>1200</td>\n",
       "      <td>3</td>\n",
       "      <td>35</td>\n",
       "      <td>98</td>\n",
       "      <td>80</td>\n",
       "      <td>10</td>\n",
       "      <td>16</td>\n",
       "      <td>340</td>\n",
       "    </tr>\n",
       "    <tr>\n",
       "      <th>1038</th>\n",
       "      <td>Toshiba PDR-T10</td>\n",
       "      <td>2002</td>\n",
       "      <td>1600</td>\n",
       "      <td>800</td>\n",
       "      <td>1</td>\n",
       "      <td>38</td>\n",
       "      <td>38</td>\n",
       "      <td>40</td>\n",
       "      <td>20</td>\n",
       "      <td>8</td>\n",
       "      <td>180</td>\n",
       "    </tr>\n",
       "  </tbody>\n",
       "</table>\n",
       "<p>1039 rows × 11 columns</p>\n",
       "</div>"
      ],
      "text/plain": [
       "                 Model Release date Max resolution Low resolution  \\\n",
       "0               STRING       DOUBLE         DOUBLE         DOUBLE   \n",
       "1     Agfa ePhoto 1280         1997           1024            640   \n",
       "2     Agfa ePhoto 1680         1998           1280            640   \n",
       "3     Agfa ePhoto CL18         2000            640              0   \n",
       "4     Agfa ePhoto CL30         1999           1152            640   \n",
       "...                ...          ...            ...            ...   \n",
       "1034   Toshiba PDR-M65         2001           2048           1024   \n",
       "1035   Toshiba PDR-M70         2000           2048           1024   \n",
       "1036   Toshiba PDR-M71         2001           2048           1024   \n",
       "1037   Toshiba PDR-M81         2001           2400           1200   \n",
       "1038   Toshiba PDR-T10         2002           1600            800   \n",
       "\n",
       "     Effective pixels Zoom wide (W) Zoom tele (T) Normal focus range  \\\n",
       "0              DOUBLE        DOUBLE        DOUBLE             DOUBLE   \n",
       "1                   0            38           114                 70   \n",
       "2                   1            38           114                 50   \n",
       "3                   0            45            45                  0   \n",
       "4                   0            35            35                  0   \n",
       "...               ...           ...           ...                ...   \n",
       "1034                3            38           114                 10   \n",
       "1035                3            35           105                 80   \n",
       "1036                3            35            98                 80   \n",
       "1037                3            35            98                 80   \n",
       "1038                1            38            38                 40   \n",
       "\n",
       "     Macro focus range Storage included Weight (inc. batteries)  \n",
       "0               DOUBLE           DOUBLE                  DOUBLE  \n",
       "1                   40                4                     420  \n",
       "2                    0                4                     420  \n",
       "3                    0                2                       0  \n",
       "4                    0                4                       0  \n",
       "...                ...              ...                     ...  \n",
       "1034                10                8                     320  \n",
       "1035                 9               16                     390  \n",
       "1036                10                8                     340  \n",
       "1037                10               16                     340  \n",
       "1038                20                8                     180  \n",
       "\n",
       "[1039 rows x 11 columns]"
      ]
     },
     "execution_count": 3,
     "metadata": {},
     "output_type": "execute_result"
    }
   ],
   "source": [
    "Cam=pd.read_csv(r\"C:\\Users\\ASUS\\OneDrive\\Desktop\\LearnBayPyClass\\Practice Datasets-20240806T072624Z-001\\Practice Datasets\\Camera.csv\")\n",
    "Cam"
   ]
  },
  {
   "cell_type": "code",
   "execution_count": 4,
   "id": "da9c0409-743d-4861-9ab3-eea49e166591",
   "metadata": {},
   "outputs": [
    {
     "data": {
      "text/html": [
       "<div>\n",
       "<style scoped>\n",
       "    .dataframe tbody tr th:only-of-type {\n",
       "        vertical-align: middle;\n",
       "    }\n",
       "\n",
       "    .dataframe tbody tr th {\n",
       "        vertical-align: top;\n",
       "    }\n",
       "\n",
       "    .dataframe thead th {\n",
       "        text-align: right;\n",
       "    }\n",
       "</style>\n",
       "<table border=\"1\" class=\"dataframe\">\n",
       "  <thead>\n",
       "    <tr style=\"text-align: right;\">\n",
       "      <th></th>\n",
       "      <th>Model</th>\n",
       "      <th>Release date</th>\n",
       "      <th>Max resolution</th>\n",
       "      <th>Low resolution</th>\n",
       "      <th>Effective pixels</th>\n",
       "      <th>Zoom wide (W)</th>\n",
       "      <th>Zoom tele (T)</th>\n",
       "      <th>Normal focus range</th>\n",
       "      <th>Macro focus range</th>\n",
       "      <th>Storage included</th>\n",
       "      <th>Weight (inc. batteries)</th>\n",
       "    </tr>\n",
       "  </thead>\n",
       "  <tbody>\n",
       "    <tr>\n",
       "      <th>0</th>\n",
       "      <td>STRING</td>\n",
       "      <td>DOUBLE</td>\n",
       "      <td>DOUBLE</td>\n",
       "      <td>DOUBLE</td>\n",
       "      <td>DOUBLE</td>\n",
       "      <td>DOUBLE</td>\n",
       "      <td>DOUBLE</td>\n",
       "      <td>DOUBLE</td>\n",
       "      <td>DOUBLE</td>\n",
       "      <td>DOUBLE</td>\n",
       "      <td>DOUBLE</td>\n",
       "    </tr>\n",
       "    <tr>\n",
       "      <th>1</th>\n",
       "      <td>Agfa ePhoto 1280</td>\n",
       "      <td>1997</td>\n",
       "      <td>1024</td>\n",
       "      <td>640</td>\n",
       "      <td>0</td>\n",
       "      <td>38</td>\n",
       "      <td>114</td>\n",
       "      <td>70</td>\n",
       "      <td>40</td>\n",
       "      <td>4</td>\n",
       "      <td>420</td>\n",
       "    </tr>\n",
       "    <tr>\n",
       "      <th>2</th>\n",
       "      <td>Agfa ePhoto 1680</td>\n",
       "      <td>1998</td>\n",
       "      <td>1280</td>\n",
       "      <td>640</td>\n",
       "      <td>1</td>\n",
       "      <td>38</td>\n",
       "      <td>114</td>\n",
       "      <td>50</td>\n",
       "      <td>0</td>\n",
       "      <td>4</td>\n",
       "      <td>420</td>\n",
       "    </tr>\n",
       "    <tr>\n",
       "      <th>3</th>\n",
       "      <td>Agfa ePhoto CL18</td>\n",
       "      <td>2000</td>\n",
       "      <td>640</td>\n",
       "      <td>0</td>\n",
       "      <td>0</td>\n",
       "      <td>45</td>\n",
       "      <td>45</td>\n",
       "      <td>0</td>\n",
       "      <td>0</td>\n",
       "      <td>2</td>\n",
       "      <td>0</td>\n",
       "    </tr>\n",
       "    <tr>\n",
       "      <th>4</th>\n",
       "      <td>Agfa ePhoto CL30</td>\n",
       "      <td>1999</td>\n",
       "      <td>1152</td>\n",
       "      <td>640</td>\n",
       "      <td>0</td>\n",
       "      <td>35</td>\n",
       "      <td>35</td>\n",
       "      <td>0</td>\n",
       "      <td>0</td>\n",
       "      <td>4</td>\n",
       "      <td>0</td>\n",
       "    </tr>\n",
       "  </tbody>\n",
       "</table>\n",
       "</div>"
      ],
      "text/plain": [
       "              Model Release date Max resolution Low resolution  \\\n",
       "0            STRING       DOUBLE         DOUBLE         DOUBLE   \n",
       "1  Agfa ePhoto 1280         1997           1024            640   \n",
       "2  Agfa ePhoto 1680         1998           1280            640   \n",
       "3  Agfa ePhoto CL18         2000            640              0   \n",
       "4  Agfa ePhoto CL30         1999           1152            640   \n",
       "\n",
       "  Effective pixels Zoom wide (W) Zoom tele (T) Normal focus range  \\\n",
       "0           DOUBLE        DOUBLE        DOUBLE             DOUBLE   \n",
       "1                0            38           114                 70   \n",
       "2                1            38           114                 50   \n",
       "3                0            45            45                  0   \n",
       "4                0            35            35                  0   \n",
       "\n",
       "  Macro focus range Storage included Weight (inc. batteries)  \n",
       "0            DOUBLE           DOUBLE                  DOUBLE  \n",
       "1                40                4                     420  \n",
       "2                 0                4                     420  \n",
       "3                 0                2                       0  \n",
       "4                 0                4                       0  "
      ]
     },
     "execution_count": 4,
     "metadata": {},
     "output_type": "execute_result"
    }
   ],
   "source": [
    "Cam.head()"
   ]
  },
  {
   "cell_type": "code",
   "execution_count": 5,
   "id": "ab8e838e-c108-4b39-9c60-38082e97955f",
   "metadata": {},
   "outputs": [
    {
     "data": {
      "text/html": [
       "<div>\n",
       "<style scoped>\n",
       "    .dataframe tbody tr th:only-of-type {\n",
       "        vertical-align: middle;\n",
       "    }\n",
       "\n",
       "    .dataframe tbody tr th {\n",
       "        vertical-align: top;\n",
       "    }\n",
       "\n",
       "    .dataframe thead th {\n",
       "        text-align: right;\n",
       "    }\n",
       "</style>\n",
       "<table border=\"1\" class=\"dataframe\">\n",
       "  <thead>\n",
       "    <tr style=\"text-align: right;\">\n",
       "      <th></th>\n",
       "      <th>Model</th>\n",
       "      <th>Release date</th>\n",
       "      <th>Max resolution</th>\n",
       "      <th>Low resolution</th>\n",
       "      <th>Effective pixels</th>\n",
       "      <th>Zoom wide (W)</th>\n",
       "      <th>Zoom tele (T)</th>\n",
       "      <th>Normal focus range</th>\n",
       "      <th>Macro focus range</th>\n",
       "      <th>Storage included</th>\n",
       "      <th>Weight (inc. batteries)</th>\n",
       "    </tr>\n",
       "  </thead>\n",
       "  <tbody>\n",
       "    <tr>\n",
       "      <th>1034</th>\n",
       "      <td>Toshiba PDR-M65</td>\n",
       "      <td>2001</td>\n",
       "      <td>2048</td>\n",
       "      <td>1024</td>\n",
       "      <td>3</td>\n",
       "      <td>38</td>\n",
       "      <td>114</td>\n",
       "      <td>10</td>\n",
       "      <td>10</td>\n",
       "      <td>8</td>\n",
       "      <td>320</td>\n",
       "    </tr>\n",
       "    <tr>\n",
       "      <th>1035</th>\n",
       "      <td>Toshiba PDR-M70</td>\n",
       "      <td>2000</td>\n",
       "      <td>2048</td>\n",
       "      <td>1024</td>\n",
       "      <td>3</td>\n",
       "      <td>35</td>\n",
       "      <td>105</td>\n",
       "      <td>80</td>\n",
       "      <td>9</td>\n",
       "      <td>16</td>\n",
       "      <td>390</td>\n",
       "    </tr>\n",
       "    <tr>\n",
       "      <th>1036</th>\n",
       "      <td>Toshiba PDR-M71</td>\n",
       "      <td>2001</td>\n",
       "      <td>2048</td>\n",
       "      <td>1024</td>\n",
       "      <td>3</td>\n",
       "      <td>35</td>\n",
       "      <td>98</td>\n",
       "      <td>80</td>\n",
       "      <td>10</td>\n",
       "      <td>8</td>\n",
       "      <td>340</td>\n",
       "    </tr>\n",
       "    <tr>\n",
       "      <th>1037</th>\n",
       "      <td>Toshiba PDR-M81</td>\n",
       "      <td>2001</td>\n",
       "      <td>2400</td>\n",
       "      <td>1200</td>\n",
       "      <td>3</td>\n",
       "      <td>35</td>\n",
       "      <td>98</td>\n",
       "      <td>80</td>\n",
       "      <td>10</td>\n",
       "      <td>16</td>\n",
       "      <td>340</td>\n",
       "    </tr>\n",
       "    <tr>\n",
       "      <th>1038</th>\n",
       "      <td>Toshiba PDR-T10</td>\n",
       "      <td>2002</td>\n",
       "      <td>1600</td>\n",
       "      <td>800</td>\n",
       "      <td>1</td>\n",
       "      <td>38</td>\n",
       "      <td>38</td>\n",
       "      <td>40</td>\n",
       "      <td>20</td>\n",
       "      <td>8</td>\n",
       "      <td>180</td>\n",
       "    </tr>\n",
       "  </tbody>\n",
       "</table>\n",
       "</div>"
      ],
      "text/plain": [
       "                Model Release date Max resolution Low resolution  \\\n",
       "1034  Toshiba PDR-M65         2001           2048           1024   \n",
       "1035  Toshiba PDR-M70         2000           2048           1024   \n",
       "1036  Toshiba PDR-M71         2001           2048           1024   \n",
       "1037  Toshiba PDR-M81         2001           2400           1200   \n",
       "1038  Toshiba PDR-T10         2002           1600            800   \n",
       "\n",
       "     Effective pixels Zoom wide (W) Zoom tele (T) Normal focus range  \\\n",
       "1034                3            38           114                 10   \n",
       "1035                3            35           105                 80   \n",
       "1036                3            35            98                 80   \n",
       "1037                3            35            98                 80   \n",
       "1038                1            38            38                 40   \n",
       "\n",
       "     Macro focus range Storage included Weight (inc. batteries)  \n",
       "1034                10                8                     320  \n",
       "1035                 9               16                     390  \n",
       "1036                10                8                     340  \n",
       "1037                10               16                     340  \n",
       "1038                20                8                     180  "
      ]
     },
     "execution_count": 5,
     "metadata": {},
     "output_type": "execute_result"
    }
   ],
   "source": [
    "Cam.tail()"
   ]
  },
  {
   "cell_type": "code",
   "execution_count": 8,
   "id": "a8f7dd99-e48d-4902-b7be-42e96ce1e3ad",
   "metadata": {},
   "outputs": [
    {
     "data": {
      "text/plain": [
       "(1039, 11)"
      ]
     },
     "execution_count": 8,
     "metadata": {},
     "output_type": "execute_result"
    }
   ],
   "source": [
    "Cam.shape"
   ]
  },
  {
   "cell_type": "code",
   "execution_count": 10,
   "id": "40ec23c2-75e1-4c2f-a27f-a148b087acbc",
   "metadata": {},
   "outputs": [
    {
     "data": {
      "text/plain": [
       "11429"
      ]
     },
     "execution_count": 10,
     "metadata": {},
     "output_type": "execute_result"
    }
   ],
   "source": [
    "Cam.size"
   ]
  },
  {
   "cell_type": "code",
   "execution_count": 11,
   "id": "047a3aac-4484-43b9-82dc-6dd99801d92d",
   "metadata": {},
   "outputs": [
    {
     "data": {
      "text/plain": [
       "2"
      ]
     },
     "execution_count": 11,
     "metadata": {},
     "output_type": "execute_result"
    }
   ],
   "source": [
    "Cam.ndim"
   ]
  },
  {
   "cell_type": "code",
   "execution_count": 12,
   "id": "3cbed4f9-be8a-475e-b2fe-6ab543f848bc",
   "metadata": {},
   "outputs": [
    {
     "data": {
      "text/plain": [
       "Model                      object\n",
       "Release date               object\n",
       "Max resolution             object\n",
       "Low resolution             object\n",
       "Effective pixels           object\n",
       "Zoom wide (W)              object\n",
       "Zoom tele (T)              object\n",
       "Normal focus range         object\n",
       "Macro focus range          object\n",
       "Storage included           object\n",
       "Weight (inc. batteries)    object\n",
       "dtype: object"
      ]
     },
     "execution_count": 12,
     "metadata": {},
     "output_type": "execute_result"
    }
   ],
   "source": [
    "Cam.dtypes"
   ]
  },
  {
   "cell_type": "code",
   "execution_count": 13,
   "id": "ce138281-92b4-4351-ae22-3e2cfc85dffc",
   "metadata": {},
   "outputs": [
    {
     "data": {
      "text/plain": [
       "Index(['Model', 'Release date', 'Max resolution', 'Low resolution',\n",
       "       'Effective pixels', 'Zoom wide (W)', 'Zoom tele (T)',\n",
       "       'Normal focus range', 'Macro focus range', 'Storage included',\n",
       "       'Weight (inc. batteries)'],\n",
       "      dtype='object')"
      ]
     },
     "execution_count": 13,
     "metadata": {},
     "output_type": "execute_result"
    }
   ],
   "source": [
    "Cam.columns"
   ]
  },
  {
   "cell_type": "code",
   "execution_count": 15,
   "id": "f796fb85-0d7d-4100-9c47-ceafc3a721e7",
   "metadata": {},
   "outputs": [
    {
     "data": {
      "text/plain": [
       "<bound method DataFrame.info of                  Model Release date Max resolution Low resolution  \\\n",
       "0               STRING       DOUBLE         DOUBLE         DOUBLE   \n",
       "1     Agfa ePhoto 1280         1997           1024            640   \n",
       "2     Agfa ePhoto 1680         1998           1280            640   \n",
       "3     Agfa ePhoto CL18         2000            640              0   \n",
       "4     Agfa ePhoto CL30         1999           1152            640   \n",
       "...                ...          ...            ...            ...   \n",
       "1034   Toshiba PDR-M65         2001           2048           1024   \n",
       "1035   Toshiba PDR-M70         2000           2048           1024   \n",
       "1036   Toshiba PDR-M71         2001           2048           1024   \n",
       "1037   Toshiba PDR-M81         2001           2400           1200   \n",
       "1038   Toshiba PDR-T10         2002           1600            800   \n",
       "\n",
       "     Effective pixels Zoom wide (W) Zoom tele (T) Normal focus range  \\\n",
       "0              DOUBLE        DOUBLE        DOUBLE             DOUBLE   \n",
       "1                   0            38           114                 70   \n",
       "2                   1            38           114                 50   \n",
       "3                   0            45            45                  0   \n",
       "4                   0            35            35                  0   \n",
       "...               ...           ...           ...                ...   \n",
       "1034                3            38           114                 10   \n",
       "1035                3            35           105                 80   \n",
       "1036                3            35            98                 80   \n",
       "1037                3            35            98                 80   \n",
       "1038                1            38            38                 40   \n",
       "\n",
       "     Macro focus range Storage included Weight (inc. batteries)  \n",
       "0               DOUBLE           DOUBLE                  DOUBLE  \n",
       "1                   40                4                     420  \n",
       "2                    0                4                     420  \n",
       "3                    0                2                       0  \n",
       "4                    0                4                       0  \n",
       "...                ...              ...                     ...  \n",
       "1034                10                8                     320  \n",
       "1035                 9               16                     390  \n",
       "1036                10                8                     340  \n",
       "1037                10               16                     340  \n",
       "1038                20                8                     180  \n",
       "\n",
       "[1039 rows x 11 columns]>"
      ]
     },
     "execution_count": 15,
     "metadata": {},
     "output_type": "execute_result"
    }
   ],
   "source": [
    "Cam.info"
   ]
  },
  {
   "cell_type": "code",
   "execution_count": 16,
   "id": "b0705435-d1d5-4220-bf3c-d2ebc402b625",
   "metadata": {},
   "outputs": [
    {
     "data": {
      "text/html": [
       "<div>\n",
       "<style scoped>\n",
       "    .dataframe tbody tr th:only-of-type {\n",
       "        vertical-align: middle;\n",
       "    }\n",
       "\n",
       "    .dataframe tbody tr th {\n",
       "        vertical-align: top;\n",
       "    }\n",
       "\n",
       "    .dataframe thead th {\n",
       "        text-align: right;\n",
       "    }\n",
       "</style>\n",
       "<table border=\"1\" class=\"dataframe\">\n",
       "  <thead>\n",
       "    <tr style=\"text-align: right;\">\n",
       "      <th></th>\n",
       "      <th>Model</th>\n",
       "      <th>Release date</th>\n",
       "      <th>Max resolution</th>\n",
       "      <th>Low resolution</th>\n",
       "      <th>Effective pixels</th>\n",
       "      <th>Zoom wide (W)</th>\n",
       "      <th>Zoom tele (T)</th>\n",
       "      <th>Normal focus range</th>\n",
       "      <th>Macro focus range</th>\n",
       "      <th>Storage included</th>\n",
       "      <th>Weight (inc. batteries)</th>\n",
       "    </tr>\n",
       "  </thead>\n",
       "  <tbody>\n",
       "    <tr>\n",
       "      <th>count</th>\n",
       "      <td>1039</td>\n",
       "      <td>1039</td>\n",
       "      <td>1039</td>\n",
       "      <td>1039</td>\n",
       "      <td>1039</td>\n",
       "      <td>1039</td>\n",
       "      <td>1039</td>\n",
       "      <td>1039</td>\n",
       "      <td>1038</td>\n",
       "      <td>1037</td>\n",
       "      <td>1037</td>\n",
       "    </tr>\n",
       "    <tr>\n",
       "      <th>unique</th>\n",
       "      <td>1039</td>\n",
       "      <td>15</td>\n",
       "      <td>100</td>\n",
       "      <td>71</td>\n",
       "      <td>17</td>\n",
       "      <td>26</td>\n",
       "      <td>101</td>\n",
       "      <td>33</td>\n",
       "      <td>30</td>\n",
       "      <td>45</td>\n",
       "      <td>238</td>\n",
       "    </tr>\n",
       "    <tr>\n",
       "      <th>top</th>\n",
       "      <td>STRING</td>\n",
       "      <td>2007</td>\n",
       "      <td>3072</td>\n",
       "      <td>2048</td>\n",
       "      <td>3</td>\n",
       "      <td>38</td>\n",
       "      <td>114</td>\n",
       "      <td>50</td>\n",
       "      <td>10</td>\n",
       "      <td>16</td>\n",
       "      <td>320</td>\n",
       "    </tr>\n",
       "    <tr>\n",
       "      <th>freq</th>\n",
       "      <td>1</td>\n",
       "      <td>163</td>\n",
       "      <td>108</td>\n",
       "      <td>187</td>\n",
       "      <td>197</td>\n",
       "      <td>259</td>\n",
       "      <td>163</td>\n",
       "      <td>286</td>\n",
       "      <td>200</td>\n",
       "      <td>279</td>\n",
       "      <td>34</td>\n",
       "    </tr>\n",
       "  </tbody>\n",
       "</table>\n",
       "</div>"
      ],
      "text/plain": [
       "         Model Release date Max resolution Low resolution Effective pixels  \\\n",
       "count     1039         1039           1039           1039             1039   \n",
       "unique    1039           15            100             71               17   \n",
       "top     STRING         2007           3072           2048                3   \n",
       "freq         1          163            108            187              197   \n",
       "\n",
       "       Zoom wide (W) Zoom tele (T) Normal focus range Macro focus range  \\\n",
       "count           1039          1039               1039              1038   \n",
       "unique            26           101                 33                30   \n",
       "top               38           114                 50                10   \n",
       "freq             259           163                286               200   \n",
       "\n",
       "       Storage included Weight (inc. batteries)  \n",
       "count              1037                    1037  \n",
       "unique               45                     238  \n",
       "top                  16                     320  \n",
       "freq                279                      34  "
      ]
     },
     "execution_count": 16,
     "metadata": {},
     "output_type": "execute_result"
    }
   ],
   "source": [
    "Cam.describe()"
   ]
  },
  {
   "cell_type": "code",
   "execution_count": 17,
   "id": "bd02d504-985d-4f33-9be6-22b8a8e085df",
   "metadata": {},
   "outputs": [
    {
     "data": {
      "text/plain": [
       "<bound method DataFrame.max of                  Model Release date Max resolution Low resolution  \\\n",
       "0               STRING       DOUBLE         DOUBLE         DOUBLE   \n",
       "1     Agfa ePhoto 1280         1997           1024            640   \n",
       "2     Agfa ePhoto 1680         1998           1280            640   \n",
       "3     Agfa ePhoto CL18         2000            640              0   \n",
       "4     Agfa ePhoto CL30         1999           1152            640   \n",
       "...                ...          ...            ...            ...   \n",
       "1034   Toshiba PDR-M65         2001           2048           1024   \n",
       "1035   Toshiba PDR-M70         2000           2048           1024   \n",
       "1036   Toshiba PDR-M71         2001           2048           1024   \n",
       "1037   Toshiba PDR-M81         2001           2400           1200   \n",
       "1038   Toshiba PDR-T10         2002           1600            800   \n",
       "\n",
       "     Effective pixels Zoom wide (W) Zoom tele (T) Normal focus range  \\\n",
       "0              DOUBLE        DOUBLE        DOUBLE             DOUBLE   \n",
       "1                   0            38           114                 70   \n",
       "2                   1            38           114                 50   \n",
       "3                   0            45            45                  0   \n",
       "4                   0            35            35                  0   \n",
       "...               ...           ...           ...                ...   \n",
       "1034                3            38           114                 10   \n",
       "1035                3            35           105                 80   \n",
       "1036                3            35            98                 80   \n",
       "1037                3            35            98                 80   \n",
       "1038                1            38            38                 40   \n",
       "\n",
       "     Macro focus range Storage included Weight (inc. batteries)  \n",
       "0               DOUBLE           DOUBLE                  DOUBLE  \n",
       "1                   40                4                     420  \n",
       "2                    0                4                     420  \n",
       "3                    0                2                       0  \n",
       "4                    0                4                       0  \n",
       "...                ...              ...                     ...  \n",
       "1034                10                8                     320  \n",
       "1035                 9               16                     390  \n",
       "1036                10                8                     340  \n",
       "1037                10               16                     340  \n",
       "1038                20                8                     180  \n",
       "\n",
       "[1039 rows x 11 columns]>"
      ]
     },
     "execution_count": 17,
     "metadata": {},
     "output_type": "execute_result"
    }
   ],
   "source": [
    "Cam.max"
   ]
  },
  {
   "cell_type": "code",
   "execution_count": 22,
   "id": "d546a906-b779-4215-88f7-deafc1edc0a3",
   "metadata": {},
   "outputs": [
    {
     "name": "stdout",
     "output_type": "stream",
     "text": [
      "Model                      1039\n",
      "Release date                 15\n",
      "Max resolution              100\n",
      "Low resolution               71\n",
      "Effective pixels             17\n",
      "Zoom wide (W)                26\n",
      "Zoom tele (T)               101\n",
      "Normal focus range           33\n",
      "Macro focus range            30\n",
      "Storage included             45\n",
      "Weight (inc. batteries)     238\n",
      "dtype: int64 Model                      object\n",
      "Release date               object\n",
      "Max resolution             object\n",
      "Low resolution             object\n",
      "Effective pixels           object\n",
      "Zoom wide (W)              object\n",
      "Zoom tele (T)              object\n",
      "Normal focus range         object\n",
      "Macro focus range          object\n",
      "Storage included           object\n",
      "Weight (inc. batteries)    object\n",
      "dtype: object\n"
     ]
    }
   ],
   "source": [
    "print(Cam.nunique(),Cam.dtypes)"
   ]
  },
  {
   "cell_type": "code",
   "execution_count": 24,
   "id": "26f2ad2a-18a9-4f62-83bc-a2f2ddad683c",
   "metadata": {},
   "outputs": [
    {
     "data": {
      "text/plain": [
       "array(['STRING', 'Agfa ePhoto 1280', 'Agfa ePhoto 1680', ...,\n",
       "       'Toshiba PDR-M71', 'Toshiba PDR-M81', 'Toshiba PDR-T10'],\n",
       "      dtype=object)"
      ]
     },
     "execution_count": 24,
     "metadata": {},
     "output_type": "execute_result"
    }
   ],
   "source": [
    "Cam[\"Model\"].unique()"
   ]
  },
  {
   "cell_type": "code",
   "execution_count": 25,
   "id": "886de696-049e-4337-8f71-27895a2ce702",
   "metadata": {},
   "outputs": [
    {
     "data": {
      "text/plain": [
       "array(['DOUBLE', '1997', '1998', '2000', '1999', '2001', '1996', '2002',\n",
       "       '2003', '2004', '2005', '2006', '2007', '1994', '1995'],\n",
       "      dtype=object)"
      ]
     },
     "execution_count": 25,
     "metadata": {},
     "output_type": "execute_result"
    }
   ],
   "source": [
    "Cam[\"Release date\"].unique()"
   ]
  },
  {
   "cell_type": "code",
   "execution_count": 26,
   "id": "0ac8d93f-fe0f-4ebf-a53b-3cae6357d8a9",
   "metadata": {
    "scrolled": true
   },
   "outputs": [
    {
     "data": {
      "text/plain": [
       "array(['DOUBLE', '1024', '1280', '640', '1152', '1600', '832', '2048',\n",
       "       '2272', '2592', '2816', '3072', '3264', '3648', '4000', '2464',\n",
       "       '3504', '3888', '4064', '4992', '5616', '3456', '4368', '2160',\n",
       "       '1536', '1856', '2560', '2304', '2240', '3040', '3008', '2400',\n",
       "       '2832', '2016', '2303', '2848', '3296', '3488', '4048', '4256',\n",
       "       '1800', '1632', '1636', '2080', '2608', '2576', '2320', '2800',\n",
       "       '2864', '3096', '3112', '3298', '2032', '2096', '2336', '2690',\n",
       "       '2572', '0', '2408', '1760', '1792', '4536', '1520', '2008',\n",
       "       '1524', '3060', '1728', '3032', '4500', '2580', '2448', '2872',\n",
       "       '1752', '2041', '2569', '3056', '3280', '3136', '3840', '4224',\n",
       "       '3936', '512', '2288', '2000', '3872', '4288', '1712', '1984',\n",
       "       '1368', '3248', '2595', '2640', '2268', '1344', '1216', '1920',\n",
       "       '3254', '4272', '1472', '1729'], dtype=object)"
      ]
     },
     "execution_count": 26,
     "metadata": {},
     "output_type": "execute_result"
    }
   ],
   "source": [
    "Cam[\"Max resolution\"].unique()"
   ]
  },
  {
   "cell_type": "code",
   "execution_count": 28,
   "id": "ca0ef363-f8d2-4897-acb8-67b35025f7e4",
   "metadata": {},
   "outputs": [
    {
     "data": {
      "text/plain": [
       "array(['DOUBLE', '640', '0', '1024', '1600', '2048', '512', '2272',\n",
       "       '2592', '3072', '2816', '3264', '1232', '3104', '3456', '2032',\n",
       "       '3600', '4992', '2544', '2496', '3168', '1440', '768', '1280',\n",
       "       '2304', '2560', '800', '320', '2240', '2848', '2016', '3024',\n",
       "       '2340', '1136', '1296', '576', '2080', '2288', '2313', '2569',\n",
       "       '896', '1800', '3000', '900', '2160', '2576', '876', '2832',\n",
       "       '2856', '3840', '2952', '3200', '2000', '2896', '1840', '3216',\n",
       "       '3184', '2256', '1792', '2400', '3008', '1120', '1620', '3136',\n",
       "       '2688', '3476', '1776', '1134', '1632', '3896', '1200'],\n",
       "      dtype=object)"
      ]
     },
     "execution_count": 28,
     "metadata": {},
     "output_type": "execute_result"
    }
   ],
   "source": [
    "Cam[\"Low resolution\"].unique()"
   ]
  },
  {
   "cell_type": "code",
   "execution_count": 29,
   "id": "72386b43-d26b-459a-9e95-d57bc1c39818",
   "metadata": {},
   "outputs": [
    {
     "data": {
      "text/plain": [
       "array(['DOUBLE', '0', '1', '3', '4', '5', '6', '7', '8', '10', '12', '11',\n",
       "       '16', '21', '2', '9', '13'], dtype=object)"
      ]
     },
     "execution_count": 29,
     "metadata": {},
     "output_type": "execute_result"
    }
   ],
   "source": [
    "Cam[\"Effective pixels\"].unique()"
   ]
  },
  {
   "cell_type": "code",
   "execution_count": 30,
   "id": "9e0c0314-d5cb-4bbf-80c4-a0e5a97d82a7",
   "metadata": {},
   "outputs": [
    {
     "data": {
      "text/plain": [
       "array(['DOUBLE', '38', '45', '35', '43', '51', '34', '42', '50', '39',\n",
       "       '33', '41', '28', '0', '37', '32', '36', '40', '47', '27', '29',\n",
       "       '30', '24', '23', '52', '31'], dtype=object)"
      ]
     },
     "execution_count": 30,
     "metadata": {},
     "output_type": "execute_result"
    }
   ],
   "source": [
    "Cam[\"Zoom wide (W)\"].unique()"
   ]
  },
  {
   "cell_type": "code",
   "execution_count": 31,
   "id": "aaf95f14-0f5f-4b3d-908a-3391f96bf7ff",
   "metadata": {},
   "outputs": [
    {
     "data": {
      "text/plain": [
       "array(['DOUBLE', '114', '45', '35', '43', '51', '102', '42', '50', '105',\n",
       "       '39', '33', '100', '131', '125', '156', '122', '152', '70', '140',\n",
       "       '210', '0', '200', '370', '380', '64', '432', '108', '38', '90',\n",
       "       '111', '133', '360', '390', '190', '132', '266', '41', '123',\n",
       "       '320', '106', '36', '113', '117', '228', '91', '130', '128', '112',\n",
       "       '180', '300', '76', '234', '486', '115', '118', '86', '37', '185',\n",
       "       '78', '58', '60', '84', '144', '175', '420', '423', '52', '155',\n",
       "       '85', '116', '280', '95', '350', '126', '120', '110', '96', '98',\n",
       "       '150', '504', '222', '104', '187', '107', '135', '160', '28', '72',\n",
       "       '40', '31', '47', '101', '270', '518', '465', '82', '93', '136',\n",
       "       '400', '328'], dtype=object)"
      ]
     },
     "execution_count": 31,
     "metadata": {},
     "output_type": "execute_result"
    }
   ],
   "source": [
    "Cam[\"Zoom tele (T)\"].unique()"
   ]
  },
  {
   "cell_type": "code",
   "execution_count": 32,
   "id": "7f226e5d-ceca-460e-8c5d-525d36adc368",
   "metadata": {},
   "outputs": [
    {
     "data": {
      "text/plain": [
       "array(['DOUBLE', '70', '50', '0', '40', '76', '20', '47', '45', '46',\n",
       "       '55', '32', '10', '57', '66', '80', '30', '60', '23', '90', '75',\n",
       "       '85', '100', '25', '4', '35', '24', '120', '12', '8', '34', '19',\n",
       "       '1'], dtype=object)"
      ]
     },
     "execution_count": 32,
     "metadata": {},
     "output_type": "execute_result"
    }
   ],
   "source": [
    "Cam[\"Normal focus range\"].unique()"
   ]
  },
  {
   "cell_type": "code",
   "execution_count": 34,
   "id": "304e21fb-9c7b-4ea1-9464-3cdb1c06fc03",
   "metadata": {},
   "outputs": [
    {
     "data": {
      "text/plain": [
       "array(['DOUBLE', '40', '0', '20', '3', '10', '16', '5', '1', '9', '17',\n",
       "       '6', '12', '4', '2', '30', '80', '15', '14', '11', '25', '8', '7',\n",
       "       '85', nan, '13', '50', '60', '22', '28', '19'], dtype=object)"
      ]
     },
     "execution_count": 34,
     "metadata": {},
     "output_type": "execute_result"
    }
   ],
   "source": [
    "Cam[\"Macro focus range\"].unique()"
   ]
  },
  {
   "cell_type": "code",
   "execution_count": 35,
   "id": "16fcc07c-6d51-4565-96d4-c7d17a65ce27",
   "metadata": {},
   "outputs": [
    {
     "data": {
      "text/plain": [
       "array(['DOUBLE', '4', '2', '40', '8', '1', '32', '0', '16', '64', '7',\n",
       "       '9', '10', '11', '15', '6', '12', '26', '25', '27', '340', '58',\n",
       "       '54', nan, '22', '20', '256', '24', '13', '14', '21', '23', '52',\n",
       "       '28', '48', '47', '19', '17', '18', '50', '45', '450', '173',\n",
       "       '128', '31', '56'], dtype=object)"
      ]
     },
     "execution_count": 35,
     "metadata": {},
     "output_type": "execute_result"
    }
   ],
   "source": [
    "Cam[\"Storage included\"].unique()"
   ]
  },
  {
   "cell_type": "code",
   "execution_count": null,
   "id": "364e8893-9290-4557-961c-a98d768ad5b4",
   "metadata": {},
   "outputs": [],
   "source": [
    "Cam[\"Macro focus range\"].unique()"
   ]
  },
  {
   "cell_type": "code",
   "execution_count": null,
   "id": "47645c40-8bbc-451a-a073-91174080b2ce",
   "metadata": {},
   "outputs": [],
   "source": [
    "Cam[\"Macro focus range\"].unique()"
   ]
  },
  {
   "cell_type": "code",
   "execution_count": null,
   "id": "0d09793d-8c83-41c3-93da-4a4f5ed9320f",
   "metadata": {},
   "outputs": [],
   "source": [
    "Cam[\"Macro focus range\"].unique()"
   ]
  }
 ],
 "metadata": {
  "kernelspec": {
   "display_name": "Python 3 (ipykernel)",
   "language": "python",
   "name": "python3"
  },
  "language_info": {
   "codemirror_mode": {
    "name": "ipython",
    "version": 3
   },
   "file_extension": ".py",
   "mimetype": "text/x-python",
   "name": "python",
   "nbconvert_exporter": "python",
   "pygments_lexer": "ipython3",
   "version": "3.11.7"
  }
 },
 "nbformat": 4,
 "nbformat_minor": 5
}
