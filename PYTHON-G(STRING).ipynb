{
 "cells": [
  {
   "cell_type": "markdown",
   "id": "0c961457",
   "metadata": {},
   "source": [
    "# STRING"
   ]
  },
  {
   "cell_type": "code",
   "execution_count": 1,
   "id": "282168cd",
   "metadata": {},
   "outputs": [],
   "source": [
    "t='banty'\n",
    "s=\"pankaj\"\n",
    "a='''kilvisha yadav'''"
   ]
  },
  {
   "cell_type": "code",
   "execution_count": 2,
   "id": "1edac3ea",
   "metadata": {},
   "outputs": [
    {
     "data": {
      "text/plain": [
       "'pankaj'"
      ]
     },
     "execution_count": 2,
     "metadata": {},
     "output_type": "execute_result"
    }
   ],
   "source": [
    "s"
   ]
  },
  {
   "cell_type": "code",
   "execution_count": 3,
   "id": "9af302f7",
   "metadata": {},
   "outputs": [
    {
     "data": {
      "text/plain": [
       "'banty'"
      ]
     },
     "execution_count": 3,
     "metadata": {},
     "output_type": "execute_result"
    }
   ],
   "source": [
    "t"
   ]
  },
  {
   "cell_type": "code",
   "execution_count": 4,
   "id": "082e6d7a",
   "metadata": {},
   "outputs": [
    {
     "data": {
      "text/plain": [
       "'kilvisha yadav'"
      ]
     },
     "execution_count": 4,
     "metadata": {},
     "output_type": "execute_result"
    }
   ],
   "source": [
    "a"
   ]
  },
  {
   "cell_type": "code",
   "execution_count": 5,
   "id": "b01b29c1",
   "metadata": {},
   "outputs": [],
   "source": [
    "#'''''' is use for multiline\n",
    "a='''twinkile twinkle little strar\n",
    "how i wonder what u are'''"
   ]
  },
  {
   "cell_type": "code",
   "execution_count": 7,
   "id": "40de36fd",
   "metadata": {},
   "outputs": [
    {
     "data": {
      "text/plain": [
       "'twinkile twinkle little strar\\nhow i wonder what u are'"
      ]
     },
     "execution_count": 7,
     "metadata": {},
     "output_type": "execute_result"
    }
   ],
   "source": [
    "a"
   ]
  },
  {
   "cell_type": "code",
   "execution_count": 8,
   "id": "c21afe9d",
   "metadata": {},
   "outputs": [
    {
     "name": "stdout",
     "output_type": "stream",
     "text": [
      "twinkile twinkle little strar\n",
      "how i wonder what u are\n"
     ]
    }
   ],
   "source": [
    "print(a)"
   ]
  },
  {
   "cell_type": "code",
   "execution_count": 9,
   "id": "91185082",
   "metadata": {},
   "outputs": [
    {
     "name": "stdout",
     "output_type": "stream",
     "text": [
      "p\n"
     ]
    }
   ],
   "source": [
    "print(s[0])"
   ]
  },
  {
   "cell_type": "code",
   "execution_count": 10,
   "id": "5aad2a78",
   "metadata": {},
   "outputs": [
    {
     "name": "stdout",
     "output_type": "stream",
     "text": [
      "p p\n",
      "a a\n",
      "n n\n",
      "k k\n",
      "a a\n",
      "j j\n"
     ]
    }
   ],
   "source": [
    "print(s[0],s[-6])\n",
    "print(s[1],s[-5])\n",
    "print(s[2],s[-4])\n",
    "print(s[3],s[-3])\n",
    "print(s[4],s[-2])\n",
    "print(s[5],s[-1])"
   ]
  },
  {
   "cell_type": "code",
   "execution_count": 13,
   "id": "2486b5fd",
   "metadata": {},
   "outputs": [
    {
     "name": "stdout",
     "output_type": "stream",
     "text": [
      "0 is p\n",
      "1 is a\n",
      "2 is n\n",
      "3 is k\n",
      "4 is a\n",
      "5 is j\n"
     ]
    }
   ],
   "source": [
    "for x in range(len(s)):\n",
    "    print(x,\"is\",s[x])"
   ]
  },
  {
   "cell_type": "code",
   "execution_count": 14,
   "id": "d40fb94a",
   "metadata": {},
   "outputs": [
    {
     "name": "stdout",
     "output_type": "stream",
     "text": [
      "ank\n",
      "ankaj\n",
      "ankaj\n",
      "panka\n",
      "pankaj\n"
     ]
    }
   ],
   "source": [
    "print(s[1:4])\n",
    "print(s[1:100])\n",
    "print(s[1:])\n",
    "print(s[:5])\n",
    "print(s[:])"
   ]
  },
  {
   "cell_type": "code",
   "execution_count": 15,
   "id": "f0166793",
   "metadata": {},
   "outputs": [
    {
     "data": {
      "text/plain": [
       "'step can be positive or negative\\n\\n1)if it is positive ===>it should be in forward direction OR left to right within string\\n\\nand s[begin:end] will slice from begin till end-1 index.\\n\\n2) if it is negative ==>reverse direction\\n\\nOR right to left in string\\n\\nand\\n\\ns[begin, end, ]==>will slice from begin till end+1 with\\xa0specified\\xa0steps'"
      ]
     },
     "execution_count": 15,
     "metadata": {},
     "output_type": "execute_result"
    }
   ],
   "source": [
    "#slice operator\n",
    "\n",
    "\"\"\"step can be positive or negative\n",
    "\n",
    "1)if it is positive ===>it should be in forward direction OR left to right within string\n",
    "\n",
    "and s[begin:end] will slice from begin till end-1 index.\n",
    "\n",
    "2) if it is negative ==>reverse direction\n",
    "\n",
    "OR right to left in string\n",
    "\n",
    "and\n",
    "\n",
    "s[begin, end, ]==>will slice from begin till end+1 with specified steps\"\"\""
   ]
  },
  {
   "cell_type": "code",
   "execution_count": 17,
   "id": "83334ce3",
   "metadata": {},
   "outputs": [],
   "source": [
    "#in forward direction\n",
    "#default begin 0 #default end Len(string) #default step : 1\n",
    "#in backward direction #default end : -(Len(string)+1)\n",
    "#default begin : -1\n",
    "#index in any way can be negative or positive"
   ]
  },
  {
   "cell_type": "code",
   "execution_count": 18,
   "id": "0cc499e3",
   "metadata": {},
   "outputs": [
    {
     "data": {
      "text/plain": [
       "'akn'"
      ]
     },
     "execution_count": 18,
     "metadata": {},
     "output_type": "execute_result"
    }
   ],
   "source": [
    "s[-2:-5: -1]# -2, -3, -4 ====>decrease\n",
    "#-1 backward direction\n",
    "#from index -2 till index -5 +1 ==>-2, -3, -4"
   ]
  },
  {
   "cell_type": "code",
   "execution_count": 19,
   "id": "1655deaa",
   "metadata": {},
   "outputs": [
    {
     "name": "stdout",
     "output_type": "stream",
     "text": [
      "enter original stringpankaj fuck off\n",
      "enter the substring u want to find fuck off\n",
      "YES\n"
     ]
    }
   ],
   "source": [
    "#to find whether a substring is present in a string or not #we have this built in function in python\n",
    "s=input(\"enter original string\") \n",
    "t=input(\"enter the substring u want to find \")\n",
    "if t in s:\n",
    "    print(\"YES\")\n",
    "else:\n",
    "    print(\"NO\")"
   ]
  },
  {
   "cell_type": "code",
   "execution_count": 20,
   "id": "5604af56",
   "metadata": {},
   "outputs": [
    {
     "name": "stdout",
     "output_type": "stream",
     "text": [
      "enter original stringbabab\n",
      "yes\n"
     ]
    }
   ],
   "source": [
    "#palindrome srting\n",
    "s=input(\"enter original string\") \n",
    "if s[::-1]==s:\n",
    "    print(\"yes\")\n",
    "else:\n",
    "    print(\"no\")"
   ]
  },
  {
   "cell_type": "code",
   "execution_count": 23,
   "id": "f5719b76",
   "metadata": {},
   "outputs": [
    {
     "name": "stdout",
     "output_type": "stream",
     "text": [
      "12\n",
      "pankaj\n",
      "6\n"
     ]
    }
   ],
   "source": [
    "#removing spaces in string\n",
    "#strip->rmove spaces from begining as well as from end of the string\n",
    "s=\"   pankaj   \"\n",
    "updated=s.strip()\n",
    "print(len(s))#Length ==>12 \n",
    "print(updated)\n",
    "print(len(updated))#strip is not a generalized method==>only for string\n",
    "\n"
   ]
  },
  {
   "cell_type": "code",
   "execution_count": 24,
   "id": "35dd23d0",
   "metadata": {},
   "outputs": [
    {
     "name": "stdout",
     "output_type": "stream",
     "text": [
      "['i', 'am', 'a', 'good', 'boy']\n"
     ]
    }
   ],
   "source": [
    "#split function\n",
    "s=\"i am a good boy\"\n",
    "l=s.split()\n",
    "print(l)"
   ]
  },
  {
   "cell_type": "code",
   "execution_count": 29,
   "id": "84ceb622",
   "metadata": {},
   "outputs": [
    {
     "name": "stdout",
     "output_type": "stream",
     "text": [
      "['21', '07', '43']\n"
     ]
    }
   ],
   "source": [
    "d=\"21/07/43\"\n",
    "D=d.split(\"/\")\n",
    "print(D)"
   ]
  },
  {
   "cell_type": "code",
   "execution_count": 31,
   "id": "d0caf13e",
   "metadata": {},
   "outputs": [
    {
     "name": "stdout",
     "output_type": "stream",
     "text": [
      "i@am@a@good@boy\n"
     ]
    }
   ],
   "source": [
    "#join\n",
    "l=['i', 'am', 'a', 'good', 'boy']\n",
    "a='@'.join(l)\n",
    "print(a)"
   ]
  },
  {
   "cell_type": "code",
   "execution_count": 32,
   "id": "3c962f0c",
   "metadata": {},
   "outputs": [
    {
     "name": "stdout",
     "output_type": "stream",
     "text": [
      "am\n",
      "good\n"
     ]
    }
   ],
   "source": [
    "#to print the even lenth word\n",
    "s=\"i am a good boy\"\n",
    "for x in s.split():\n",
    "    if len(x)%2==0:\n",
    "        print(x)"
   ]
  },
  {
   "cell_type": "code",
   "execution_count": 2,
   "id": "0aa3b2c5",
   "metadata": {},
   "outputs": [
    {
     "name": "stdout",
     "output_type": "stream",
     "text": [
      "pankaj\n",
      "teaching\n",
      "us\n",
      "python\n"
     ]
    }
   ],
   "source": [
    "#to print even length words in the string\n",
    "s=\"pankaj sir teaching us python\"\n",
    "for word in s.split():\n",
    "    if len(word)%2==0:\n",
    "        print(word)"
   ]
  },
  {
   "cell_type": "code",
   "execution_count": 3,
   "id": "708d35e7",
   "metadata": {},
   "outputs": [
    {
     "name": "stdout",
     "output_type": "stream",
     "text": [
      "sir\n"
     ]
    }
   ],
   "source": [
    "#to print odd length words in the string\n",
    "s=\"pankaj sir teaching us python\"\n",
    "for word in s.split():\n",
    "    if len(word)%2!=0:\n",
    "        print(word)"
   ]
  },
  {
   "cell_type": "code",
   "execution_count": 4,
   "id": "b8cfffc5",
   "metadata": {},
   "outputs": [
    {
     "name": "stdout",
     "output_type": "stream",
     "text": [
      "P S sir\n"
     ]
    }
   ],
   "source": [
    "#except last word iterate on every word &take only 1st character in a list\n",
    "s=\"Pankaj Sharma sir\"\n",
    "new=[]\n",
    "c=s.split()\n",
    "for word in c[ :len(c)-1]:\n",
    "    new.append(word[0])\n",
    "new.append(c[len(c)-1])\n",
    "print(' '.join(new))\n",
    "    "
   ]
  },
  {
   "cell_type": "code",
   "execution_count": 6,
   "id": "3feca955",
   "metadata": {},
   "outputs": [
    {
     "name": "stdout",
     "output_type": "stream",
     "text": [
      "0\n"
     ]
    }
   ],
   "source": [
    "#find()\n",
    "#it return index of first occurance of the given substring ,if it is not present then it return '-1'\n",
    "s=\"pankaj sir is pankaj sir\"\n",
    "print(s.find(\"pankaj\"))"
   ]
  },
  {
   "cell_type": "code",
   "execution_count": 7,
   "id": "38b44546",
   "metadata": {},
   "outputs": [
    {
     "name": "stdout",
     "output_type": "stream",
     "text": [
      "11\n"
     ]
    }
   ],
   "source": [
    "print(s.find(\"is\"))"
   ]
  },
  {
   "cell_type": "code",
   "execution_count": 8,
   "id": "b116d158",
   "metadata": {},
   "outputs": [
    {
     "name": "stdout",
     "output_type": "stream",
     "text": [
      "-1\n"
     ]
    }
   ],
   "source": [
    "print(s.find(\"ankit\"))"
   ]
  },
  {
   "cell_type": "code",
   "execution_count": 10,
   "id": "baa3f288",
   "metadata": {},
   "outputs": [
    {
     "name": "stdout",
     "output_type": "stream",
     "text": [
      "-1\n"
     ]
    }
   ],
   "source": [
    "#there is another version of find() in which u can tell from where to start search\n",
    "#find(sub,startindex,endindex)#search sub in between start index to endindex\n",
    "#if it is present otherwise return -1\n",
    "s=\"pankaj sir is op\"\n",
    "print(s.find(\"pankaj\",10,20))"
   ]
  },
  {
   "cell_type": "code",
   "execution_count": 11,
   "id": "c219a1db",
   "metadata": {},
   "outputs": [
    {
     "name": "stdout",
     "output_type": "stream",
     "text": [
      "7\n"
     ]
    }
   ],
   "source": [
    "print(s.find(\"sir\",6,20))"
   ]
  },
  {
   "cell_type": "code",
   "execution_count": 13,
   "id": "3e0a05a3",
   "metadata": {},
   "outputs": [
    {
     "name": "stdout",
     "output_type": "stream",
     "text": [
      "14\n"
     ]
    }
   ],
   "source": [
    "#last occurance ka index return karta hai\n",
    "#index()==>valuError if sub not present\n",
    "s=\"pankaj sir is pankaj sir\"\n",
    "print(s.rfind(\"pankaj\"))"
   ]
  },
  {
   "cell_type": "code",
   "execution_count": 14,
   "id": "ebc766bc",
   "metadata": {},
   "outputs": [
    {
     "name": "stdout",
     "output_type": "stream",
     "text": [
      "2\n"
     ]
    }
   ],
   "source": [
    "#count() return no of occurance in a string\n",
    "s=\"pankaj sir is pankaj sir\"\n",
    "print(s.count(\"pankaj\"))"
   ]
  },
  {
   "cell_type": "code",
   "execution_count": 15,
   "id": "cdbc05a4",
   "metadata": {},
   "outputs": [
    {
     "name": "stdout",
     "output_type": "stream",
     "text": [
      "2\n"
     ]
    }
   ],
   "source": [
    "s=\"pankaj sir is pankaj sir\"\n",
    "print(s.count(\"pankaj\",0,len(s)))"
   ]
  },
  {
   "cell_type": "code",
   "execution_count": 16,
   "id": "efdebc18",
   "metadata": {},
   "outputs": [
    {
     "name": "stdout",
     "output_type": "stream",
     "text": [
      "1\n"
     ]
    }
   ],
   "source": [
    "s=\"pankaj sir is pankaj sir\"\n",
    "print(s.count(\"pankaj\",1,len(s)))"
   ]
  },
  {
   "cell_type": "code",
   "execution_count": 19,
   "id": "c73b52d1",
   "metadata": {},
   "outputs": [
    {
     "name": "stdout",
     "output_type": "stream",
     "text": [
      "Ankit sir is a op teacher\n"
     ]
    }
   ],
   "source": [
    "#replace(\"str[want to change]\",\"str[new want to put]\") ==> it replace a string with another string\n",
    "s=\"pankaj sir is a op teacher\"\n",
    "t=s.replace(\"pankaj\",\"Ankit\")\n",
    "print(t)"
   ]
  },
  {
   "cell_type": "code",
   "execution_count": 20,
   "id": "783dcfc6",
   "metadata": {},
   "outputs": [
    {
     "name": "stdout",
     "output_type": "stream",
     "text": [
      "pankaj sir is a op teacher\n"
     ]
    }
   ],
   "source": [
    "print(s)#==>string is immutable"
   ]
  },
  {
   "cell_type": "code",
   "execution_count": 21,
   "id": "9a6bed90",
   "metadata": {},
   "outputs": [
    {
     "name": "stdout",
     "output_type": "stream",
     "text": [
      "hello komalika\n",
      "komalika hello\n"
     ]
    }
   ],
   "source": [
    "#reverse a string\n",
    "s=input().split()\n",
    "x=\" \".join(s[ ::-1])\n",
    "print(x)"
   ]
  },
  {
   "cell_type": "code",
   "execution_count": 22,
   "id": "38ada837",
   "metadata": {},
   "outputs": [
    {
     "name": "stdout",
     "output_type": "stream",
     "text": [
      "komalika das gote madarchod\n",
      "akilamok sad etog dohcradam\n"
     ]
    }
   ],
   "source": [
    "#reverse a string{all word's char}\n",
    "s=input().split()\n",
    "l=[]\n",
    "for word in s:\n",
    "    l.append(word[::-1])\n",
    "x=' '.join(l)\n",
    "print(x)\n",
    "   "
   ]
  },
  {
   "cell_type": "code",
   "execution_count": 23,
   "id": "d12beb70",
   "metadata": {},
   "outputs": [
    {
     "name": "stdout",
     "output_type": "stream",
     "text": [
      "True\n"
     ]
    }
   ],
   "source": [
    "#some other method\n",
    "s='pankaj'\n",
    "print(s.isalnum())"
   ]
  },
  {
   "cell_type": "code",
   "execution_count": 24,
   "id": "6be7d526",
   "metadata": {},
   "outputs": [
    {
     "name": "stdout",
     "output_type": "stream",
     "text": [
      "True\n"
     ]
    }
   ],
   "source": [
    "#some other method\n",
    "s='pankaj'\n",
    "print(s.isalpha())"
   ]
  },
  {
   "cell_type": "code",
   "execution_count": 25,
   "id": "21c66b4e",
   "metadata": {},
   "outputs": [
    {
     "name": "stdout",
     "output_type": "stream",
     "text": [
      "False\n"
     ]
    }
   ],
   "source": [
    "#some other method\n",
    "s='pankaj67'\n",
    "print(s.isalpha())"
   ]
  },
  {
   "cell_type": "code",
   "execution_count": 26,
   "id": "f597d6cc",
   "metadata": {},
   "outputs": [
    {
     "name": "stdout",
     "output_type": "stream",
     "text": [
      "False\n"
     ]
    }
   ],
   "source": [
    "#some other method\n",
    "s='pankaj'\n",
    "print(s.isdigit())"
   ]
  },
  {
   "cell_type": "code",
   "execution_count": 27,
   "id": "a4e72e6b",
   "metadata": {},
   "outputs": [
    {
     "name": "stdout",
     "output_type": "stream",
     "text": [
      "True\n"
     ]
    }
   ],
   "source": [
    "#some other method\n",
    "s='24335'\n",
    "print(s.isdigit())"
   ]
  },
  {
   "cell_type": "code",
   "execution_count": 28,
   "id": "90e383d4",
   "metadata": {},
   "outputs": [
    {
     "name": "stdout",
     "output_type": "stream",
     "text": [
      "True\n"
     ]
    }
   ],
   "source": [
    "#some other method\n",
    "s='pankaj'\n",
    "print(s.islower())"
   ]
  },
  {
   "cell_type": "code",
   "execution_count": 30,
   "id": "739d3edb",
   "metadata": {},
   "outputs": [
    {
     "name": "stdout",
     "output_type": "stream",
     "text": [
      "True\n"
     ]
    }
   ],
   "source": [
    "#some other method\n",
    "s='PANKAJ'\n",
    "print(s.isupper())"
   ]
  },
  {
   "cell_type": "code",
   "execution_count": 31,
   "id": "420bca47",
   "metadata": {},
   "outputs": [
    {
     "name": "stdout",
     "output_type": "stream",
     "text": [
      "False\n"
     ]
    }
   ],
   "source": [
    "#some other method\n",
    "s='PANKAJ'\n",
    "print(s.isspace())"
   ]
  },
  {
   "cell_type": "code",
   "execution_count": 32,
   "id": "fb38c14c",
   "metadata": {},
   "outputs": [
    {
     "name": "stdout",
     "output_type": "stream",
     "text": [
      "False\n"
     ]
    }
   ],
   "source": [
    "#some other method\n",
    "s='PANKA J'\n",
    "print(s.isspace())"
   ]
  },
  {
   "cell_type": "code",
   "execution_count": null,
   "id": "6519ce9c",
   "metadata": {},
   "outputs": [],
   "source": []
  }
 ],
 "metadata": {
  "kernelspec": {
   "display_name": "Python 3 (ipykernel)",
   "language": "python",
   "name": "python3"
  },
  "language_info": {
   "codemirror_mode": {
    "name": "ipython",
    "version": 3
   },
   "file_extension": ".py",
   "mimetype": "text/x-python",
   "name": "python",
   "nbconvert_exporter": "python",
   "pygments_lexer": "ipython3",
   "version": "3.11.5"
  }
 },
 "nbformat": 4,
 "nbformat_minor": 5
}
