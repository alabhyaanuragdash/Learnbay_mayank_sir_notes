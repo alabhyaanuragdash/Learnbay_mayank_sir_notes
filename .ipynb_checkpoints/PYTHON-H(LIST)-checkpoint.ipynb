{
 "cells": [
  {
   "cell_type": "markdown",
   "id": "d34bc5e1",
   "metadata": {},
   "source": [
    "# LIST"
   ]
  },
  {
   "cell_type": "code",
   "execution_count": null,
   "id": "1c3db6a5",
   "metadata": {},
   "outputs": [],
   "source": [
    "\"\"\"\n",
    "\n",
    "=>Duplicate allow\n",
    "=>Order preserve\n",
    "=>Slicing\n",
    "=>Indexing\n",
    "=>Mutable\n",
    "=>Heterogenious\n",
    "\n",
    "\"\"\""
   ]
  },
  {
   "cell_type": "code",
   "execution_count": 15,
   "id": "18979c64",
   "metadata": {},
   "outputs": [
    {
     "name": "stdout",
     "output_type": "stream",
     "text": [
      "[]\n",
      "<class 'list'>\n"
     ]
    }
   ],
   "source": [
    "#Creating a List\n",
    "#Empty List\n",
    "l=[]\n",
    "print(l)\n",
    "print(type(l))"
   ]
  },
  {
   "cell_type": "code",
   "execution_count": 2,
   "id": "3a99b410",
   "metadata": {},
   "outputs": [
    {
     "name": "stdout",
     "output_type": "stream",
     "text": [
      "[1, 3, 5, 7, 9]\n"
     ]
    }
   ],
   "source": [
    "#using List()\n",
    "l=list(range(1,10,2))\n",
    "print(l)"
   ]
  },
  {
   "cell_type": "code",
   "execution_count": 5,
   "id": "a50158c5",
   "metadata": {},
   "outputs": [
    {
     "name": "stdout",
     "output_type": "stream",
     "text": [
      "enter[1,2,3,4]\n",
      "[1, 2, 3, 4]\n"
     ]
    }
   ],
   "source": [
    "#eval\n",
    "l=eval(input(\"enter\"))\n",
    "print(l)\n"
   ]
  },
  {
   "cell_type": "code",
   "execution_count": 7,
   "id": "8fa9cbab",
   "metadata": {},
   "outputs": [
    {
     "name": "stdout",
     "output_type": "stream",
     "text": [
      "enter a list1 2 3 4 5\n",
      "[1, 2, 3, 4, 5]\n"
     ]
    }
   ],
   "source": [
    "#using a for loop\n",
    "l=[]\n",
    "s=input(\"enter a list\")\n",
    "for no in s.split():\n",
    "    l.append(int(no))\n",
    "print(l)"
   ]
  },
  {
   "cell_type": "code",
   "execution_count": 10,
   "id": "990d1197",
   "metadata": {},
   "outputs": [
    {
     "name": "stdout",
     "output_type": "stream",
     "text": [
      "Enter the no of data want to enter to a list5\n",
      "Enter Number1\n",
      "Enter Number2\n",
      "Enter Number3\n",
      "Enter Number4\n",
      "Enter Number5\n",
      "[1, 2, 3, 4, 5]\n"
     ]
    }
   ],
   "source": [
    "#specific number of data want to enter into a list\n",
    "l=[]\n",
    "n=int(input(\"Enter the no of data want to enter to a list\"))\n",
    "for x in range(n):\n",
    "    l.append(int(input(\"Enter Number\")))\n",
    "print(l)"
   ]
  },
  {
   "cell_type": "code",
   "execution_count": 11,
   "id": "15efbfb2",
   "metadata": {},
   "outputs": [
    {
     "name": "stdout",
     "output_type": "stream",
     "text": [
      "[0, 0, 0, 0, 0, 0, 0, 0]\n"
     ]
    }
   ],
   "source": [
    "#List Comprehension\n",
    "l=[0 for x in range(8)]\n",
    "print(l)"
   ]
  },
  {
   "cell_type": "code",
   "execution_count": 12,
   "id": "a0b317e1",
   "metadata": {},
   "outputs": [
    {
     "name": "stdout",
     "output_type": "stream",
     "text": [
      "[0, 1, 2, 3, 4, 5, 6, 7]\n"
     ]
    }
   ],
   "source": [
    "l=[x for x in range(8)]\n",
    "print(l)"
   ]
  },
  {
   "cell_type": "code",
   "execution_count": 13,
   "id": "1ea8c342",
   "metadata": {},
   "outputs": [
    {
     "name": "stdout",
     "output_type": "stream",
     "text": [
      "[0, 1, 4, 9, 16, 25, 36, 49]\n"
     ]
    }
   ],
   "source": [
    "l=[x*x for x in range(8)]\n",
    "print(l)"
   ]
  },
  {
   "cell_type": "code",
   "execution_count": 14,
   "id": "d2133b7c",
   "metadata": {},
   "outputs": [
    {
     "name": "stdout",
     "output_type": "stream",
     "text": [
      "[0, 1, 4, 9, 16, 25, 36, 49, 23]\n"
     ]
    }
   ],
   "source": [
    "#adding element in a list\n",
    "#append()==> it's use for adding a key word in a list\n",
    "#it add a new data at the end of the list\n",
    "s=[0, 1, 4, 9, 16, 25, 36, 49]\n",
    "s.append(23)\n",
    "print(s)"
   ]
  },
  {
   "cell_type": "code",
   "execution_count": 18,
   "id": "98486e19",
   "metadata": {},
   "outputs": [
    {
     "name": "stdout",
     "output_type": "stream",
     "text": [
      "[1, 2, 7, 3, 4, 5]\n"
     ]
    }
   ],
   "source": [
    "#insert(indexNo.,\"data\")==>it's also use for adding a data into a list\n",
    "# but in insert we can add a data to a specific index\n",
    "l=[1, 2, 3, 4, 5]\n",
    "l.insert(2,7)\n",
    "print(l)"
   ]
  },
  {
   "cell_type": "code",
   "execution_count": 19,
   "id": "aad1d2a7",
   "metadata": {},
   "outputs": [
    {
     "name": "stdout",
     "output_type": "stream",
     "text": [
      "['pankaj', 1, 2, 7, 3, 4, 5]\n"
     ]
    }
   ],
   "source": [
    "l.insert(0,\"pankaj\")\n",
    "print(l)"
   ]
  },
  {
   "cell_type": "code",
   "execution_count": 21,
   "id": "6d71d7a0",
   "metadata": {},
   "outputs": [
    {
     "name": "stdout",
     "output_type": "stream",
     "text": [
      "[1, 2, 3, 4, 4, 5, 6, 'abhi']\n",
      "[4, 5, 6, 'abhi']\n"
     ]
    }
   ],
   "source": [
    "#extend()==>it's used for adding two list\n",
    "a=[1,2,3,4]\n",
    "b=[4,5,6,'abhi']\n",
    "a.extend(b)\n",
    "print(a)\n",
    "print(b)"
   ]
  },
  {
   "cell_type": "code",
   "execution_count": 22,
   "id": "62cf9992",
   "metadata": {},
   "outputs": [
    {
     "name": "stdout",
     "output_type": "stream",
     "text": [
      "[34, 55, 43, 55, 23]\n"
     ]
    }
   ],
   "source": [
    "#removing element in a list\n",
    "#remove()==> it's delete only 1st given element of the list\n",
    "# it's return error if  given element is not present\n",
    "l=[12,34,55,43,55,23]\n",
    "l.remove(12)\n",
    "print(l)\n"
   ]
  },
  {
   "cell_type": "code",
   "execution_count": 23,
   "id": "4f94f90a",
   "metadata": {},
   "outputs": [
    {
     "name": "stdout",
     "output_type": "stream",
     "text": [
      "[34, 43, 55, 23]\n"
     ]
    }
   ],
   "source": [
    "l.remove(55)\n",
    "print(l)"
   ]
  },
  {
   "cell_type": "code",
   "execution_count": 25,
   "id": "240f1a38",
   "metadata": {},
   "outputs": [
    {
     "name": "stdout",
     "output_type": "stream",
     "text": [
      "3\n"
     ]
    }
   ],
   "source": [
    "#pop(indexNo.)==> it remove & return the last element from the list\n",
    "a=[1,2,3,4]\n",
    "l=a.pop(2)\n",
    "print(l)"
   ]
  },
  {
   "cell_type": "code",
   "execution_count": 26,
   "id": "b4bdbfe2",
   "metadata": {},
   "outputs": [
    {
     "name": "stdout",
     "output_type": "stream",
     "text": [
      "None\n"
     ]
    }
   ],
   "source": [
    "#but remove don't remove anything it return 'none'\n",
    "a=[1,2,3,4]\n",
    "l=a.remove(2)\n",
    "print(l)"
   ]
  },
  {
   "cell_type": "code",
   "execution_count": 29,
   "id": "d59d7727",
   "metadata": {},
   "outputs": [
    {
     "data": {
      "text/plain": [
       "[1, 2, 3, 4]"
      ]
     },
     "execution_count": 29,
     "metadata": {},
     "output_type": "execute_result"
    }
   ],
   "source": [
    "# None keyword is an object, and it is a data type of the class NoneType\n",
    "#The del keyword is used to delete objects\n",
    "a=[1,2,3,4]\n",
    "a\n"
   ]
  },
  {
   "cell_type": "code",
   "execution_count": 30,
   "id": "b6e4b39e",
   "metadata": {},
   "outputs": [
    {
     "ename": "NameError",
     "evalue": "name 'a' is not defined",
     "output_type": "error",
     "traceback": [
      "\u001b[1;31m---------------------------------------------------------------------------\u001b[0m",
      "\u001b[1;31mNameError\u001b[0m                                 Traceback (most recent call last)",
      "Cell \u001b[1;32mIn[30], line 2\u001b[0m\n\u001b[0;32m      1\u001b[0m \u001b[38;5;28;01mdel\u001b[39;00m a\n\u001b[1;32m----> 2\u001b[0m a\n",
      "\u001b[1;31mNameError\u001b[0m: name 'a' is not defined"
     ]
    }
   ],
   "source": [
    "del a\n",
    "a"
   ]
  },
  {
   "cell_type": "code",
   "execution_count": 34,
   "id": "157ee085",
   "metadata": {},
   "outputs": [],
   "source": [
    "a=[1,2,3,4]\n",
    "a= None\n",
    "a"
   ]
  },
  {
   "cell_type": "code",
   "execution_count": 35,
   "id": "ab5aa9ec",
   "metadata": {},
   "outputs": [
    {
     "data": {
      "text/plain": [
       "[2, 3]"
      ]
     },
     "execution_count": 35,
     "metadata": {},
     "output_type": "execute_result"
    }
   ],
   "source": [
    "a=[2,3]\n",
    "a\n"
   ]
  },
  {
   "cell_type": "code",
   "execution_count": 36,
   "id": "75b2eeff",
   "metadata": {},
   "outputs": [
    {
     "name": "stdout",
     "output_type": "stream",
     "text": [
      "5\n"
     ]
    }
   ],
   "source": [
    "#len()==> define the length of the list\n",
    "a=[1,2,3,4,'pankaj']\n",
    "print(len(a))"
   ]
  },
  {
   "cell_type": "code",
   "execution_count": 38,
   "id": "6426c82f",
   "metadata": {},
   "outputs": [
    {
     "name": "stdout",
     "output_type": "stream",
     "text": [
      "4\n"
     ]
    }
   ],
   "source": [
    "#index()==>it show the index no. of the list\n",
    "#if the given element not present in the list then it show error\n",
    "print(a.index('pankaj'))"
   ]
  },
  {
   "cell_type": "code",
   "execution_count": 39,
   "id": "7ab5e5c6",
   "metadata": {},
   "outputs": [
    {
     "name": "stdout",
     "output_type": "stream",
     "text": [
      "not found nirajee\n"
     ]
    }
   ],
   "source": [
    "#membership\n",
    "if \"nirajee\" in a:\n",
    "    print(\"nirajee is present at position\",a.index(\"nirajee\"))\n",
    "else:\n",
    "    print(\"not found nirajee\")"
   ]
  },
  {
   "cell_type": "code",
   "execution_count": 40,
   "id": "6ce8cd26",
   "metadata": {},
   "outputs": [
    {
     "name": "stdout",
     "output_type": "stream",
     "text": [
      "[4, 3, 2, 1]\n"
     ]
    }
   ],
   "source": [
    "#reverse()==>it is reverse the element of the list\n",
    "a=[1,2,3,4]\n",
    "a.reverse()\n",
    "print(a)"
   ]
  },
  {
   "cell_type": "code",
   "execution_count": 41,
   "id": "c01e8269",
   "metadata": {},
   "outputs": [
    {
     "name": "stdout",
     "output_type": "stream",
     "text": [
      "[-56, -51, 23, 34]\n"
     ]
    }
   ],
   "source": [
    "#sort()==>it is use for shorting the list numbers in incresing order\n",
    "a=[23,-56,34,-51]\n",
    "a.sort()\n",
    "print(a)"
   ]
  },
  {
   "cell_type": "code",
   "execution_count": 43,
   "id": "0c56d641",
   "metadata": {},
   "outputs": [
    {
     "name": "stdout",
     "output_type": "stream",
     "text": [
      "[34, 31, 23, 0, -51, -56]\n"
     ]
    }
   ],
   "source": [
    "a=[23,-56,34,-51,0,31]\n",
    "a.sort(reverse=True)\n",
    "print(a)"
   ]
  },
  {
   "cell_type": "code",
   "execution_count": 11,
   "id": "ff9891d8",
   "metadata": {},
   "outputs": [
    {
     "data": {
      "text/plain": [
       "2273175774080"
      ]
     },
     "execution_count": 11,
     "metadata": {},
     "output_type": "execute_result"
    }
   ],
   "source": [
    "#aliasing concept\n",
    "#in this concept both the object inicating to a common list\n",
    "#in this concept problem is when we changing one object value it,s automatically change the other one value\n",
    "x=[10,20,30,40]\n",
    "y=x\n",
    "id(x)"
   ]
  },
  {
   "cell_type": "code",
   "execution_count": 12,
   "id": "6b3324b8",
   "metadata": {},
   "outputs": [
    {
     "data": {
      "text/plain": [
       "2273175774080"
      ]
     },
     "execution_count": 12,
     "metadata": {},
     "output_type": "execute_result"
    }
   ],
   "source": [
    "id(y)"
   ]
  },
  {
   "cell_type": "code",
   "execution_count": 13,
   "id": "247d5196",
   "metadata": {},
   "outputs": [
    {
     "name": "stdout",
     "output_type": "stream",
     "text": [
      "[21, 20, 30, 40]\n"
     ]
    }
   ],
   "source": [
    "x[0]=21\n",
    "print(y)"
   ]
  },
  {
   "cell_type": "code",
   "execution_count": 19,
   "id": "6555389b",
   "metadata": {},
   "outputs": [],
   "source": [
    "#to get rid of this problem==>cloning\n",
    "#creating a new object with same content\n",
    "#1st way is slicing()\n",
    "#2nd way is copy()\n",
    "a=[1,2,3,4,5,6]\n",
    "b=a[::]\n",
    "#not having same id"
   ]
  },
  {
   "cell_type": "code",
   "execution_count": 17,
   "id": "04bcb3a8",
   "metadata": {},
   "outputs": [
    {
     "name": "stdout",
     "output_type": "stream",
     "text": [
      "[1, 2, 3, 4, 5, 6]\n"
     ]
    },
    {
     "data": {
      "text/plain": [
       "2273175374016"
      ]
     },
     "execution_count": 17,
     "metadata": {},
     "output_type": "execute_result"
    }
   ],
   "source": [
    "print(b)\n",
    "id(b)"
   ]
  },
  {
   "cell_type": "code",
   "execution_count": 20,
   "id": "967eb266",
   "metadata": {},
   "outputs": [
    {
     "data": {
      "text/plain": [
       "2273175807104"
      ]
     },
     "execution_count": 20,
     "metadata": {},
     "output_type": "execute_result"
    }
   ],
   "source": [
    "id(a)"
   ]
  },
  {
   "cell_type": "code",
   "execution_count": 21,
   "id": "33fe2e5c",
   "metadata": {},
   "outputs": [
    {
     "name": "stdout",
     "output_type": "stream",
     "text": [
      "[1, 'pankaj', 34]\n"
     ]
    }
   ],
   "source": [
    "x=[1,'pankaj',34]\n",
    "y=x.copy()\n",
    "print(y)"
   ]
  },
  {
   "cell_type": "code",
   "execution_count": 22,
   "id": "8bb35cbf",
   "metadata": {},
   "outputs": [
    {
     "data": {
      "text/plain": [
       "2273175807616"
      ]
     },
     "execution_count": 22,
     "metadata": {},
     "output_type": "execute_result"
    }
   ],
   "source": [
    "id(x)"
   ]
  },
  {
   "cell_type": "code",
   "execution_count": 23,
   "id": "92696705",
   "metadata": {},
   "outputs": [
    {
     "data": {
      "text/plain": [
       "2273175801920"
      ]
     },
     "execution_count": 23,
     "metadata": {},
     "output_type": "execute_result"
    }
   ],
   "source": [
    "id(y)"
   ]
  },
  {
   "cell_type": "code",
   "execution_count": 24,
   "id": "89c82a27",
   "metadata": {},
   "outputs": [
    {
     "data": {
      "text/plain": [
       "False"
      ]
     },
     "execution_count": 24,
     "metadata": {},
     "output_type": "execute_result"
    }
   ],
   "source": [
    "#relational operator <=,>=,<,>\n",
    "#it operate on the basis of the 1st elment of the both list\n",
    "a=[1,2,3,4,5]\n",
    "b=[32,1,34,6]\n",
    "a>b"
   ]
  },
  {
   "cell_type": "code",
   "execution_count": 25,
   "id": "807c7bee",
   "metadata": {},
   "outputs": [
    {
     "data": {
      "text/plain": [
       "True"
      ]
     },
     "execution_count": 25,
     "metadata": {},
     "output_type": "execute_result"
    }
   ],
   "source": [
    "a<b"
   ]
  },
  {
   "cell_type": "code",
   "execution_count": 26,
   "id": "8d2b9195",
   "metadata": {},
   "outputs": [
    {
     "data": {
      "text/plain": [
       "[]"
      ]
     },
     "execution_count": 26,
     "metadata": {},
     "output_type": "execute_result"
    }
   ],
   "source": [
    "l=[1,2,3]\n",
    "l.clear()#==>clear the element from list\n",
    "l"
   ]
  },
  {
   "cell_type": "code",
   "execution_count": null,
   "id": "03e5d6a0",
   "metadata": {},
   "outputs": [],
   "source": []
  },
  {
   "cell_type": "markdown",
   "id": "5c817c2c",
   "metadata": {},
   "source": [
    "# MULTI DIMENTIONAL LIST"
   ]
  },
  {
   "cell_type": "code",
   "execution_count": 3,
   "id": "087eb6ad",
   "metadata": {},
   "outputs": [
    {
     "name": "stdout",
     "output_type": "stream",
     "text": [
      "[1, 2, 'pankaj', ['ram', 23, 4]]\n"
     ]
    }
   ],
   "source": [
    "#a list can contain another list as a element\n",
    "l=[1,2,'pankaj',['ram',23,4]]\n",
    "print(l)"
   ]
  },
  {
   "cell_type": "code",
   "execution_count": 4,
   "id": "fbd50cc3",
   "metadata": {},
   "outputs": [
    {
     "name": "stdout",
     "output_type": "stream",
     "text": [
      "[[1, 2, 3, 4], [5, 6]]\n",
      "[[1, 2, 3], [3, 4, 5, 6, 7]]\n"
     ]
    }
   ],
   "source": [
    "a=[[1,2,3,4],[5,6]]\n",
    "b=[[1,2,3],[3,4,5,6,7]]\n",
    "print(a)\n",
    "print(b)"
   ]
  },
  {
   "cell_type": "code",
   "execution_count": 5,
   "id": "dfb6de2a",
   "metadata": {},
   "outputs": [
    {
     "name": "stdout",
     "output_type": "stream",
     "text": [
      "[1, 2, 3, 4]\n"
     ]
    }
   ],
   "source": [
    "print(a[0])"
   ]
  },
  {
   "cell_type": "code",
   "execution_count": 7,
   "id": "1fe865c3",
   "metadata": {},
   "outputs": [
    {
     "name": "stdout",
     "output_type": "stream",
     "text": [
      "6\n"
     ]
    }
   ],
   "source": [
    "print(b[1][3])#second list's 4th element from b"
   ]
  },
  {
   "cell_type": "code",
   "execution_count": 9,
   "id": "62fd5daa",
   "metadata": {},
   "outputs": [
    {
     "name": "stdout",
     "output_type": "stream",
     "text": [
      "2\n",
      "4\n"
     ]
    }
   ],
   "source": [
    "a=[[1,2,3,4],[5,6]]\n",
    "print(len(a))#it only show no of list in a\n",
    "print(len(a[0]))#it show the 1st list contain how many elemnt"
   ]
  },
  {
   "cell_type": "code",
   "execution_count": 2,
   "id": "d37b2761",
   "metadata": {},
   "outputs": [
    {
     "name": "stdout",
     "output_type": "stream",
     "text": [
      "Enter the dimension2\n",
      "Enter the dimension3\n",
      "1 2 3\n",
      "4 5 6\n",
      "[[1, 2, 3], [4, 5, 6]]\n"
     ]
    }
   ],
   "source": [
    "#MULTI DIMENTIONAL LIST element entry\n",
    "l=[]\n",
    "m=int(input(\"Enter the dimension\"))#no of list\n",
    "n=int(input(\"Enter the dimension\"))#element no\n",
    "for i in range(m):\n",
    "    new_row=[int(i) for i in input().split()]\n",
    "    l.append(new_row)\n",
    "print(l)"
   ]
  },
  {
   "cell_type": "code",
   "execution_count": 2,
   "id": "aad60e05",
   "metadata": {},
   "outputs": [
    {
     "name": "stdout",
     "output_type": "stream",
     "text": [
      "Enter no of list2\n",
      "Enter element no3\n",
      "Enter 3 no:-\n",
      "1 \n",
      "2\n",
      "3\n",
      "Enter 3 no:-\n",
      "4\n",
      "5\n",
      "6\n",
      "[[1, 2, 3], [4, 5, 6]]\n"
     ]
    }
   ],
   "source": [
    "l=[]\n",
    "m=int(input(\"Enter no of list\"))#no of list\n",
    "n=int(input(\"Enter element no\"))#element no\n",
    "for i in range(m):\n",
    "    print(\"Enter\",n,\"no:-\")\n",
    "    p=[int(input()) for j in range(n)]\n",
    "    l.append(p)\n",
    "print(l)   "
   ]
  },
  {
   "cell_type": "code",
   "execution_count": null,
   "id": "38c2364f",
   "metadata": {},
   "outputs": [],
   "source": []
  }
 ],
 "metadata": {
  "kernelspec": {
   "display_name": "Python 3 (ipykernel)",
   "language": "python",
   "name": "python3"
  },
  "language_info": {
   "codemirror_mode": {
    "name": "ipython",
    "version": 3
   },
   "file_extension": ".py",
   "mimetype": "text/x-python",
   "name": "python",
   "nbconvert_exporter": "python",
   "pygments_lexer": "ipython3",
   "version": "3.11.5"
  }
 },
 "nbformat": 4,
 "nbformat_minor": 5
}
