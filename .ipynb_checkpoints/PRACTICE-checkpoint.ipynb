{
 "cells": [
  {
   "cell_type": "markdown",
   "id": "4f953421",
   "metadata": {},
   "source": [
    "# PRECTICE"
   ]
  },
  {
   "cell_type": "code",
   "execution_count": 8,
   "id": "43433dd4",
   "metadata": {},
   "outputs": [
    {
     "name": "stdout",
     "output_type": "stream",
     "text": [
      "Enter numbers:-[1,3,5,6,2,9]\n",
      "peak element is 9\n"
     ]
    }
   ],
   "source": [
    "#find peek element\n",
    "l=eval(input(\"Enter numbers:-\"))\n",
    "n=l[0]\n",
    "for x in l:\n",
    "    if x>n:\n",
    "        n=x\n",
    "print(\"peak element is\",n)"
   ]
  },
  {
   "cell_type": "code",
   "execution_count": 10,
   "id": "bca829ff",
   "metadata": {},
   "outputs": [
    {
     "name": "stdout",
     "output_type": "stream",
     "text": [
      "Enter numbers:-[1,2,3,2,5,3,2,4,2,1]\n",
      "Enter number u want to find:-2\n",
      "2 is occure 4 times\n"
     ]
    }
   ],
   "source": [
    "#find no. of occurances\n",
    "l=eval(input(\"Enter numbers:-\"))\n",
    "x=int(input(\"Enter number u want to find:-\"))\n",
    "c=0\n",
    "for i in l:\n",
    "    if i==x:\n",
    "        c=c+1\n",
    "print(x,\"is occure\",c,\"times\")"
   ]
  },
  {
   "cell_type": "code",
   "execution_count": 14,
   "id": "7da27ed3",
   "metadata": {},
   "outputs": [
    {
     "name": "stdout",
     "output_type": "stream",
     "text": [
      "Enter elements for set a:-{1,2,3,4,5}\n",
      "Enter elements for set b:-{4,5,6,7}\n",
      "{1, 2, 3, 4, 5, 6, 7}\n"
     ]
    }
   ],
   "source": [
    "#union of two shorted array\n",
    "a=eval(input(\"Enter elements for set a:-\"))\n",
    "b=eval(input(\"Enter elements for set b:-\"))\n",
    "print(a.union(b))"
   ]
  },
  {
   "cell_type": "code",
   "execution_count": 3,
   "id": "3a46ac48",
   "metadata": {},
   "outputs": [
    {
     "name": "stdout",
     "output_type": "stream",
     "text": [
      "Enter the no. of term:-3\n",
      "1\n",
      "0\n",
      "0\n",
      "0\n",
      "0\n",
      "0\n"
     ]
    }
   ],
   "source": [
    "#let serise continur for n term\n",
    "n=int(input(\"Enter the no. of term:-\"))\n",
    "sum=0\n",
    "for i in range(1,n):\n",
    "    prod=1\n",
    "    for x in range(i):\n",
    "        prod=prod*x"
   ]
  },
  {
   "cell_type": "code",
   "execution_count": 5,
   "id": "48ad2704",
   "metadata": {},
   "outputs": [
    {
     "name": "stdout",
     "output_type": "stream",
     "text": [
      "10\n",
      "harry\n",
      "machuda\n"
     ]
    }
   ],
   "source": [
    "try:\n",
    "    t=int(input())\n",
    "    s=int(input())\n",
    "    print(t+s)\n",
    "except:\n",
    "    print(\"machuda\")"
   ]
  },
  {
   "cell_type": "code",
   "execution_count": 3,
   "id": "b996d116",
   "metadata": {},
   "outputs": [
    {
     "ename": "AssertionError",
     "evalue": "Give a positive integer",
     "output_type": "error",
     "traceback": [
      "\u001b[1;31m---------------------------------------------------------------------------\u001b[0m",
      "\u001b[1;31mAssertionError\u001b[0m                            Traceback (most recent call last)",
      "Cell \u001b[1;32mIn[3], line 6\u001b[0m\n\u001b[0;32m      3\u001b[0m     \u001b[38;5;28;01mreturn\u001b[39;00m Number\u001b[38;5;241m*\u001b[39m\u001b[38;5;241m*\u001b[39m(\u001b[38;5;241m1\u001b[39m\u001b[38;5;241m/\u001b[39m\u001b[38;5;241m2\u001b[39m)  \n\u001b[0;32m      5\u001b[0m \u001b[38;5;66;03m#Calling function and passing the values  \u001b[39;00m\n\u001b[1;32m----> 6\u001b[0m \u001b[38;5;28mprint\u001b[39m( square_root( \u001b[38;5;241m36\u001b[39m ) )\n",
      "Cell \u001b[1;32mIn[3], line 2\u001b[0m, in \u001b[0;36msquare_root\u001b[1;34m(Number)\u001b[0m\n\u001b[0;32m      1\u001b[0m \u001b[38;5;28;01mdef\u001b[39;00m \u001b[38;5;21msquare_root\u001b[39m( Number ):  \n\u001b[1;32m----> 2\u001b[0m     \u001b[38;5;28;01massert\u001b[39;00m ( Number \u001b[38;5;241m<\u001b[39m \u001b[38;5;241m0\u001b[39m), \u001b[38;5;124m\"\u001b[39m\u001b[38;5;124mGive a positive integer\u001b[39m\u001b[38;5;124m\"\u001b[39m  \n\u001b[0;32m      3\u001b[0m     \u001b[38;5;28;01mreturn\u001b[39;00m Number\u001b[38;5;241m*\u001b[39m\u001b[38;5;241m*\u001b[39m(\u001b[38;5;241m1\u001b[39m\u001b[38;5;241m/\u001b[39m\u001b[38;5;241m2\u001b[39m)\n",
      "\u001b[1;31mAssertionError\u001b[0m: Give a positive integer"
     ]
    }
   ],
   "source": [
    "def square_root( Number ):  \n",
    "    assert ( Number < 0), \"Give a positive integer\"  \n",
    "    return Number**(1/2)  \n",
    "  \n",
    "#Calling function and passing the values  \n",
    "print( square_root( 36 ) )  \n",
    " "
   ]
  },
  {
   "cell_type": "code",
   "execution_count": 6,
   "id": "2ff91bce-8896-4f03-ad01-fa85d2d44718",
   "metadata": {},
   "outputs": [
    {
     "name": "stdout",
     "output_type": "stream",
     "text": [
      "279\n"
     ]
    }
   ],
   "source": [
    "with open('intro.txt',mode='r') as f:\n",
    "    s=f.read()\n",
    "    num=len(s)\n",
    "    print(num)"
   ]
  },
  {
   "cell_type": "code",
   "execution_count": 9,
   "id": "097e9e98-f973-4add-b5e4-dad56cceae44",
   "metadata": {},
   "outputs": [
    {
     "name": "stdout",
     "output_type": "stream",
     "text": [
      "230\n"
     ]
    }
   ],
   "source": [
    "with open('intro.txt',mode='r') as f:\n",
    "    s=f.read()\n",
    "    num=len(s)\n",
    "    count=0\n",
    "    for i in range(0,num):\n",
    "        if s[i].isalnum()==True:\n",
    "            count=count+1\n",
    "print(count)"
   ]
  },
  {
   "cell_type": "code",
   "execution_count": 7,
   "id": "36857526-1e92-4ecf-939a-65e72fc1f058",
   "metadata": {},
   "outputs": [
    {
     "name": "stdout",
     "output_type": "stream",
     "text": [
      "['Python is a high-level, general-purpose programming language.\\n', 'Its design philosophy emphasizes code readability with the use of significant indentation.\\n', 'Python is dynamically typed and garbage-collected.\\n', 'It supports multiple programming paradigms, including structured, object-oriented and functional programming.']\n"
     ]
    }
   ],
   "source": [
    "with open('intro.txt',mode='r+') as f:\n",
    "    s=f.readlines()\n",
    "    print(s)\n",
    "    s.insert(1,'I am from Learn Bay\\n')\n",
    "    \n",
    "    "
   ]
  },
  {
   "cell_type": "code",
   "execution_count": 8,
   "id": "26a13ccf-acb6-4645-9f27-5925d1b4d175",
   "metadata": {},
   "outputs": [
    {
     "name": "stdout",
     "output_type": "stream",
     "text": [
      "Python is a high-level, general-purpose programming language.\n",
      "I am from Learn Bay\n",
      "Its design philosophy emphasizes code readability with the use of significant indentation.\n",
      "Python is dynamically typed and garbage-collected.\n",
      "It supports multiple programming paradigms, including structured, object-oriented and functional programming.\n"
     ]
    }
   ],
   "source": [
    "with open('intro.txt',mode='w+') as f:\n",
    "    f.writelines(s)\n",
    "    f.seek(0)\n",
    "    print(f.read())"
   ]
  },
  {
   "cell_type": "code",
   "execution_count": 37,
   "id": "9a709fd1-36d8-48ab-a1a5-1c835c036d1a",
   "metadata": {},
   "outputs": [
    {
     "name": "stdout",
     "output_type": "stream",
     "text": [
      "a=int(input('Enter a number:-'))\n",
      "b=int(input('Enter a number:-'))\n",
      "print(a+b)\n"
     ]
    }
   ],
   "source": [
    "with open('add.py',mode='w+') as f:\n",
    "    f.write(\"a=int(input('Enter a number:-'))\\n\")\n",
    "    f.write(\"b=int(input('Enter a number:-'))\\n\")\n",
    "    f.write(\"print(a+b)\")\n",
    "    f.seek(0)\n",
    "    print(f.read())"
   ]
  },
  {
   "cell_type": "code",
   "execution_count": 36,
   "id": "b472f1f8-8794-4e31-93a2-6c926901b80a",
   "metadata": {},
   "outputs": [
    {
     "name": "stdin",
     "output_type": "stream",
     "text": [
      "Enter a number:- 10\n",
      "Enter a number:- 20\n"
     ]
    },
    {
     "name": "stdout",
     "output_type": "stream",
     "text": [
      "30\n"
     ]
    }
   ],
   "source": [
    "%run add.py"
   ]
  },
  {
   "cell_type": "code",
   "execution_count": 39,
   "id": "af416d3a-998f-498d-b6f4-4f068706d96c",
   "metadata": {},
   "outputs": [],
   "source": [
    "import pickle\n"
   ]
  },
  {
   "cell_type": "code",
   "execution_count": 43,
   "id": "15db1ecd-6497-4631-a73c-9af147124cc8",
   "metadata": {},
   "outputs": [
    {
     "name": "stdout",
     "output_type": "stream",
     "text": [
      "{'emp1_detail': {'name': 'Rajesh', 'age': 22, 'ID': 101, 'salary': 45000}, 'emp2_detail': {'name': 'Priya', 'age': 27, 'ID': 102, 'salary': 55000}, 'emp3_detail': {'name': 'Abha', 'age': 29, 'ID': 103, 'salary': 75000}}\n"
     ]
    }
   ],
   "source": [
    "with open(r\"C:\\Users\\ASUS\\OneDrive\\Desktop\\LearnBayPyClass\\employee.dat\",mode='rb')as f:\n",
    "    print(pickle.load(f))"
   ]
  },
  {
   "cell_type": "code",
   "execution_count": 10,
   "id": "dbbff1b7-fd1f-46d2-8075-9601936b1c3b",
   "metadata": {},
   "outputs": [],
   "source": [
    "import pickle\n",
    "from PIL import Image\n",
    "with open(r\"C:\\Users\\ASUS\\OneDrive\\Desktop\\LearnBayPyClass\\image.pickle\",mode='rb')as f:\n",
    "    unpickled_image=pickle.load(f)\n",
    "    unpickled_image.show()"
   ]
  },
  {
   "cell_type": "code",
   "execution_count": 2,
   "id": "7fbbbe1b-a604-46b9-b338-2aef2a55f5b6",
   "metadata": {},
   "outputs": [
    {
     "data": {
      "text/plain": [
       "array([[16, 12, 77, 64, 72, 42],\n",
       "       [55, 55, 98, 96, 69, 85],\n",
       "       [81, 18, 74, 61, 82, 93],\n",
       "       [71, 28, 22, 83, 38, 40],\n",
       "       [70, 39, 36, 30, 72, 10],\n",
       "       [11, 71, 61, 25, 20, 32]])"
      ]
     },
     "execution_count": 2,
     "metadata": {},
     "output_type": "execute_result"
    }
   ],
   "source": [
    "import numpy as np\n",
    "arr = np.random.randint(10,100, 36)\n",
    "arr = arr.reshape(6,6)\n",
    "arr"
   ]
  },
  {
   "cell_type": "code",
   "execution_count": 29,
   "id": "301bd302-e13e-407c-b60f-cc4cd3045d74",
   "metadata": {},
   "outputs": [
    {
     "name": "stdout",
     "output_type": "stream",
     "text": [
      "333\n",
      "404\n",
      "526\n",
      "483\n",
      "347\n",
      "456\n",
      "467\n",
      "493\n",
      "346\n",
      "280\n",
      "438\n",
      "386\n",
      "303\n",
      "326\n",
      "279\n",
      "310\n",
      "the maximun value for 'I'is:- 526\n"
     ]
    }
   ],
   "source": [
    "arr_size=len(arr)\n",
    "max=0\n",
    "for i in range(0,arr_size-2):\n",
    "    for j in range(0,arr_size-2):\n",
    "            sum=arr[i,j]+arr[i,j+1]+arr[i,j+2]+arr[i+1,j+1]+arr[i+2,j]+arr[i+2,j+1]+arr[i+2,j+2]\n",
    "            print(sum)\n",
    "            if max<sum:\n",
    "                max=sum\n",
    "print(\"the maximun value for 'I'is:-\",max)"
   ]
  },
  {
   "cell_type": "code",
   "execution_count": 38,
   "id": "87e038db-cd26-4465-8966-9e61f232de7e",
   "metadata": {},
   "outputs": [
    {
     "name": "stdout",
     "output_type": "stream",
     "text": [
      "the maximun value for 'I'is: 526 and the Reference Point row: 1 column: 3\n"
     ]
    }
   ],
   "source": [
    "arr_size=len(arr)\n",
    "Sum_lit=[]\n",
    "max=0\n",
    "for i in range(0,arr_size-2):\n",
    "    for j in range(0,arr_size-2):\n",
    "            sum=arr[i,j]+arr[i,j+1]+arr[i,j+2]+arr[i+1,j+1]+arr[i+2,j]+arr[i+2,j+1]+arr[i+2,j+2]\n",
    "            Sum_lit.append(sum)\n",
    "            if max<sum:\n",
    "                max=sum\n",
    "                ref_row=i+1\n",
    "                ref_col=j+1\n",
    "print(\"the maximun value for 'I'is:\",max,\"and the reference Point\",\"row:\",ref_row,\"column:\",ref_col)"
   ]
  },
  {
   "cell_type": "code",
   "execution_count": 13,
   "id": "ce701d98-d77e-4a12-9e56-6deaba374b40",
   "metadata": {},
   "outputs": [
    {
     "name": "stdout",
     "output_type": "stream",
     "text": [
      "['__doc__', '__loader__', '__name__', '__package__', '__spec__', 'acos', 'acosh', 'asin', 'asinh', 'atan', 'atan2', 'atanh', 'cbrt', 'ceil', 'comb', 'copysign', 'cos', 'cosh', 'degrees', 'dist', 'e', 'erf', 'erfc', 'exp', 'exp2', 'expm1', 'fabs', 'factorial', 'floor', 'fmod', 'frexp', 'fsum', 'gamma', 'gcd', 'hypot', 'inf', 'isclose', 'isfinite', 'isinf', 'isnan', 'isqrt', 'lcm', 'ldexp', 'lgamma', 'log', 'log10', 'log1p', 'log2', 'modf', 'nan', 'nextafter', 'perm', 'pi', 'pow', 'prod', 'radians', 'remainder', 'sin', 'sinh', 'sqrt', 'tan', 'tanh', 'tau', 'trunc', 'ulp']\n"
     ]
    }
   ],
   "source": [
    "print(dir(math))"
   ]
  },
  {
   "cell_type": "code",
   "execution_count": null,
   "id": "0112393a-e769-4cda-9870-f5d741604c63",
   "metadata": {},
   "outputs": [],
   "source": []
  }
 ],
 "metadata": {
  "kernelspec": {
   "display_name": "Python 3 (ipykernel)",
   "language": "python",
   "name": "python3"
  },
  "language_info": {
   "codemirror_mode": {
    "name": "ipython",
    "version": 3
   },
   "file_extension": ".py",
   "mimetype": "text/x-python",
   "name": "python",
   "nbconvert_exporter": "python",
   "pygments_lexer": "ipython3",
   "version": "3.11.7"
  }
 },
 "nbformat": 4,
 "nbformat_minor": 5
}
