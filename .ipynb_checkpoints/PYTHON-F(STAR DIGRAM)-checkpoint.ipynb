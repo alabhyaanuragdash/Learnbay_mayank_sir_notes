{
 "cells": [
  {
   "cell_type": "markdown",
   "id": "e6e08992",
   "metadata": {},
   "source": [
    "# STAR DIGRAM(USING LOOP)"
   ]
  },
  {
   "cell_type": "code",
   "execution_count": 1,
   "id": "50aca75c",
   "metadata": {},
   "outputs": [
    {
     "name": "stdout",
     "output_type": "stream",
     "text": [
      "Enter the no. of line u want to print:-5\n",
      "1\n",
      "12\n",
      "123\n",
      "1234\n",
      "12345\n"
     ]
    }
   ],
   "source": [
    "\"\"\"\n",
    "1\n",
    "12\n",
    "123\n",
    "1234\n",
    "12345\n",
    "\"\"\"\n",
    "n=int(input(\"Enter the no. of line u want to print:-\"))\n",
    "for i in range(1,n+1):\n",
    "    for j in range(1,i+1):\n",
    "        print(j,end='')\n",
    "    print()\n",
    "    "
   ]
  },
  {
   "cell_type": "code",
   "execution_count": 4,
   "id": "98496129",
   "metadata": {},
   "outputs": [
    {
     "name": "stdout",
     "output_type": "stream",
     "text": [
      "Enter the no. of line u want to print5\n",
      "12345\n",
      "1234\n",
      "123\n",
      "12\n",
      "1\n"
     ]
    }
   ],
   "source": [
    "\"\"\"\n",
    "12345\n",
    "1234\n",
    "123\n",
    "12\n",
    "1\n",
    "\"\"\"\n",
    "n=int(input(\"Enter the no. of line u want to print\"))\n",
    "for i in range(1,n+1):\n",
    "    for j in range(1,n-i+2):\n",
    "        print(j,end='')\n",
    "    print()"
   ]
  },
  {
   "cell_type": "code",
   "execution_count": 29,
   "id": "59d57b43",
   "metadata": {},
   "outputs": [
    {
     "name": "stdout",
     "output_type": "stream",
     "text": [
      "Enter the no. of line u want to print:-7\n",
      "       *\n",
      "      ***\n",
      "     *****\n"
     ]
    }
   ],
   "source": [
    "\"\"\"\n",
    "   *\n",
    "  ***\n",
    " *****\n",
    "*******\n",
    "\n",
    "\"\"\"\n",
    "n=int(input(\"Enter the no. of line u want to print:-\"))\n",
    "\n",
    "for i in range(1,n+1):\n",
    "    for j in range(n+1,i,-1):\n",
    "        print(\" \",end='')\n",
    "    for k in range(1,i*2):\n",
    "            print(\"*\",end='')\n",
    "    print()\n",
    "        "
   ]
  },
  {
   "cell_type": "code",
   "execution_count": 33,
   "id": "5a5a7671",
   "metadata": {},
   "outputs": [
    {
     "name": "stdout",
     "output_type": "stream",
     "text": [
      "Enter the no. of line u want to print:-7\n",
      "       *\n",
      "      ***\n",
      "     *****\n",
      "    *******\n",
      "     *****\n",
      "      ***\n",
      "       *\n"
     ]
    }
   ],
   "source": [
    "\"\"\"\n",
    "Enter the no. of line u want to print this format\n",
    "       *\n",
    "      ***\n",
    "     *****\n",
    "    *******\n",
    "     *****\n",
    "      ***\n",
    "       *\n",
    "\"\"\"\n",
    "n=int(input(\"Enter the no. of line u want to print:-\"))\n",
    "l=(n//2)+1\n",
    "t=n//2\n",
    "s=l+1\n",
    "for i in range(1,l):\n",
    "    for j in range(n+1,i,-1):\n",
    "        print(\" \",end='')\n",
    "    for k in range(1,i*2):\n",
    "            print(\"*\",end='')\n",
    "    print()\n",
    "for i in range(s,1,-1):\n",
    "    for j in range(0,s-i+l):\n",
    "        print(\" \",end='')\n",
    "    for k in range(1,(i-1)*2):\n",
    "            print(\"*\",end='')\n",
    "    print()"
   ]
  },
  {
   "cell_type": "code",
   "execution_count": 22,
   "id": "78d2b97c",
   "metadata": {},
   "outputs": [
    {
     "name": "stdout",
     "output_type": "stream",
     "text": [
      "Enter the no. of line u want to print:-5\n",
      "*********\n",
      " *******\n",
      "  *****\n",
      "   ***\n",
      "    *\n"
     ]
    }
   ],
   "source": [
    "\"\"\"\n",
    "*********\n",
    " *******\n",
    "  *****\n",
    "   ***\n",
    "    *\n",
    "\"\"\"\n",
    "n=int(input(\"Enter the no. of line u want to print:-\"))\n",
    "for i in range(n+1,1,-1):\n",
    "    for j in range(0,(n+1)-i):\n",
    "        print(\" \",end='')\n",
    "    for k in range(1,(i-1)*2):\n",
    "            print(\"*\",end='')\n",
    "    print()"
   ]
  },
  {
   "cell_type": "code",
   "execution_count": null,
   "id": "6dbd62f7",
   "metadata": {},
   "outputs": [],
   "source": []
  }
 ],
 "metadata": {
  "kernelspec": {
   "display_name": "Python 3 (ipykernel)",
   "language": "python",
   "name": "python3"
  },
  "language_info": {
   "codemirror_mode": {
    "name": "ipython",
    "version": 3
   },
   "file_extension": ".py",
   "mimetype": "text/x-python",
   "name": "python",
   "nbconvert_exporter": "python",
   "pygments_lexer": "ipython3",
   "version": "3.11.5"
  }
 },
 "nbformat": 4,
 "nbformat_minor": 5
}
