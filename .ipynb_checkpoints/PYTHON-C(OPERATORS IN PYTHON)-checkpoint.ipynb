{
 "cells": [
  {
   "cell_type": "markdown",
   "id": "0d21712a",
   "metadata": {},
   "source": [
    "# OPERATORS IN PYTHON"
   ]
  },
  {
   "cell_type": "markdown",
   "id": "a303d3c4",
   "metadata": {},
   "source": [
    "(ARITHMATIC,RELATIONAL,LOGICAL,BITWISE,INPUT&OUTPUT)"
   ]
  },
  {
   "cell_type": "code",
   "execution_count": 1,
   "id": "4060f848",
   "metadata": {},
   "outputs": [],
   "source": [
    "#ARITHMATIC OPERATORS(+,-,*,/,//,%,**)\n",
    "a=10\n",
    "b=5"
   ]
  },
  {
   "cell_type": "code",
   "execution_count": 2,
   "id": "53624e27",
   "metadata": {},
   "outputs": [
    {
     "data": {
      "text/plain": [
       "15"
      ]
     },
     "execution_count": 2,
     "metadata": {},
     "output_type": "execute_result"
    }
   ],
   "source": [
    "a+b"
   ]
  },
  {
   "cell_type": "code",
   "execution_count": 3,
   "id": "ce872690",
   "metadata": {},
   "outputs": [
    {
     "data": {
      "text/plain": [
       "5"
      ]
     },
     "execution_count": 3,
     "metadata": {},
     "output_type": "execute_result"
    }
   ],
   "source": [
    "a-b"
   ]
  },
  {
   "cell_type": "code",
   "execution_count": 4,
   "id": "e0f5d50b",
   "metadata": {},
   "outputs": [
    {
     "data": {
      "text/plain": [
       "50"
      ]
     },
     "execution_count": 4,
     "metadata": {},
     "output_type": "execute_result"
    }
   ],
   "source": [
    "a*b"
   ]
  },
  {
   "cell_type": "code",
   "execution_count": 5,
   "id": "fa226c76",
   "metadata": {},
   "outputs": [
    {
     "data": {
      "text/plain": [
       "2.0"
      ]
     },
     "execution_count": 5,
     "metadata": {},
     "output_type": "execute_result"
    }
   ],
   "source": [
    "a/b#return in float"
   ]
  },
  {
   "cell_type": "code",
   "execution_count": 6,
   "id": "8c5e9c21",
   "metadata": {},
   "outputs": [
    {
     "data": {
      "text/plain": [
       "2"
      ]
     },
     "execution_count": 6,
     "metadata": {},
     "output_type": "execute_result"
    }
   ],
   "source": [
    "a//b#return floor type"
   ]
  },
  {
   "cell_type": "code",
   "execution_count": 7,
   "id": "b32de1c0",
   "metadata": {},
   "outputs": [
    {
     "data": {
      "text/plain": [
       "0"
      ]
     },
     "execution_count": 7,
     "metadata": {},
     "output_type": "execute_result"
    }
   ],
   "source": [
    "a%b"
   ]
  },
  {
   "cell_type": "code",
   "execution_count": 8,
   "id": "8b59954c",
   "metadata": {},
   "outputs": [
    {
     "data": {
      "text/plain": [
       "100000"
      ]
     },
     "execution_count": 8,
     "metadata": {},
     "output_type": "execute_result"
    }
   ],
   "source": [
    "a**b#power"
   ]
  },
  {
   "cell_type": "code",
   "execution_count": 9,
   "id": "4c75b2db",
   "metadata": {},
   "outputs": [
    {
     "data": {
      "text/plain": [
       "'pankajpankaj'"
      ]
     },
     "execution_count": 9,
     "metadata": {},
     "output_type": "execute_result"
    }
   ],
   "source": [
    "'pankaj'+'pankaj'"
   ]
  },
  {
   "cell_type": "code",
   "execution_count": 10,
   "id": "0cc4a7ff",
   "metadata": {},
   "outputs": [
    {
     "data": {
      "text/plain": [
       "'pankajpankajpankaj'"
      ]
     },
     "execution_count": 10,
     "metadata": {},
     "output_type": "execute_result"
    }
   ],
   "source": [
    "'pankaj'*3"
   ]
  },
  {
   "cell_type": "code",
   "execution_count": 1,
   "id": "2dba145d",
   "metadata": {},
   "outputs": [],
   "source": [
    "#RELATIONAL OPERATOR(<,>,<=,>=)\n",
    "a=21\n",
    "b=32"
   ]
  },
  {
   "cell_type": "code",
   "execution_count": 2,
   "id": "58827fc9",
   "metadata": {},
   "outputs": [
    {
     "data": {
      "text/plain": [
       "True"
      ]
     },
     "execution_count": 2,
     "metadata": {},
     "output_type": "execute_result"
    }
   ],
   "source": [
    "a<b"
   ]
  },
  {
   "cell_type": "code",
   "execution_count": 3,
   "id": "ff50a2f7",
   "metadata": {},
   "outputs": [
    {
     "data": {
      "text/plain": [
       "False"
      ]
     },
     "execution_count": 3,
     "metadata": {},
     "output_type": "execute_result"
    }
   ],
   "source": [
    "a>b"
   ]
  },
  {
   "cell_type": "code",
   "execution_count": 4,
   "id": "f5b44944",
   "metadata": {},
   "outputs": [
    {
     "data": {
      "text/plain": [
       "True"
      ]
     },
     "execution_count": 4,
     "metadata": {},
     "output_type": "execute_result"
    }
   ],
   "source": [
    "a<=b"
   ]
  },
  {
   "cell_type": "code",
   "execution_count": 5,
   "id": "7f712181",
   "metadata": {},
   "outputs": [
    {
     "data": {
      "text/plain": [
       "False"
      ]
     },
     "execution_count": 5,
     "metadata": {},
     "output_type": "execute_result"
    }
   ],
   "source": [
    "a>=b"
   ]
  },
  {
   "cell_type": "code",
   "execution_count": 6,
   "id": "dc8037c0",
   "metadata": {},
   "outputs": [],
   "source": [
    "a='pankaj'\n",
    "b='subham'"
   ]
  },
  {
   "cell_type": "code",
   "execution_count": 7,
   "id": "dc50a2f6",
   "metadata": {},
   "outputs": [
    {
     "data": {
      "text/plain": [
       "True"
      ]
     },
     "execution_count": 7,
     "metadata": {},
     "output_type": "execute_result"
    }
   ],
   "source": [
    "a<b"
   ]
  },
  {
   "cell_type": "code",
   "execution_count": 8,
   "id": "53b0088c",
   "metadata": {},
   "outputs": [],
   "source": [
    "a=\"neetu\"\n",
    "b=\"neetin\""
   ]
  },
  {
   "cell_type": "code",
   "execution_count": 9,
   "id": "d8125195",
   "metadata": {},
   "outputs": [
    {
     "data": {
      "text/plain": [
       "False"
      ]
     },
     "execution_count": 9,
     "metadata": {},
     "output_type": "execute_result"
    }
   ],
   "source": [
    "a<b"
   ]
  },
  {
   "cell_type": "code",
   "execution_count": 10,
   "id": "b7d8ae83",
   "metadata": {},
   "outputs": [
    {
     "data": {
      "text/plain": [
       "140709158949960"
      ]
     },
     "execution_count": 10,
     "metadata": {},
     "output_type": "execute_result"
    }
   ],
   "source": [
    "a=10\n",
    "id(a)"
   ]
  },
  {
   "cell_type": "code",
   "execution_count": 11,
   "id": "42037c77",
   "metadata": {},
   "outputs": [
    {
     "data": {
      "text/plain": [
       "140709158949992"
      ]
     },
     "execution_count": 11,
     "metadata": {},
     "output_type": "execute_result"
    }
   ],
   "source": [
    "a=a+1\n",
    "id(a)"
   ]
  },
  {
   "cell_type": "code",
   "execution_count": 12,
   "id": "da568f4e",
   "metadata": {},
   "outputs": [
    {
     "ename": "SyntaxError",
     "evalue": "invalid decimal literal (3239630944.py, line 1)",
     "output_type": "error",
     "traceback": [
      "\u001b[1;36m  Cell \u001b[1;32mIn[12], line 1\u001b[1;36m\u001b[0m\n\u001b[1;33m    2+3i>1+4i\u001b[0m\n\u001b[1;37m      ^\u001b[0m\n\u001b[1;31mSyntaxError\u001b[0m\u001b[1;31m:\u001b[0m invalid decimal literal\n"
     ]
    }
   ],
   "source": [
    "2+3i>1+4i"
   ]
  },
  {
   "cell_type": "code",
   "execution_count": 13,
   "id": "35d6d76d",
   "metadata": {},
   "outputs": [
    {
     "data": {
      "text/plain": [
       "False"
      ]
     },
     "execution_count": 13,
     "metadata": {},
     "output_type": "execute_result"
    }
   ],
   "source": [
    "True<True"
   ]
  },
  {
   "cell_type": "code",
   "execution_count": 14,
   "id": "80109181",
   "metadata": {},
   "outputs": [
    {
     "data": {
      "text/plain": [
       "True"
      ]
     },
     "execution_count": 14,
     "metadata": {},
     "output_type": "execute_result"
    }
   ],
   "source": [
    "True>False"
   ]
  },
  {
   "cell_type": "code",
   "execution_count": 15,
   "id": "297aa6c8",
   "metadata": {},
   "outputs": [
    {
     "data": {
      "text/plain": [
       "True"
      ]
     },
     "execution_count": 15,
     "metadata": {},
     "output_type": "execute_result"
    }
   ],
   "source": [
    "10<20<30<40#chainingi is possible"
   ]
  },
  {
   "cell_type": "code",
   "execution_count": 16,
   "id": "785b3e4e",
   "metadata": {},
   "outputs": [
    {
     "name": "stdout",
     "output_type": "stream",
     "text": [
      "enter a number:-3\n"
     ]
    }
   ],
   "source": [
    "#input()==> use for reading data from user\n",
    "a=input(\"enter a number:-\")"
   ]
  },
  {
   "cell_type": "code",
   "execution_count": 17,
   "id": "4e0ba0d4",
   "metadata": {},
   "outputs": [
    {
     "name": "stdout",
     "output_type": "stream",
     "text": [
      "3\n"
     ]
    }
   ],
   "source": [
    "#print()==> use for print data or give output\n",
    "print(a)"
   ]
  },
  {
   "cell_type": "code",
   "execution_count": 18,
   "id": "c58cce48",
   "metadata": {},
   "outputs": [
    {
     "data": {
      "text/plain": [
       "str"
      ]
     },
     "execution_count": 18,
     "metadata": {},
     "output_type": "execute_result"
    }
   ],
   "source": [
    "type(a)#by default input function read data as a string"
   ]
  },
  {
   "cell_type": "code",
   "execution_count": 19,
   "id": "64ac1d1b",
   "metadata": {},
   "outputs": [
    {
     "name": "stdout",
     "output_type": "stream",
     "text": [
      "enter 1st number:-12\n",
      "enter 2nd number:-13\n",
      "1213\n"
     ]
    }
   ],
   "source": [
    "#for example\n",
    "a=input(\"enter 1st number:-\")\n",
    "b=input(\"enter 2nd number:-\")\n",
    "print(a+b)"
   ]
  },
  {
   "cell_type": "code",
   "execution_count": 20,
   "id": "33303872",
   "metadata": {},
   "outputs": [
    {
     "name": "stdout",
     "output_type": "stream",
     "text": [
      "enter 1st number:-12\n",
      "enter 2nd number:-13\n",
      "25\n"
     ]
    }
   ],
   "source": [
    "#that's why we have to change it's data from string to requied one\n",
    "a=int(input(\"enter 1st number:-\"))\n",
    "b=int(input(\"enter 2nd number:-\"))\n",
    "print(a+b)"
   ]
  },
  {
   "cell_type": "code",
   "execution_count": 23,
   "id": "1bff6ea4",
   "metadata": {},
   "outputs": [
    {
     "data": {
      "text/plain": [
       "20"
      ]
     },
     "execution_count": 23,
     "metadata": {},
     "output_type": "execute_result"
    }
   ],
   "source": [
    "#LOGICAL OPERATOR==>it works on all kind of data type(and,or,not)\n",
    "# and=>(no choice)==>if both the operands are true then it is true(if 'a' is false then it returns 'a' otherwise 'b')\n",
    "# or=>(have choice)==>if one of the operand true then it is true (if 'a' is true then it returns 'a' otherwise 'b')\n",
    "# not=> not(True):-False ,not(False):-True\n",
    "10 and 20"
   ]
  },
  {
   "cell_type": "code",
   "execution_count": 24,
   "id": "a22c7332",
   "metadata": {},
   "outputs": [
    {
     "data": {
      "text/plain": [
       "''"
      ]
     },
     "execution_count": 24,
     "metadata": {},
     "output_type": "execute_result"
    }
   ],
   "source": [
    "'' and 10#'' is false so it return it"
   ]
  },
  {
   "cell_type": "code",
   "execution_count": 25,
   "id": "4153c3c6",
   "metadata": {},
   "outputs": [
    {
     "data": {
      "text/plain": [
       "10"
      ]
     },
     "execution_count": 25,
     "metadata": {},
     "output_type": "execute_result"
    }
   ],
   "source": [
    "10 or 20 # 10 is true so it return it"
   ]
  },
  {
   "cell_type": "code",
   "execution_count": 26,
   "id": "32fbfe2f",
   "metadata": {},
   "outputs": [
    {
     "data": {
      "text/plain": [
       "20"
      ]
     },
     "execution_count": 26,
     "metadata": {},
     "output_type": "execute_result"
    }
   ],
   "source": [
    "'' or 20"
   ]
  },
  {
   "cell_type": "code",
   "execution_count": 27,
   "id": "f8d9dac6",
   "metadata": {},
   "outputs": [
    {
     "data": {
      "text/plain": [
       "False"
      ]
     },
     "execution_count": 27,
     "metadata": {},
     "output_type": "execute_result"
    }
   ],
   "source": [
    "not 10"
   ]
  },
  {
   "cell_type": "code",
   "execution_count": 28,
   "id": "8e6b92d4",
   "metadata": {},
   "outputs": [
    {
     "data": {
      "text/plain": [
       "True"
      ]
     },
     "execution_count": 28,
     "metadata": {},
     "output_type": "execute_result"
    }
   ],
   "source": [
    "not''"
   ]
  },
  {
   "cell_type": "code",
   "execution_count": 29,
   "id": "6330594e",
   "metadata": {},
   "outputs": [
    {
     "data": {
      "text/plain": [
       "0"
      ]
     },
     "execution_count": 29,
     "metadata": {},
     "output_type": "execute_result"
    }
   ],
   "source": [
    "#BITWISE OPERATOR\n",
    "#it works on bit level\n",
    "#(&[bitwise and],|[bitwize or],^[bitwise xor])\n",
    "10 & 20"
   ]
  },
  {
   "cell_type": "code",
   "execution_count": 31,
   "id": "606ed0df",
   "metadata": {},
   "outputs": [
    {
     "data": {
      "text/plain": [
       "4"
      ]
     },
     "execution_count": 31,
     "metadata": {},
     "output_type": "execute_result"
    }
   ],
   "source": [
    "5 & 6"
   ]
  },
  {
   "cell_type": "code",
   "execution_count": 32,
   "id": "60c20326",
   "metadata": {},
   "outputs": [
    {
     "data": {
      "text/plain": [
       "7"
      ]
     },
     "execution_count": 32,
     "metadata": {},
     "output_type": "execute_result"
    }
   ],
   "source": [
    "5 | 6"
   ]
  },
  {
   "cell_type": "code",
   "execution_count": 33,
   "id": "206113c9",
   "metadata": {},
   "outputs": [
    {
     "data": {
      "text/plain": [
       "3"
      ]
     },
     "execution_count": 33,
     "metadata": {},
     "output_type": "execute_result"
    }
   ],
   "source": [
    "5 ^ 6"
   ]
  },
  {
   "cell_type": "code",
   "execution_count": 37,
   "id": "64278b77",
   "metadata": {},
   "outputs": [
    {
     "name": "stdout",
     "output_type": "stream",
     "text": [
      "Enter the 1st value:-12\n",
      "Enter the 2nd value:-23\n",
      "small one:- 12\n"
     ]
    }
   ],
   "source": [
    "#OPERANDS\n",
    "#there are 3 type of operands present:- 1. unary,2. binary,3. ternary\n",
    "# first value if(condition) else second value\n",
    "a=int(input(\"Enter the 1st value:-\"))\n",
    "b=int(input(\"Enter the 2nd value:-\"))\n",
    "c=a if(a<b) else b\n",
    "print(\"small one:-\",c)"
   ]
  },
  {
   "cell_type": "code",
   "execution_count": 38,
   "id": "e14b331f",
   "metadata": {},
   "outputs": [],
   "source": [
    "#The 'is' is known as the identity operator. The '==' is known as the equality operator\n",
    "# 'is' is used check wheather two variable pointing to same object or not bt '==' is use for two variable have same value or not\n",
    "a=10\n",
    "b=43\n",
    "c=10"
   ]
  },
  {
   "cell_type": "code",
   "execution_count": 39,
   "id": "2ad6f34d",
   "metadata": {},
   "outputs": [
    {
     "data": {
      "text/plain": [
       "140709158949960"
      ]
     },
     "execution_count": 39,
     "metadata": {},
     "output_type": "execute_result"
    }
   ],
   "source": [
    "id(a)"
   ]
  },
  {
   "cell_type": "code",
   "execution_count": 40,
   "id": "c079321e",
   "metadata": {},
   "outputs": [
    {
     "data": {
      "text/plain": [
       "140709158951016"
      ]
     },
     "execution_count": 40,
     "metadata": {},
     "output_type": "execute_result"
    }
   ],
   "source": [
    "id(b)"
   ]
  },
  {
   "cell_type": "code",
   "execution_count": 41,
   "id": "26807d0b",
   "metadata": {},
   "outputs": [
    {
     "data": {
      "text/plain": [
       "140709158949960"
      ]
     },
     "execution_count": 41,
     "metadata": {},
     "output_type": "execute_result"
    }
   ],
   "source": [
    "id(c)"
   ]
  },
  {
   "cell_type": "code",
   "execution_count": 44,
   "id": "fd53d9bb",
   "metadata": {},
   "outputs": [
    {
     "data": {
      "text/plain": [
       "True"
      ]
     },
     "execution_count": 44,
     "metadata": {},
     "output_type": "execute_result"
    }
   ],
   "source": [
    "# id(a) is id(c) [not correct]\n",
    "a is c"
   ]
  },
  {
   "cell_type": "code",
   "execution_count": 43,
   "id": "73922413",
   "metadata": {},
   "outputs": [
    {
     "data": {
      "text/plain": [
       "True"
      ]
     },
     "execution_count": 43,
     "metadata": {},
     "output_type": "execute_result"
    }
   ],
   "source": [
    "id(a)== id(c)"
   ]
  },
  {
   "cell_type": "code",
   "execution_count": 45,
   "id": "3754b27e",
   "metadata": {},
   "outputs": [],
   "source": [
    "#\"in\" is known as membership operator in python\n",
    "#it returns \"True\" if the given thing present in the object other wise it returne \"False\"\n",
    "s=\"pankaj sir welcome to my world\""
   ]
  },
  {
   "cell_type": "code",
   "execution_count": 46,
   "id": "d2e56476",
   "metadata": {},
   "outputs": [
    {
     "data": {
      "text/plain": [
       "True"
      ]
     },
     "execution_count": 46,
     "metadata": {},
     "output_type": "execute_result"
    }
   ],
   "source": [
    "\"pankaj\" in s"
   ]
  },
  {
   "cell_type": "code",
   "execution_count": 47,
   "id": "10e51db9",
   "metadata": {},
   "outputs": [
    {
     "name": "stdout",
     "output_type": "stream",
     "text": [
      "hello\n",
      "\n",
      "\n",
      "HELLO\n"
     ]
    }
   ],
   "source": [
    "print(\"hello\")\n",
    "print()\n",
    "print()\n",
    "print(\"HELLO\")\n",
    "#print() function by default carry \\n\n",
    "#sep keyword use for define separator"
   ]
  },
  {
   "cell_type": "code",
   "execution_count": 49,
   "id": "eb87a10c",
   "metadata": {},
   "outputs": [
    {
     "name": "stdout",
     "output_type": "stream",
     "text": [
      "hello ravi teja "
     ]
    }
   ],
   "source": [
    "print(\"hello\",end=' ')\n",
    "print(\"ravi\",end=' ')\n",
    "print(\"teja\",end=' ')\n"
   ]
  },
  {
   "cell_type": "code",
   "execution_count": null,
   "id": "a8df12f2",
   "metadata": {},
   "outputs": [],
   "source": []
  }
 ],
 "metadata": {
  "kernelspec": {
   "display_name": "Python 3 (ipykernel)",
   "language": "python",
   "name": "python3"
  },
  "language_info": {
   "codemirror_mode": {
    "name": "ipython",
    "version": 3
   },
   "file_extension": ".py",
   "mimetype": "text/x-python",
   "name": "python",
   "nbconvert_exporter": "python",
   "pygments_lexer": "ipython3",
   "version": "3.11.5"
  }
 },
 "nbformat": 4,
 "nbformat_minor": 5
}
