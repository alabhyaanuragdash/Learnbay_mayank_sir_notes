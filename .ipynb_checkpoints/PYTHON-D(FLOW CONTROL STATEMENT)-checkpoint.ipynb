{
 "cells": [
  {
   "cell_type": "markdown",
   "id": "6b680dc0",
   "metadata": {},
   "source": [
    "# FLOW CONTROL STATEMENT"
   ]
  },
  {
   "cell_type": "markdown",
   "id": "e3878012",
   "metadata": {},
   "source": [
    "(if,if...else,if...elif..else)"
   ]
  },
  {
   "cell_type": "code",
   "execution_count": 5,
   "id": "92c499c1",
   "metadata": {},
   "outputs": [],
   "source": [
    "\"\"\"if stastement\n",
    " if 'condition' : statement\n",
    " if condition\n",
    "     s1\n",
    "     s2\n",
    "     s3\"\"\""
   ]
  },
  {
   "cell_type": "code",
   "execution_count": 4,
   "id": "e7534e41",
   "metadata": {},
   "outputs": [
    {
     "name": "stdout",
     "output_type": "stream",
     "text": [
      "enter a number:-12\n",
      "even\n"
     ]
    }
   ],
   "source": [
    "#Take a inpute from user and cheak even\n",
    "a=int(input(\"enter a number:-\"))\n",
    "if(a%2==0) :print(\"even\")"
   ]
  },
  {
   "cell_type": "code",
   "execution_count": 6,
   "id": "2e57627a",
   "metadata": {},
   "outputs": [],
   "source": [
    "\"\"\" if else statement\n",
    "\n",
    " if condition :\n",
    "     s1\n",
    " else \n",
    "     s2\n",
    "\"\"\""
   ]
  },
  {
   "cell_type": "code",
   "execution_count": 7,
   "id": "554619ac",
   "metadata": {},
   "outputs": [
    {
     "name": "stdout",
     "output_type": "stream",
     "text": [
      "enter a number:-13\n",
      "odd\n"
     ]
    }
   ],
   "source": [
    "#Take a inpute from user and cheak even or odd\n",
    "a=int(input(\"enter a number:-\"))\n",
    "if(a%2==0) :\n",
    "    print(\"even\")\n",
    "else:\n",
    "    print(\"odd\")"
   ]
  },
  {
   "cell_type": "code",
   "execution_count": 8,
   "id": "9d4a0857",
   "metadata": {},
   "outputs": [
    {
     "data": {
      "text/plain": [
       "'\\nelif statement\\n\\n if condition1 :\\n     s1\\n elif condition2 : \\n     s2\\n elif condition3 : \\n     s3\\n elif condition4 : \\n     s4\\n else : \\n     s5\\n'"
      ]
     },
     "execution_count": 8,
     "metadata": {},
     "output_type": "execute_result"
    }
   ],
   "source": [
    "\"\"\"\n",
    "elif statement\n",
    "\n",
    " if condition1 :\n",
    "     s1\n",
    " elif condition2 : \n",
    "     s2\n",
    " elif condition3 : \n",
    "     s3\n",
    " elif condition4 : \n",
    "     s4\n",
    " else : \n",
    "     default running code\n",
    "\"\"\""
   ]
  },
  {
   "cell_type": "code",
   "execution_count": 13,
   "id": "a54ee054",
   "metadata": {},
   "outputs": [
    {
     "name": "stdout",
     "output_type": "stream",
     "text": [
      "enter ur college yr:-3\n",
      "krna hai\n"
     ]
    }
   ],
   "source": [
    "#Enter ur college yr  in integer\n",
    "a=int(input(\"enter ur college yr:-\"))\n",
    "if a==1 :\n",
    "    print(\"enjoy\")\n",
    "elif a==2 :\n",
    "    print(\"socho\")\n",
    "elif a==3 :\n",
    "    print(\"krna hai\")\n",
    "else :\n",
    "    print(\"gaya\")"
   ]
  },
  {
   "cell_type": "code",
   "execution_count": 12,
   "id": "d51499eb",
   "metadata": {},
   "outputs": [
    {
     "name": "stdout",
     "output_type": "stream",
     "text": [
      "Enter a year in integer:-2034\n",
      "not\n"
     ]
    }
   ],
   "source": [
    "# enter a year and check weather it is leaf yr or not\n",
    "year=int(input(\"Enter a year in integer:-\"))\n",
    "if year%100==0 :\n",
    "    if year%400==0 :\n",
    "        print(\"leaf yr\")\n",
    "    else :\n",
    "        print(\"not\")\n",
    "elif year%4==0 :\n",
    "    print(\"leaf yr\")\n",
    "else :\n",
    "    print(\"not\")"
   ]
  },
  {
   "cell_type": "code",
   "execution_count": 16,
   "id": "ffd3ae81",
   "metadata": {},
   "outputs": [
    {
     "name": "stdout",
     "output_type": "stream",
     "text": [
      "enter 1st distinct no :-12\n",
      "enter 2nd distinct no :-13\n",
      "enter 3rd distinct no :-14\n",
      "14 is maximum\n"
     ]
    }
   ],
   "source": [
    "#find maximum among 3 distinct no\n",
    "a=int(input(\"enter 1st distinct no :-\"))\n",
    "b=int(input(\"enter 2nd distinct no :-\"))\n",
    "c=int(input(\"enter 3rd distinct no :-\"))\n",
    "if a>b & a>c :\n",
    "    print(a,\"is maximum\")\n",
    "elif b>c :\n",
    "    print(b,\"is maximum\")\n",
    "else :\n",
    "    print(c,\"is maximum\")"
   ]
  },
  {
   "cell_type": "code",
   "execution_count": null,
   "id": "21ea5b01",
   "metadata": {},
   "outputs": [],
   "source": []
  }
 ],
 "metadata": {
  "kernelspec": {
   "display_name": "Python 3 (ipykernel)",
   "language": "python",
   "name": "python3"
  },
  "language_info": {
   "codemirror_mode": {
    "name": "ipython",
    "version": 3
   },
   "file_extension": ".py",
   "mimetype": "text/x-python",
   "name": "python",
   "nbconvert_exporter": "python",
   "pygments_lexer": "ipython3",
   "version": "3.11.5"
  }
 },
 "nbformat": 4,
 "nbformat_minor": 5
}
