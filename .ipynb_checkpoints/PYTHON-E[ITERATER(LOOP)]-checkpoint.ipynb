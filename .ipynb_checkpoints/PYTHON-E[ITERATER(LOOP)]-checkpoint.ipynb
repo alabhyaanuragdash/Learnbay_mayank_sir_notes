{
 "cells": [
  {
   "cell_type": "markdown",
   "id": "eca79da8",
   "metadata": {},
   "source": [
    "# ITERATER(LOOP)"
   ]
  },
  {
   "cell_type": "markdown",
   "id": "af3efa61",
   "metadata": {},
   "source": [
    "(FOR LOOP , WHILE LOOP)"
   ]
  },
  {
   "cell_type": "code",
   "execution_count": 1,
   "id": "f9510538",
   "metadata": {},
   "outputs": [
    {
     "name": "stdout",
     "output_type": "stream",
     "text": [
      "p\n",
      "a\n",
      "n\n",
      "k\n",
      "a\n",
      "j\n"
     ]
    }
   ],
   "source": [
    "\"\"\"\n",
    "=> iterater or loop in python used for exicuting a specific code for multi times\n",
    "=> two types of loop used in python i.e.:- 1.for\n",
    "                                           2.while\n",
    "=>syntax:-\n",
    "            for var in sequence(set,list,tuple,dic,sting,range) :\n",
    "                *code*\n",
    "\"\"\"\n",
    "for x in 'pankaj':\n",
    "    print(x)"
   ]
  },
  {
   "cell_type": "code",
   "execution_count": 2,
   "id": "e2049226",
   "metadata": {},
   "outputs": [
    {
     "name": "stdout",
     "output_type": "stream",
     "text": [
      "index 0 is p\n",
      "index 1 is a\n",
      "index 2 is n\n",
      "index 3 is k\n",
      "index 4 is a\n",
      "index 5 is j\n"
     ]
    }
   ],
   "source": [
    "i=0\n",
    "for x in 'pankaj':\n",
    "    print(\"index\",i,\"is\",x)\n",
    "    i=i+1"
   ]
  },
  {
   "cell_type": "code",
   "execution_count": 3,
   "id": "bc8406b8",
   "metadata": {},
   "outputs": [
    {
     "name": "stdout",
     "output_type": "stream",
     "text": [
      "pankaj\n",
      "pankaj\n",
      "pankaj\n",
      "pankaj\n",
      "pankaj\n"
     ]
    }
   ],
   "source": [
    "for i in range(5):\n",
    "    print('pankaj')"
   ]
  },
  {
   "cell_type": "code",
   "execution_count": 4,
   "id": "c449213d",
   "metadata": {},
   "outputs": [
    {
     "name": "stdout",
     "output_type": "stream",
     "text": [
      "1\n",
      "3\n",
      "5\n",
      "7\n",
      "9\n",
      "11\n",
      "13\n",
      "15\n",
      "17\n",
      "19\n",
      "21\n",
      "23\n",
      "25\n",
      "27\n",
      "29\n",
      "31\n",
      "33\n",
      "35\n",
      "37\n",
      "39\n",
      "41\n",
      "43\n",
      "45\n",
      "47\n",
      "49\n",
      "51\n",
      "53\n",
      "55\n",
      "57\n",
      "59\n",
      "61\n",
      "63\n",
      "65\n",
      "67\n",
      "69\n",
      "71\n",
      "73\n",
      "75\n",
      "77\n",
      "79\n",
      "81\n",
      "83\n",
      "85\n",
      "87\n",
      "89\n",
      "91\n",
      "93\n",
      "95\n",
      "97\n",
      "99\n",
      "101\n",
      "103\n",
      "105\n",
      "107\n",
      "109\n"
     ]
    }
   ],
   "source": [
    "for i in range(1,110,2):\n",
    "    print(i)"
   ]
  },
  {
   "cell_type": "code",
   "execution_count": 5,
   "id": "35773016",
   "metadata": {},
   "outputs": [
    {
     "name": "stdout",
     "output_type": "stream",
     "text": [
      "120\n"
     ]
    }
   ],
   "source": [
    "#find the product of first 5 no\n",
    "prod=1\n",
    "for x in range(1,6):\n",
    "    prod=prod*x\n",
    "print(prod)"
   ]
  },
  {
   "cell_type": "code",
   "execution_count": 12,
   "id": "010c0910",
   "metadata": {},
   "outputs": [
    {
     "name": "stdout",
     "output_type": "stream",
     "text": [
      "15\n"
     ]
    }
   ],
   "source": [
    "#write down a list and sum up all the integer in it\n",
    "sum=0\n",
    "l=[1,2,3,4,5]\n",
    "for x in l:\n",
    "    sum=sum+x\n",
    "print(sum)"
   ]
  },
  {
   "cell_type": "code",
   "execution_count": 15,
   "id": "0c8d4b38",
   "metadata": {},
   "outputs": [
    {
     "name": "stdout",
     "output_type": "stream",
     "text": [
      "enter the sequence{1,2,3,4,5}\n",
      "<class 'set'>\n",
      "15\n"
     ]
    }
   ],
   "source": [
    "#eval() use for read sequence\n",
    "sum=0\n",
    "l=eval(input(\"enter the sequence\"))\n",
    "print(type(l))\n",
    "for x in l:\n",
    "    sum=sum+x\n",
    "print(sum)"
   ]
  },
  {
   "cell_type": "code",
   "execution_count": 16,
   "id": "5b23ea42",
   "metadata": {},
   "outputs": [
    {
     "name": "stdout",
     "output_type": "stream",
     "text": [
      "enter the sequence[1,2,3,4,5]\n",
      "<class 'list'>\n",
      "15\n"
     ]
    }
   ],
   "source": [
    "#eval() use for read sequence\n",
    "sum=0\n",
    "l=eval(input(\"enter the sequence\"))\n",
    "print(type(l))\n",
    "for x in l:\n",
    "    sum=sum+x\n",
    "print(sum)"
   ]
  },
  {
   "cell_type": "code",
   "execution_count": 1,
   "id": "a2958a6d",
   "metadata": {},
   "outputs": [
    {
     "name": "stdout",
     "output_type": "stream",
     "text": [
      "enter the sequence(1,2,3,4,5)\n",
      "<class 'tuple'>\n",
      "15\n"
     ]
    }
   ],
   "source": [
    "#eval() use for read sequence\n",
    "sum=0\n",
    "l=eval(input(\"enter the sequence\"))\n",
    "print(type(l))\n",
    "for x in l:\n",
    "    sum=sum+x\n",
    "print(sum)"
   ]
  },
  {
   "cell_type": "code",
   "execution_count": 3,
   "id": "d78b8c62",
   "metadata": {},
   "outputs": [
    {
     "name": "stdout",
     "output_type": "stream",
     "text": [
      "enter a number12\n",
      "no, not prime\n"
     ]
    }
   ],
   "source": [
    "\n",
    "#prime number\n",
    "n=int(input(\"enter a number\"))\n",
    "c=0\n",
    "for x in range(1,n+1):\n",
    "    if n%x==0:\n",
    "        c=c+1\n",
    "if c==2:\n",
    "    print(\"yes,prime\")\n",
    "else:\n",
    "    print(\"no, not prime\")\n",
    "    "
   ]
  },
  {
   "cell_type": "code",
   "execution_count": 4,
   "id": "550e4f0b",
   "metadata": {},
   "outputs": [
    {
     "name": "stdout",
     "output_type": "stream",
     "text": [
      "enter a number5\n",
      "yes,prime\n"
     ]
    }
   ],
   "source": [
    "\n",
    "#prime number\n",
    "n=int(input(\"enter a number\"))\n",
    "c=0\n",
    "for x in range(1,n+1):\n",
    "    if n%x==0:\n",
    "        c=c+1\n",
    "if c==2:\n",
    "    print(\"yes,prime\")\n",
    "else:\n",
    "    print(\"no, not prime\")"
   ]
  },
  {
   "cell_type": "code",
   "execution_count": 6,
   "id": "1fb7cd01",
   "metadata": {},
   "outputs": [
    {
     "name": "stdout",
     "output_type": "stream",
     "text": [
      "enter a number12\n",
      "1\n",
      "2\n",
      "3\n",
      "4\n",
      "6\n",
      "12\n"
     ]
    }
   ],
   "source": [
    "#program for print all the factor of a no n>0\n",
    "n=int(input(\"enter a number\"))\n",
    "for x in range(1,n+1):\n",
    "    if n%x==0:\n",
    "     print(x)\n",
    "    "
   ]
  },
  {
   "cell_type": "code",
   "execution_count": 11,
   "id": "931db7b0",
   "metadata": {},
   "outputs": [
    {
     "name": "stdout",
     "output_type": "stream",
     "text": [
      "enter a number:-12\n",
      "[1, 2, 3, 4, 6, 12]\n"
     ]
    }
   ],
   "source": [
    "#program for push the factor to a list\n",
    "n=int(input(\"enter a number:-\"))\n",
    "l=[]#empty list\n",
    "for i in range(1,n+1):\n",
    "    if n%i==0:\n",
    "        l.append(i)\n",
    "print(l)"
   ]
  },
  {
   "cell_type": "code",
   "execution_count": 19,
   "id": "38964667",
   "metadata": {},
   "outputs": [
    {
     "name": "stdout",
     "output_type": "stream",
     "text": [
      "enter a number:-6\n",
      "perfect no\n"
     ]
    }
   ],
   "source": [
    "#perfect number\n",
    "n=int(input(\"enter a number:-\"))\n",
    "sum=0\n",
    "for i in range(1,n):\n",
    "    if n%i==0:\n",
    "        sum=sum+i\n",
    "        \n",
    "if n==sum:\n",
    "    print(\"perfect no\")\n",
    "else:\n",
    "    print(\"not perfect no.\")"
   ]
  },
  {
   "cell_type": "code",
   "execution_count": 22,
   "id": "268278fc",
   "metadata": {},
   "outputs": [
    {
     "name": "stdout",
     "output_type": "stream",
     "text": [
      "Enter a number:-456\n",
      "15\n"
     ]
    }
   ],
   "source": [
    "#to print the sum of the digit in a positive no\n",
    "n=int(input(\"Enter a number:-\"))\n",
    "sum=0\n",
    "while n>0:\n",
    "    sum=(n%10)+sum\n",
    "    n=n//10\n",
    "print(sum)\n",
    "    "
   ]
  },
  {
   "cell_type": "code",
   "execution_count": 2,
   "id": "11b53944",
   "metadata": {},
   "outputs": [
    {
     "name": "stdout",
     "output_type": "stream",
     "text": [
      "Enter a number:-5\n",
      "Factorial of 5 is 120\n"
     ]
    }
   ],
   "source": [
    "#factorial of a number(n!)\n",
    "n=int(input(\"Enter a number:-\"))\n",
    "prod=1\n",
    "for x in range(1,n+1):\n",
    "    prod=prod*x\n",
    "print(\"Factorial of\",n,\"is\",prod)"
   ]
  },
  {
   "cell_type": "code",
   "execution_count": 8,
   "id": "9bd2520c",
   "metadata": {},
   "outputs": [
    {
     "name": "stdout",
     "output_type": "stream",
     "text": [
      "Enter a number:-145\n",
      "Strong number\n"
     ]
    }
   ],
   "source": [
    "#Strong number is a special number whose sum of the factorial of digits is equal to the original number.\n",
    "#For Example: 145 is strong number. Since, 1! + 4! + 5!\n",
    "n=int(input(\"Enter a number:-\"))\n",
    "copy=n\n",
    "sum=0\n",
    "while n>0: \n",
    "    i=n%10\n",
    "    prod=1\n",
    "    for j in range(1,i+1):\n",
    "        prod=prod*j\n",
    "    sum=sum+prod\n",
    "    n=n//10\n",
    "if copy==sum:\n",
    "    print(\"Strong number\")\n",
    "else :\n",
    "    print(\"Not strong number\")\n",
    "\n",
    "        "
   ]
  },
  {
   "cell_type": "code",
   "execution_count": 12,
   "id": "ce7cb3c3",
   "metadata": {},
   "outputs": [
    {
     "name": "stdout",
     "output_type": "stream",
     "text": [
      "Enter a Number153\n",
      "153 IS Armstrong Number\n"
     ]
    }
   ],
   "source": [
    "#Armstrong Number\n",
    "n=int(input(\"Enter a Number\"))\n",
    "sum=0\n",
    "copy=n\n",
    "while n!=0:\n",
    "    x=n%10\n",
    "    y=x**3\n",
    "    sum=sum+y\n",
    "    n=n//10\n",
    "if(sum==copy):\n",
    "    print(copy,\"IS Armstrong Number\")\n",
    "else:\n",
    "    print(copy,\"IS not a Armstrong Number\")\n"
   ]
  },
  {
   "cell_type": "code",
   "execution_count": null,
   "id": "603150bd",
   "metadata": {},
   "outputs": [],
   "source": [
    "#find the no of digit present in a positive no\n",
    "n=int(input(\"Enter the number:-\"))\n",
    "count=0\n",
    "while n!=0:\n",
    "    n=n//10\n",
    "    count=count+1\n",
    "print(count)"
   ]
  },
  {
   "cell_type": "code",
   "execution_count": 1,
   "id": "6a903706",
   "metadata": {},
   "outputs": [
    {
     "name": "stdout",
     "output_type": "stream",
     "text": [
      "Enter the number:-1245\n",
      "4\n"
     ]
    }
   ],
   "source": [
    "#find the no of digit present in a positive no\n",
    "n=int(input(\"Enter the number:-\"))\n",
    "c=0\n",
    "while n!=0:\n",
    "    n=n//10\n",
    "    c=c+1\n",
    "print(c)"
   ]
  },
  {
   "cell_type": "code",
   "execution_count": 2,
   "id": "de8bcb5b",
   "metadata": {},
   "outputs": [
    {
     "data": {
      "text/plain": [
       "\"\\nContinue: The 'continue' statement in Python is used to skip the remaining code inside a loop for the current iteration only.\\nBREAK: =>In Python, break allows you to exit a loop when an external condition is met.\\n       =>Normal program execution resumes at the next statement. \\n       =>You can use a break statement with both for loops and while loops. \\n       =>In a nested loop, break will stop execution of the innermost loop.\\n\""
      ]
     },
     "execution_count": 2,
     "metadata": {},
     "output_type": "execute_result"
    }
   ],
   "source": [
    "\"\"\"\n",
    "Continue: The 'continue' statement in Python is used to skip the remaining code inside a loop for the current iteration only.\n",
    "BREAK: =>In Python, break allows you to exit a loop when an external condition is met.\n",
    "       =>Normal program execution resumes at the next statement. \n",
    "       =>You can use a break statement with both for loops and while loops. \n",
    "       =>In a nested loop, break will stop execution of the innermost loop.\n",
    "\"\"\""
   ]
  },
  {
   "cell_type": "code",
   "execution_count": null,
   "id": "e2d211c1",
   "metadata": {},
   "outputs": [],
   "source": []
  }
 ],
 "metadata": {
  "kernelspec": {
   "display_name": "Python 3 (ipykernel)",
   "language": "python",
   "name": "python3"
  },
  "language_info": {
   "codemirror_mode": {
    "name": "ipython",
    "version": 3
   },
   "file_extension": ".py",
   "mimetype": "text/x-python",
   "name": "python",
   "nbconvert_exporter": "python",
   "pygments_lexer": "ipython3",
   "version": "3.11.5"
  }
 },
 "nbformat": 4,
 "nbformat_minor": 5
}
