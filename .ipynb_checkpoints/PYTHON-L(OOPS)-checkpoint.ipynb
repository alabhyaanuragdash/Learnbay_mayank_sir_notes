{
 "cells": [
  {
   "cell_type": "markdown",
   "id": "b0ff408e",
   "metadata": {},
   "source": [
    "# OOPS(OBJECT ORIENTED PROGRAMMING LANGUAGE)"
   ]
  },
  {
   "cell_type": "code",
   "execution_count": 1,
   "id": "3dc6cdad",
   "metadata": {},
   "outputs": [],
   "source": [
    "#Python is an object oriented programming language.\n",
    "#Almost everything in Python is an object, with its properties and methods.\n",
    "#A Class is like an object constructor, or a \"blueprint\" for creating objects.\n",
    "#more likely we can say that:-\n",
    "                            #class is like a blue print\n",
    "                            #object is like the practical things(or emplementation)\n",
    "                            #properties are variable\n",
    "                            #actions are method\n",
    "                \n",
    "                \n",
    "#To create a class, use the keyword \"class:\"\n",
    "class myClass:\n",
    "    int=5"
   ]
  },
  {
   "cell_type": "code",
   "execution_count": 2,
   "id": "75301b05",
   "metadata": {},
   "outputs": [],
   "source": [
    "# in variable their are 3 type of variable present i.e. :-\n",
    "                                                        #instant==>value differ form object to object\n",
    "                                                        #static==>value is same for all the object(also known as class-level variable)\n",
    "                                                        #local==>use for temp period\n",
    "#we can't print the object directly that's why we need some reference(for Ex:-we can't directly print 10 we have to do \"a=10\" then we can print \"a\"  which is refering 10  )\n"
   ]
  },
  {
   "cell_type": "code",
   "execution_count": 15,
   "id": "94c7605d",
   "metadata": {},
   "outputs": [
    {
     "name": "stdout",
     "output_type": "stream",
     "text": [
      "2256188881296\n",
      "constructor exicuted\n",
      "2256188881296\n",
      "2256188887184\n",
      "constructor exicuted\n",
      "2256188887184\n"
     ]
    }
   ],
   "source": [
    "class teacher:\n",
    "    def __init__(self):\n",
    "        print(id(self))\n",
    "        self.name=\"pankaj\"\n",
    "        self.age=41\n",
    "        print(\"constructor exicuted\")\n",
    "    def display(self):\n",
    "        print(self.name)\n",
    "        print(self.age)\n",
    "t1=teacher()\n",
    "print(id(t1))\n",
    "t2=teacher()\n",
    "print(id(t2))"
   ]
  },
  {
   "cell_type": "code",
   "execution_count": 3,
   "id": "56aa6dd4",
   "metadata": {},
   "outputs": [
    {
     "data": {
      "text/plain": [
       "' def __init__(self):\\n        self.name=\"pankaj\"\\n        self.age=41\\n'"
      ]
     },
     "execution_count": 3,
     "metadata": {},
     "output_type": "execute_result"
    }
   ],
   "source": [
    "#here:-(this section is known as constructor)\n",
    "\"\"\" def __init__(self):\n",
    "        self.name=\"pankaj\"\n",
    "        self.age=41\n",
    "\"\"\"\n",
    "# constructor:-to declare & initialising object(instance)\n",
    "# whenever a object is created the constructor is automatically executed\n",
    "#for each object constructor exicuted one time\n",
    "# here \"self\" referse to current object\n",
    "# self.name & self.age are instance variable"
   ]
  },
  {
   "cell_type": "code",
   "execution_count": 10,
   "id": "83559c49",
   "metadata": {},
   "outputs": [
    {
     "name": "stdout",
     "output_type": "stream",
     "text": [
      "pankaj\n",
      "41\n"
     ]
    }
   ],
   "source": [
    "t.display()"
   ]
  },
  {
   "cell_type": "code",
   "execution_count": 17,
   "id": "5f405768",
   "metadata": {},
   "outputs": [],
   "source": [
    "class teacher:\n",
    "    institute=\"pw\"\n",
    "    def __init__(self):\n",
    "        self.name='pankaj'\n",
    "        self.age=41"
   ]
  },
  {
   "cell_type": "code",
   "execution_count": 20,
   "id": "e1eeadcc",
   "metadata": {},
   "outputs": [
    {
     "name": "stdout",
     "output_type": "stream",
     "text": [
      "pw\n"
     ]
    }
   ],
   "source": [
    "print(teacher.institute)# this one is better bcz institute is a class leveled variable(class_name.static_variable)"
   ]
  },
  {
   "cell_type": "code",
   "execution_count": 19,
   "id": "a106ed71",
   "metadata": {},
   "outputs": [
    {
     "name": "stdout",
     "output_type": "stream",
     "text": [
      "pw\n"
     ]
    }
   ],
   "source": [
    "t=teacher()\n",
    "print(t.institute)"
   ]
  },
  {
   "cell_type": "code",
   "execution_count": 22,
   "id": "3c387b0a",
   "metadata": {},
   "outputs": [],
   "source": [
    "# in python their are 3 type of method present i.e. :-\n",
    "        #instant==>if some method using instant variable then it called instance method(object related method)\n",
    "                #ex:-\n",
    "       # \"\"\"def display(self):\n",
    "        #        print(self.name)\n",
    "        #        print(self.age)\n",
    "        #\"\"\"\n",
    "        \n",
    "      #clasic==>if some method using static variable then it called clasic method(class related method)\n",
    "      #for class there is a class level object has been create for store class related info\n",
    "      # so here cls is used as reference\n",
    "                #ex:-\n",
    "        \n",
    "       # @classmethod\n",
    "       # def display_clssinfo(cls):\n",
    "       #         print(cls.institute)\n",
    "   \n",
    "\n",
    "\n",
    "      #static==>in general porposed function is known as static method(it don't have instance or static variable)"
   ]
  },
  {
   "cell_type": "code",
   "execution_count": 30,
   "id": "cb6bf506",
   "metadata": {},
   "outputs": [
    {
     "name": "stdout",
     "output_type": "stream",
     "text": [
      "2256155566288\n"
     ]
    }
   ],
   "source": [
    "class teacher:\n",
    "    @classmethod\n",
    "    def fun(cls):\n",
    "         print(id(cls))\n",
    "print(id(teacher))"
   ]
  },
  {
   "cell_type": "code",
   "execution_count": 33,
   "id": "7a320f6e",
   "metadata": {},
   "outputs": [
    {
     "name": "stdout",
     "output_type": "stream",
     "text": [
      "2256155566288\n"
     ]
    }
   ],
   "source": [
    "teacher.fun()"
   ]
  },
  {
   "cell_type": "code",
   "execution_count": null,
   "id": "003c2daf",
   "metadata": {},
   "outputs": [],
   "source": []
  }
 ],
 "metadata": {
  "kernelspec": {
   "display_name": "Python 3 (ipykernel)",
   "language": "python",
   "name": "python3"
  },
  "language_info": {
   "codemirror_mode": {
    "name": "ipython",
    "version": 3
   },
   "file_extension": ".py",
   "mimetype": "text/x-python",
   "name": "python",
   "nbconvert_exporter": "python",
   "pygments_lexer": "ipython3",
   "version": "3.11.5"
  }
 },
 "nbformat": 4,
 "nbformat_minor": 5
}
